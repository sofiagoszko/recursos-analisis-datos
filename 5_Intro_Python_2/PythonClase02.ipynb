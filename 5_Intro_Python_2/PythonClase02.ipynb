{
  "nbformat": 4,
  "nbformat_minor": 0,
  "metadata": {
    "colab": {
      "provenance": [],
      "toc_visible": true
    },
    "kernelspec": {
      "name": "python3",
      "display_name": "Python 3"
    },
    "language_info": {
      "name": "python"
    }
  },
  "cells": [
    {
      "cell_type": "code",
      "execution_count": null,
      "metadata": {
        "id": "64EdgvPH572a"
      },
      "outputs": [],
      "source": []
    },
    {
      "cell_type": "markdown",
      "source": [
        "# Clase 2 Python"
      ],
      "metadata": {
        "id": "YtMu1owl6PDl"
      }
    },
    {
      "cell_type": "markdown",
      "source": [
        "## IF ELSE ELIF\n",
        "\n",
        "Veamos diferentes ejemplos para aprender a utilizar if, else y elif\n",
        "\n",
        "\n",
        "**if** `primerTerminoDeLaConsulta` `laPregunta` `segundoTerminoDeLaConsulta`**:**"
      ],
      "metadata": {
        "id": "jMsc5ZO16YyQ"
      }
    },
    {
      "cell_type": "markdown",
      "source": [
        "### Ejercicio 1.0\n",
        "\n",
        "Nuestro primer ejemplo básico de if"
      ],
      "metadata": {
        "id": "8pTkwsOV6l3u"
      }
    },
    {
      "cell_type": "code",
      "source": [
        "numero_de_prueba = 2 #creo la variable\n",
        "\n",
        "if numero_de_prueba > 0: #defino mi if\n",
        "  print(\"El número ingresado es mayor a 0\") #solo se ejecuta este código al cumplirse la condición de arriba\n"
      ],
      "metadata": {
        "colab": {
          "base_uri": "https://localhost:8080/"
        },
        "id": "mcjVTY5r6sis",
        "outputId": "ec6bbec1-c584-455a-f923-8d03cc0d8d75"
      },
      "execution_count": null,
      "outputs": [
        {
          "output_type": "stream",
          "name": "stdout",
          "text": [
            "El número ingresado es mayor a 0\n"
          ]
        }
      ]
    },
    {
      "cell_type": "markdown",
      "source": [
        "### Ejercicio 1.1\n",
        "\n",
        "Hagamos un ejercicio similar, mostrando un mensaje cuando la edad ingresada sea mayor o igual a 18 años"
      ],
      "metadata": {
        "id": "dW_pTYpT8OiD"
      }
    },
    {
      "cell_type": "code",
      "source": [
        "edad_ingresada = 20\n",
        "mayoria_de_edad = 18\n",
        "\n",
        "if edad_ingresada >= mayoria_de_edad: #if 20 >= 18\n",
        "  print(\"Usted es mayor de edad\")"
      ],
      "metadata": {
        "colab": {
          "base_uri": "https://localhost:8080/"
        },
        "id": "NGxBk1ia8ZvY",
        "outputId": "c3024203-a6a0-49bc-8838-0ea9313f4d39"
      },
      "execution_count": null,
      "outputs": [
        {
          "output_type": "stream",
          "name": "stdout",
          "text": [
            "Usted es mayor de edad\n"
          ]
        }
      ]
    },
    {
      "cell_type": "markdown",
      "source": [
        "### Ejercicio 1.2\n",
        "\n",
        "Agregremos un mensaje cuando la edad ingresada no supere la edad necesaria para votar"
      ],
      "metadata": {
        "id": "G2ijc5JY9gQY"
      }
    },
    {
      "cell_type": "code",
      "source": [
        "edad_votante = 15\n",
        "edad_minima_votante = 16\n",
        "\n",
        "if edad_votante >= edad_minima_votante:\n",
        "  print(\"Usted puede votar\")\n",
        "else:\n",
        "  print(\"Usted NO tiene edad necesaria para votar\")"
      ],
      "metadata": {
        "colab": {
          "base_uri": "https://localhost:8080/"
        },
        "id": "Zz-QJwgO83F6",
        "outputId": "de588130-5650-4f66-9201-7953f009f39a"
      },
      "execution_count": null,
      "outputs": [
        {
          "output_type": "stream",
          "name": "stdout",
          "text": [
            "Usted NO tiene edad necesaria para votar\n"
          ]
        }
      ]
    },
    {
      "cell_type": "markdown",
      "source": [
        "### Ejercicio 1.3\n",
        "\n",
        "Utilizamos booleanos con if, los booleanos solo tienen 2 posibilidades:\n",
        "\n",
        "- verdadero -> **True**\n",
        "- falso -> **False**\n",
        "\n"
      ],
      "metadata": {
        "id": "4aDhQNOp-jAd"
      }
    },
    {
      "cell_type": "code",
      "source": [
        "profesor_activo = False\n",
        "\n",
        "profesor_activo, type(profesor_activo)"
      ],
      "metadata": {
        "colab": {
          "base_uri": "https://localhost:8080/"
        },
        "id": "_St1WUNx-_9q",
        "outputId": "72b9c8d1-15cc-4277-baa5-724d0bc719a8"
      },
      "execution_count": null,
      "outputs": [
        {
          "output_type": "execute_result",
          "data": {
            "text/plain": [
              "(False, bool)"
            ]
          },
          "metadata": {},
          "execution_count": 18
        }
      ]
    },
    {
      "cell_type": "code",
      "source": [
        "profesor_activo = False\n",
        "\n",
        "if profesor_activo == True:\n",
        "  print(\"Bienvenido a la plataforma de Alkemy\")\n",
        "else:\n",
        "  print(\"Contáctese con soporte para profesores\")"
      ],
      "metadata": {
        "colab": {
          "base_uri": "https://localhost:8080/"
        },
        "id": "AJMqnlKI_Mt2",
        "outputId": "09719277-084f-4de7-8b05-3dcb4d99b09f"
      },
      "execution_count": null,
      "outputs": [
        {
          "output_type": "stream",
          "name": "stdout",
          "text": [
            "Contáctese con soporte para profesores\n"
          ]
        }
      ]
    },
    {
      "cell_type": "code",
      "source": [
        "profesor_activo = True #aca defino mi variable\n",
        "\n",
        "profesor_activo == True #pruebo la igualdad"
      ],
      "metadata": {
        "colab": {
          "base_uri": "https://localhost:8080/"
        },
        "id": "i0SwIZx6_x_0",
        "outputId": "cc535db7-bf81-489c-ad58-2e47531fc904"
      },
      "execution_count": null,
      "outputs": [
        {
          "output_type": "execute_result",
          "data": {
            "text/plain": [
              "True"
            ]
          },
          "metadata": {},
          "execution_count": 22
        }
      ]
    },
    {
      "cell_type": "code",
      "source": [
        "profesor_activo = True\n",
        "\n",
        "if profesor_activo:\n",
        "  print(\"Bienvenido a la plataforma de Alkemy\")\n",
        "else:\n",
        "  print(\"Contáctese con soporte para profesores\")"
      ],
      "metadata": {
        "colab": {
          "base_uri": "https://localhost:8080/"
        },
        "id": "Sg4CGXt_ACOJ",
        "outputId": "b467b897-35ab-410d-d822-efa1f38d281d"
      },
      "execution_count": null,
      "outputs": [
        {
          "output_type": "stream",
          "name": "stdout",
          "text": [
            "Bienvenido a la plataforma de Alkemy\n"
          ]
        }
      ]
    },
    {
      "cell_type": "markdown",
      "source": [
        "### Ejercicio 1.4\n",
        "\n",
        "Trabajamos un if con strings"
      ],
      "metadata": {
        "id": "wuHTqvMJBQKk"
      }
    },
    {
      "cell_type": "code",
      "source": [
        "pais1 = \"argentina\"\n",
        "pais2 = \"uruguay\"\n",
        "pais3 = \"Argentina\"\n",
        "\n",
        "if pais1 == pais3:\n",
        "  print(\"Los paises ingreados son iguales\")\n",
        "else:\n",
        "  print(\"Los paises ingresados son diferentes\")"
      ],
      "metadata": {
        "colab": {
          "base_uri": "https://localhost:8080/"
        },
        "id": "AoddyLIRBTbd",
        "outputId": "8dc0f4d6-da6f-4a83-8fbc-a32551162090"
      },
      "execution_count": null,
      "outputs": [
        {
          "output_type": "stream",
          "name": "stdout",
          "text": [
            "Los paises ingresados son diferentes\n"
          ]
        }
      ]
    },
    {
      "cell_type": "markdown",
      "source": [
        "### Ejercicio 1.5\n",
        "\n",
        "Utilizamos **elif** para crear otro bloque de consultas"
      ],
      "metadata": {
        "id": "KguOyWvTDmBg"
      }
    },
    {
      "cell_type": "code",
      "source": [
        "animal = \"tucan\"\n",
        "\n",
        "if animal == \"perro\":\n",
        "  print(\"Adelante, en esta veterinaria atendemos perros\")\n",
        "elif animal == \"gato\":\n",
        "  print(\"Adelante, en esta veterinaria atendemos gatos\")\n",
        "else:\n",
        "  print(\"Discula, en esta veterinaria solo atendemos perros y gatos\")"
      ],
      "metadata": {
        "colab": {
          "base_uri": "https://localhost:8080/"
        },
        "id": "eIlaPIKlDwWY",
        "outputId": "6a7b4e3e-517d-4445-9f04-dcc0bf5b20d7"
      },
      "execution_count": null,
      "outputs": [
        {
          "output_type": "stream",
          "name": "stdout",
          "text": [
            "Discula, en esta veterinaria solo atendemos perros y gatos\n"
          ]
        }
      ]
    },
    {
      "cell_type": "markdown",
      "source": [
        "### Ejercicio 1.6\n",
        "\n",
        "Trabajo con múlitiples **elif**"
      ],
      "metadata": {
        "id": "apxvrfaWE3RV"
      }
    },
    {
      "cell_type": "code",
      "source": [
        "color = \"rosa\"\n",
        "\n",
        "if color == \"azul\":\n",
        "  print(\"Usted ingresó un color primario:\", color)\n",
        "elif color == \"rojo\":\n",
        "  print(\"Usted ingresó un color primario:\", color)\n",
        "elif color == \"amarillo\":\n",
        "  print(\"Usted ingresó un color primario:\", color)\n",
        "else:\n",
        "  print(\"Ustdes no ingresó un color primario:\", color)"
      ],
      "metadata": {
        "colab": {
          "base_uri": "https://localhost:8080/"
        },
        "id": "91pu61WWE8ge",
        "outputId": "080ba816-7bf6-4f71-abbf-41361b73a24d"
      },
      "execution_count": null,
      "outputs": [
        {
          "output_type": "stream",
          "name": "stdout",
          "text": [
            "Ustdes no ingresó un color primario: rosa\n"
          ]
        }
      ]
    },
    {
      "cell_type": "markdown",
      "source": [
        "### Ejercicio 1.7\n",
        "\n",
        "Utilicemos un AND -> **&**\n",
        "\n",
        "Vamos a crear un if donde la persona complete sus datos y en función de ellos se indique si se puede o no jubilar.\n",
        "\n",
        "Las opciones para jubilarse son dos:\n",
        "- Para los hombres tener mas de 65 años\n",
        "- Para las mujeres tener mas de 62 años\n",
        "- Aportes mínimos 25 años"
      ],
      "metadata": {
        "id": "S7H81WdcFwoH"
      }
    },
    {
      "cell_type": "code",
      "source": [
        "edad_persona = 70\n",
        "genero = \"H\"\n",
        "anios_aporte = 20\n",
        "if (genero == \"M\") & (edad_persona >= 62) & (anios_aporte >= 25):\n",
        "  print(\"Usted se puede jubilar\")\n",
        "elif (genero == \"H\") & (edad_persona >= 65) & (anios_aporte >= 25):\n",
        "  print(\"Usted se puede jubilar\")\n",
        "else:\n",
        "  print(\"Ustdes no se puede jubilar\")"
      ],
      "metadata": {
        "colab": {
          "base_uri": "https://localhost:8080/"
        },
        "id": "6ZG7ETmKF7gs",
        "outputId": "5b4a0638-f034-489a-db39-386ec99e20cf"
      },
      "execution_count": null,
      "outputs": [
        {
          "output_type": "stream",
          "name": "stdout",
          "text": [
            "Ustdes no se puede jubilar\n"
          ]
        }
      ]
    },
    {
      "cell_type": "markdown",
      "source": [
        "### Ejercicio 1.8\n",
        "\n",
        "Utilicemos un OR -> **|**\n",
        "\n",
        "Creamos un código donde en función de si es empleado de Alkemy (profesor o coordinador), le muestra o un mensaje o lo toma como alumno\n",
        "\n",
        "\n"
      ],
      "metadata": {
        "id": "g8VwvMAlH1bp"
      }
    },
    {
      "cell_type": "code",
      "source": [
        "puesto = \"coordinador\"\n",
        "\n",
        "if (puesto == \"profesor\") | (puesto == \"coordinador\"):\n",
        "  print(\"Ustdes tiene acceso como administrador al slack\")\n",
        "else:\n",
        "  print(\"Ustes tiene acceso como alumno al slack\")"
      ],
      "metadata": {
        "colab": {
          "base_uri": "https://localhost:8080/"
        },
        "id": "fY_xi6lWIXE5",
        "outputId": "f4893992-348c-4e81-d1a6-8732354d2a83"
      },
      "execution_count": null,
      "outputs": [
        {
          "output_type": "stream",
          "name": "stdout",
          "text": [
            "Ustdes tiene acceso como administrador al slack\n"
          ]
        }
      ]
    },
    {
      "cell_type": "markdown",
      "source": [
        "## FUNCIONES NATIVAS\n",
        "\n",
        "Funciones o código que realiza una acción y ya viene intetrado a python"
      ],
      "metadata": {
        "id": "wwdGZ_lXKSfH"
      }
    },
    {
      "cell_type": "markdown",
      "source": [
        "### print()\n",
        "\n",
        "Permite visualizar cosas"
      ],
      "metadata": {
        "id": "eTds8WkMKfQf"
      }
    },
    {
      "cell_type": "code",
      "source": [
        "mi_nombre = \"andres\"\n",
        "edad = 25\n",
        "\n",
        "print(f\"Mi nombre: {mi_nombre}. Mi edad: {edad}\")"
      ],
      "metadata": {
        "colab": {
          "base_uri": "https://localhost:8080/"
        },
        "id": "XP6SQeLAKe1I",
        "outputId": "6ee87363-3814-47d1-9f78-f09835520870"
      },
      "execution_count": null,
      "outputs": [
        {
          "output_type": "stream",
          "name": "stdout",
          "text": [
            "Mi nombre: andres. Mi edad: 25\n"
          ]
        }
      ]
    },
    {
      "cell_type": "markdown",
      "source": [
        "### type()\n",
        "\n",
        "Permite visualizar el tipo de dato"
      ],
      "metadata": {
        "id": "hGFzBZVmK-tK"
      }
    },
    {
      "cell_type": "code",
      "source": [
        "type(mi_nombre)"
      ],
      "metadata": {
        "colab": {
          "base_uri": "https://localhost:8080/"
        },
        "id": "lvy0z8hmLAty",
        "outputId": "7423ce48-c579-40d1-e91c-3c86bd947f04"
      },
      "execution_count": null,
      "outputs": [
        {
          "output_type": "execute_result",
          "data": {
            "text/plain": [
              "str"
            ]
          },
          "metadata": {},
          "execution_count": 50
        }
      ]
    },
    {
      "cell_type": "markdown",
      "source": [
        "### exec()\n",
        "\n",
        "Ejecuta texto que tenga código"
      ],
      "metadata": {
        "id": "5UeVUACcLKG9"
      }
    },
    {
      "cell_type": "code",
      "source": [
        "codigo_en_texto = 'print(\"Soy un código disfrazado de texto\")'\n",
        "\n",
        "exec(codigo_en_texto)"
      ],
      "metadata": {
        "colab": {
          "base_uri": "https://localhost:8080/"
        },
        "id": "6QhnbFbQLZHd",
        "outputId": "a3af1eca-5823-4c63-a940-a4a36e0a2e00"
      },
      "execution_count": null,
      "outputs": [
        {
          "output_type": "stream",
          "name": "stdout",
          "text": [
            "Soy un código disfrazado de texto\n"
          ]
        }
      ]
    },
    {
      "cell_type": "code",
      "source": [
        "type(codigo_en_texto)"
      ],
      "metadata": {
        "colab": {
          "base_uri": "https://localhost:8080/"
        },
        "id": "nAvUurPvLn4v",
        "outputId": "57f4297d-caca-4ab5-c703-892b13158f53"
      },
      "execution_count": null,
      "outputs": [
        {
          "output_type": "execute_result",
          "data": {
            "text/plain": [
              "str"
            ]
          },
          "metadata": {},
          "execution_count": 52
        }
      ]
    },
    {
      "cell_type": "markdown",
      "source": [
        "### format()\n",
        "\n",
        "Permite ingresar variables a strings"
      ],
      "metadata": {
        "id": "vJGZJmgjLypk"
      }
    },
    {
      "cell_type": "code",
      "source": [
        "nombre_alumno = \"Sofia\"\n",
        "nota_examen = \"8\"\n",
        "materia_rendida = \"Python\"\n",
        "\n",
        "mensaje = \"El alumno {} se sacó una nota de {} en el examen de {}\".format(nombre_alumno, nota_examen, materia_rendida)\n",
        "\n",
        "print(mensaje)\n"
      ],
      "metadata": {
        "colab": {
          "base_uri": "https://localhost:8080/"
        },
        "id": "nT0ykcbBL6rw",
        "outputId": "d44ec771-ed79-4ef2-c7ba-50d456c6c378"
      },
      "execution_count": null,
      "outputs": [
        {
          "output_type": "stream",
          "name": "stdout",
          "text": [
            "El alumno Sofia se sacó una nota de 8 en el examen de Python\n"
          ]
        }
      ]
    },
    {
      "cell_type": "markdown",
      "source": [
        "### input()\n",
        "\n",
        "Permite ingresar valores en una celda interactiva"
      ],
      "metadata": {
        "id": "5HT2EO-9L4WM"
      }
    },
    {
      "cell_type": "code",
      "source": [
        "nombre_usuario = input(\"Por favor ingrese su usuario: \")\n",
        "print(\"Bienvenido usuario:\", nombre_usuario)"
      ],
      "metadata": {
        "colab": {
          "base_uri": "https://localhost:8080/"
        },
        "id": "xRHJSxcyNLKC",
        "outputId": "c0fdf0cc-ab87-4430-e23b-e9681685c42e"
      },
      "execution_count": null,
      "outputs": [
        {
          "output_type": "stream",
          "name": "stdout",
          "text": [
            "Por favor ingrese su usuario: Sofia Goszko\n",
            "Bienvenido usuario: Sofia Goszko\n"
          ]
        }
      ]
    },
    {
      "cell_type": "markdown",
      "source": [
        "### round()\n",
        "\n",
        "Permite redondear números"
      ],
      "metadata": {
        "id": "cMywpWmuNyVu"
      }
    },
    {
      "cell_type": "code",
      "source": [
        "variable_decimal_prueba = 23.84\n",
        "\n",
        "variable_entera_prueba = int(variable_decimal_prueba)\n",
        "\n",
        "variable_entera_prueba, type(variable_entera_prueba)"
      ],
      "metadata": {
        "colab": {
          "base_uri": "https://localhost:8080/"
        },
        "id": "iywzbLyGN2R_",
        "outputId": "6f419c15-a850-4518-8059-4b3cadb51883"
      },
      "execution_count": null,
      "outputs": [
        {
          "output_type": "execute_result",
          "data": {
            "text/plain": [
              "(23, int)"
            ]
          },
          "metadata": {},
          "execution_count": 57
        }
      ]
    },
    {
      "cell_type": "code",
      "source": [
        "numero_decimal_4_cifras = 78.6286\n",
        "\n",
        "numero_redondeado_2_cifras = round(numero_decimal_4_cifras,2) #2 define la cantidad de números decimales que quiero\n",
        "\n",
        "numero_redondeado_2_cifras, type(numero_redondeado_2_cifras)"
      ],
      "metadata": {
        "colab": {
          "base_uri": "https://localhost:8080/"
        },
        "id": "hfWRO7UMOSB9",
        "outputId": "79463167-5045-4fe1-c03d-a86692b136d1"
      },
      "execution_count": null,
      "outputs": [
        {
          "output_type": "execute_result",
          "data": {
            "text/plain": [
              "(78.63, float)"
            ]
          },
          "metadata": {},
          "execution_count": 61
        }
      ]
    },
    {
      "cell_type": "code",
      "source": [
        "variable_decimal_prueba = 23.84\n",
        "\n",
        "variable_redondeada_0_cifras = round(variable_decimal_prueba, 0)\n",
        "\n",
        "variable_redondeada_0_cifras, type(variable_redondeada_0_cifras)"
      ],
      "metadata": {
        "colab": {
          "base_uri": "https://localhost:8080/"
        },
        "id": "k9PT7bC0PB-L",
        "outputId": "322cf4af-a9a0-476c-9d4b-ea1581ba2d9d"
      },
      "execution_count": null,
      "outputs": [
        {
          "output_type": "execute_result",
          "data": {
            "text/plain": [
              "(24.0, float)"
            ]
          },
          "metadata": {},
          "execution_count": 62
        }
      ]
    },
    {
      "cell_type": "code",
      "source": [
        "variable_decimal_prueba = 23.84\n",
        "\n",
        "variable_transformada = int(round(variable_decimal_prueba, 0))\n",
        "\n",
        "variable_transformada, type(variable_transformada)"
      ],
      "metadata": {
        "colab": {
          "base_uri": "https://localhost:8080/"
        },
        "id": "CC5jTuYXPYHq",
        "outputId": "de3e7e76-880f-4d91-d094-4bdad96da489"
      },
      "execution_count": null,
      "outputs": [
        {
          "output_type": "execute_result",
          "data": {
            "text/plain": [
              "(24, int)"
            ]
          },
          "metadata": {},
          "execution_count": 63
        }
      ]
    },
    {
      "cell_type": "markdown",
      "source": [
        "### Tarea\n",
        "\n",
        "- int()\n",
        "- float()\n",
        "- str()\n",
        "- bool()"
      ],
      "metadata": {
        "id": "BoDr6NMgP-52"
      }
    },
    {
      "cell_type": "markdown",
      "source": [
        "## FUNCIONES DEFINIDAS POR EL USUARIO\n",
        "\n",
        "Funciones o código que realice cierta tarea pre definida por el usuario\n",
        "\n",
        "Para una función necesitan seguir la estructura\n",
        "\n",
        "def `nombreFuncion`(`argumentos (opcional)`):\n",
        "\n",
        "Hay dos separaciones:\n",
        "\n",
        "- Por parámetros:\n",
        "  - sin parámetros\n",
        "  - con parámetros\n",
        "\n",
        "- Por retorno:\n",
        "  - sin retorno\n",
        "  - con retorno"
      ],
      "metadata": {
        "id": "z1b3P1KoQVYx"
      }
    },
    {
      "cell_type": "markdown",
      "source": [
        "### Sin parámetros y sin retorno"
      ],
      "metadata": {
        "id": "-kXtkM_iRDbe"
      }
    },
    {
      "cell_type": "code",
      "source": [
        "def funcionSaludar():\n",
        "  print(\"Hola buenos dias!\")"
      ],
      "metadata": {
        "id": "mDk9DA9jRC9b"
      },
      "execution_count": null,
      "outputs": []
    },
    {
      "cell_type": "code",
      "source": [
        "funcionSaludar()"
      ],
      "metadata": {
        "colab": {
          "base_uri": "https://localhost:8080/"
        },
        "id": "Fyg-Wdh9RfYH",
        "outputId": "71a6167d-6b57-43fe-c426-9affccca6dc3"
      },
      "execution_count": null,
      "outputs": [
        {
          "output_type": "stream",
          "name": "stdout",
          "text": [
            "Hola buenos dias!\n"
          ]
        }
      ]
    },
    {
      "cell_type": "markdown",
      "source": [
        "### Sin parámetro y con retorno"
      ],
      "metadata": {
        "id": "Rm678YPPN2Ba"
      }
    },
    {
      "cell_type": "code",
      "source": [
        "def funcionSaludar():\n",
        "  return \"Hola buenos dias!\""
      ],
      "metadata": {
        "id": "bfqmXWoAN9tr"
      },
      "execution_count": 2,
      "outputs": []
    },
    {
      "cell_type": "code",
      "source": [
        "mensaje = funcionSaludar()\n",
        "mensaje"
      ],
      "metadata": {
        "colab": {
          "base_uri": "https://localhost:8080/",
          "height": 35
        },
        "id": "8550IfPWOLHc",
        "outputId": "7e10419c-89a9-46d3-ad88-007b75d802ef"
      },
      "execution_count": 3,
      "outputs": [
        {
          "output_type": "execute_result",
          "data": {
            "text/plain": [
              "'Hola buenos dias!'"
            ],
            "application/vnd.google.colaboratory.intrinsic+json": {
              "type": "string"
            }
          },
          "metadata": {},
          "execution_count": 3
        }
      ]
    },
    {
      "cell_type": "markdown",
      "source": [
        "### Con parámetros y sin retorno"
      ],
      "metadata": {
        "id": "K32mIkTSOSss"
      }
    },
    {
      "cell_type": "code",
      "source": [
        "def cuadrado(numero):\n",
        "  cuadrado = numero**2\n",
        "  print(f\"El cuadrado de {numero} es {cuadrado}\")"
      ],
      "metadata": {
        "id": "BopUHRq-OZWL"
      },
      "execution_count": 4,
      "outputs": []
    },
    {
      "cell_type": "code",
      "source": [
        "cuadrado(3)"
      ],
      "metadata": {
        "colab": {
          "base_uri": "https://localhost:8080/"
        },
        "id": "_alFBL6AOqZ_",
        "outputId": "79d834de-bd7e-4184-e413-1978f3ffd511"
      },
      "execution_count": 5,
      "outputs": [
        {
          "output_type": "stream",
          "name": "stdout",
          "text": [
            "El cuadrado de 3 es 9\n"
          ]
        }
      ]
    },
    {
      "cell_type": "markdown",
      "source": [
        "### Con parámetros y con retorno"
      ],
      "metadata": {
        "id": "BjDzVR52OXi1"
      }
    },
    {
      "cell_type": "code",
      "source": [
        "def funcionCuadrado(numero):\n",
        "  return numero**2"
      ],
      "metadata": {
        "id": "CjZC9fh3Ow-Z"
      },
      "execution_count": 7,
      "outputs": []
    },
    {
      "cell_type": "code",
      "source": [
        "numero = 3\n",
        "cuadrado = funcionCuadrado(numero)\n",
        "print(f\"El cuadrado de {numero} es {cuadrado}\")\n"
      ],
      "metadata": {
        "colab": {
          "base_uri": "https://localhost:8080/"
        },
        "id": "C28UsuyeO14e",
        "outputId": "9a9bc1d2-06f6-45c5-d86b-96e3c04fbc2f"
      },
      "execution_count": 8,
      "outputs": [
        {
          "output_type": "stream",
          "name": "stdout",
          "text": [
            "El cuadrado de 3 es 9\n"
          ]
        }
      ]
    }
  ]
}