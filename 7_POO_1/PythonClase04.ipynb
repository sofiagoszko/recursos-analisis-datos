{
  "nbformat": 4,
  "nbformat_minor": 0,
  "metadata": {
    "colab": {
      "provenance": [],
      "toc_visible": true
    },
    "kernelspec": {
      "name": "python3",
      "display_name": "Python 3"
    },
    "language_info": {
      "name": "python"
    }
  },
  "cells": [
    {
      "cell_type": "markdown",
      "source": [
        "# Clase 4 Python - POO\n"
      ],
      "metadata": {
        "id": "Geztfpwg8nML"
      }
    },
    {
      "cell_type": "markdown",
      "source": [
        "## POO\n",
        "\n",
        "La programación orientada a objetos (POO) es un paradigma de programación en el que podemos pensar en problemas complejos como `objetos`.\n"
      ],
      "metadata": {
        "id": "AF0SDTgX8x0j"
      }
    },
    {
      "cell_type": "markdown",
      "source": [
        "## CLASES\n",
        "\n",
        "Las **clases** con la estructura fundamental para la programación orientada a objetos (POO).\n",
        "\n",
        "Una clase actúa como un molde o plantilla que define las características y comportamientos de un tipo de objeto.\n",
        "\n",
        "Cuendo definimos una clase tenemos que:\n",
        "- Especificar sus atributos (varualbes asociadas a la clase).\n",
        "- Definir métodos (funciones asociadas a la clase)\n",
        "\n",
        "La sintaxis para crear una clase es:\n",
        "\n",
        "**class** `nombreClase`:"
      ],
      "metadata": {
        "id": "rb0PTh19-Zzf"
      }
    },
    {
      "cell_type": "markdown",
      "source": [
        "### Ejercicio 1.0\n",
        "\n",
        "Creamos una clase muy simple"
      ],
      "metadata": {
        "id": "bIP1Gey49E-T"
      }
    },
    {
      "cell_type": "code",
      "execution_count": 2,
      "metadata": {
        "id": "QuryjxXizzru"
      },
      "outputs": [],
      "source": [
        "class Letra: #defino el nombre de mi clase\n",
        "  caracter = \"g\"; #inicializo un atrinuto"
      ]
    },
    {
      "cell_type": "code",
      "source": [
        "Letra.caracter #puedo ver mi atributo"
      ],
      "metadata": {
        "colab": {
          "base_uri": "https://localhost:8080/",
          "height": 35
        },
        "id": "F8mJv2KZ99QR",
        "outputId": "12dbc105-91e4-41c1-f074-7e09ce362b9c"
      },
      "execution_count": 3,
      "outputs": [
        {
          "output_type": "execute_result",
          "data": {
            "text/plain": [
              "'g'"
            ],
            "application/vnd.google.colaboratory.intrinsic+json": {
              "type": "string"
            }
          },
          "metadata": {},
          "execution_count": 3
        }
      ]
    },
    {
      "cell_type": "code",
      "source": [
        "#puedo editar el atributo caracter de mi clase\n",
        "Letra.caracter = \"s\"\n",
        "Letra.caracter"
      ],
      "metadata": {
        "colab": {
          "base_uri": "https://localhost:8080/",
          "height": 35
        },
        "id": "Fc96yjDRAMPN",
        "outputId": "bcedba70-a92e-4b4f-f485-94b6790e0848"
      },
      "execution_count": 4,
      "outputs": [
        {
          "output_type": "execute_result",
          "data": {
            "text/plain": [
              "'s'"
            ],
            "application/vnd.google.colaboratory.intrinsic+json": {
              "type": "string"
            }
          },
          "metadata": {},
          "execution_count": 4
        }
      ]
    },
    {
      "cell_type": "markdown",
      "source": [
        "### Ejercicio 1.1\n",
        "\n",
        "Veamos como transformar mi clase en un molde que permita crear objetos con los atributos predefinidos.\n",
        "\n",
        "En Python al utilizar `class` tengo un conjunto de funciones con \"beneficios especiales\" ya creados. Una de ellas es la función `__init__()` la cual se usa para inicializar los valores y siempre se ejecuta cuando la clase es iniciada.\n",
        "\n",
        "Un parámetro muy importante es el llamado `self`, el cual permite hacer refetencia a la instancia actual de la clase. Es un parámetro implícito que **debe ser el primer parámetro de cualquier método de instancia**."
      ],
      "metadata": {
        "id": "7zD34_KLAjvP"
      }
    },
    {
      "cell_type": "code",
      "source": [
        "class Persona: #defino mi clase Persona\n",
        "  def __init__(self, nombre, apellido, edad): #uso el métodp __init__() para poder inicializar los atributos\n",
        "    self.nombre = nombre #defino los atributos de mi clase y les asigno un valor\n",
        "    self.apellido = apellido\n",
        "    self.edad = edad"
      ],
      "metadata": {
        "id": "-rxUJ3lkAjAk"
      },
      "execution_count": 5,
      "outputs": []
    },
    {
      "cell_type": "code",
      "source": [
        "persona1 = Persona(\"Sofia\", \"Goszko\", 30) #creo una instancia de mi clase"
      ],
      "metadata": {
        "id": "vyM0Smn5CKzx"
      },
      "execution_count": 6,
      "outputs": []
    },
    {
      "cell_type": "code",
      "source": [
        "persona1.nombre, persona1.apellido, persona1.edad #accedo a sus atributos"
      ],
      "metadata": {
        "colab": {
          "base_uri": "https://localhost:8080/"
        },
        "id": "xIfkGxnBCRMo",
        "outputId": "da2be958-082e-4f91-e118-3cc505147732"
      },
      "execution_count": 7,
      "outputs": [
        {
          "output_type": "execute_result",
          "data": {
            "text/plain": [
              "('Sofia', 'Goszko', 30)"
            ]
          },
          "metadata": {},
          "execution_count": 7
        }
      ]
    },
    {
      "cell_type": "code",
      "source": [
        "persona2 = Persona(\"Nadia\", \"Maslak\", 29)\n"
      ],
      "metadata": {
        "id": "kJRosNKECa-6"
      },
      "execution_count": 8,
      "outputs": []
    },
    {
      "cell_type": "code",
      "source": [
        "persona2.nombre, persona2.apellido, persona2.edad"
      ],
      "metadata": {
        "colab": {
          "base_uri": "https://localhost:8080/"
        },
        "id": "lbkqkB04CjDz",
        "outputId": "b7c318e9-0299-47bc-dc0c-dec58b2e790d"
      },
      "execution_count": 9,
      "outputs": [
        {
          "output_type": "execute_result",
          "data": {
            "text/plain": [
              "('Nadia', 'Maslak', 29)"
            ]
          },
          "metadata": {},
          "execution_count": 9
        }
      ]
    },
    {
      "cell_type": "code",
      "source": [
        "print(persona1) #muestra la posición de memoria donde está el objeto"
      ],
      "metadata": {
        "colab": {
          "base_uri": "https://localhost:8080/"
        },
        "id": "9z1UKTZ-C6A5",
        "outputId": "b8f4d2dc-6789-4851-9e3e-a838184c76ba"
      },
      "execution_count": 10,
      "outputs": [
        {
          "output_type": "stream",
          "name": "stdout",
          "text": [
            "<__main__.Persona object at 0x7c2ac623cac0>\n"
          ]
        }
      ]
    },
    {
      "cell_type": "markdown",
      "source": [
        "### Ejercicio 1.2\n",
        "\n",
        "Así como tenemos la función interna `__init__()`, también hay una función que cumple un rol en particular.\n",
        "\n",
        "Con `__str__()` puedo definir como se debe visualizar mi clase al imprimirla."
      ],
      "metadata": {
        "id": "if2pVEIGDNpk"
      }
    },
    {
      "cell_type": "code",
      "source": [
        "class Alumno: #defino mi clase\n",
        "  def __init__(self, nombre, apellido, estado_activo, email): #inicializo\n",
        "    self.nombre = nombre #defino mis atributos\n",
        "    self.apellido = apellido\n",
        "    self.estado_activo = estado_activo\n",
        "    self.email = email\n",
        "\n",
        "  def __str__(self): #con __str__ defino como se visualiza mi clase al imprimirla\n",
        "    return f\"Alumno: {self.nombre} {self.apellido}\\nSu email es {self.email}\\n¿Está activo? {self.estado_activo}\""
      ],
      "metadata": {
        "id": "3fdoifaGDhEm"
      },
      "execution_count": 11,
      "outputs": []
    },
    {
      "cell_type": "code",
      "source": [
        "alumno1 = Alumno(\"Sofia\", \"Goszko\", True, \"sofiagoszko@gmail.com\") #cre una instancia de mi clase\n",
        "print(alumno1) #imprimo sus valores"
      ],
      "metadata": {
        "colab": {
          "base_uri": "https://localhost:8080/"
        },
        "id": "ScatOzToEsen",
        "outputId": "0c8ef495-fcf6-42b3-99fc-63db6c2fb61f"
      },
      "execution_count": 12,
      "outputs": [
        {
          "output_type": "stream",
          "name": "stdout",
          "text": [
            "Alumno: Sofia Goszko\n",
            "Su email es sofiagoszko@gmail.com\n",
            "¿Está activo? True\n"
          ]
        }
      ]
    },
    {
      "cell_type": "code",
      "source": [
        "alumno2 = Alumno(\"Nadia\", \"Maslak\", \"False\", \"nnmaslak@gmail.com\")\n",
        "print(alumno2)"
      ],
      "metadata": {
        "colab": {
          "base_uri": "https://localhost:8080/"
        },
        "id": "o0NIoG0iFTvf",
        "outputId": "1605aae4-1512-4a81-a065-5e0bc7c5a2eb"
      },
      "execution_count": 13,
      "outputs": [
        {
          "output_type": "stream",
          "name": "stdout",
          "text": [
            "Alumno: Nadia Maslak\n",
            "Su email es nnmaslak@gmail.com\n",
            "¿Está activo? False\n"
          ]
        }
      ]
    },
    {
      "cell_type": "markdown",
      "source": [
        "### Ejercicio 1.3\n",
        "\n",
        "Vamos a crear una clase llamada **AlumnoAlkemy** que va a tener un método `descargarCertificado()`, el cual en función del estado de la matrícula le permita descargar el certificado o no.\n",
        "\n",
        "Además queremos tener valor por defecto."
      ],
      "metadata": {
        "id": "e5iqVCIxGUO6"
      }
    },
    {
      "cell_type": "code",
      "source": [
        "class AlumnoAlkemy: #defino mi clase\n",
        "  def __init__(self, nombre, apellido, nota_final, comision = \"Data analitics\", estado_activo = False): #inicializo\n",
        "    self.nombre = nombre #defino mis atributos\n",
        "    self.apellido = apellido\n",
        "    self.nota_final = nota_final\n",
        "    self.comision = comision\n",
        "    self.estado_activo = estado_activo\n",
        "\n",
        "\n",
        "  def __str__(self): #con __str__ defino como se visualiza mi clase al imprimirla\n",
        "    return f\"El alumno: {self.nombre} {self.apellido}\\nEstudia {self.comision}\\nNota final {self.nota_final}\"\n",
        "\n",
        "  def descargarCertificado(self):\n",
        "    if self.estado_activo:\n",
        "      return f\"Felicitaciones aquí tiene su certificado en {self.comision} con una nota final de {self.nota_final}\"\n",
        "    else:\n",
        "      return f\"Hasta que no pague no puede descargar el certificado de finalización del curso\""
      ],
      "metadata": {
        "id": "mRuAWovWHDhb"
      },
      "execution_count": 14,
      "outputs": []
    },
    {
      "cell_type": "code",
      "source": [
        "alumno = AlumnoAlkemy(\"Sofia\", \"Goszko\", 7)\n",
        "print(alumno)"
      ],
      "metadata": {
        "colab": {
          "base_uri": "https://localhost:8080/"
        },
        "id": "HWLEtn2hHcgX",
        "outputId": "85c8d9e4-efe0-42ea-822b-9ae86d29a5cc"
      },
      "execution_count": 15,
      "outputs": [
        {
          "output_type": "stream",
          "name": "stdout",
          "text": [
            "El alumno: Sofia Goszko\n",
            "Estudia Data analitics\n",
            "Nota final 7\n"
          ]
        }
      ]
    },
    {
      "cell_type": "code",
      "source": [
        "print(f\"Puede obtener el certificado? {alumno.estado_activo}\")"
      ],
      "metadata": {
        "colab": {
          "base_uri": "https://localhost:8080/"
        },
        "id": "zGXb8roqIU8F",
        "outputId": "f08fd034-93f9-4e03-dff6-9af3dc3e9f02"
      },
      "execution_count": 16,
      "outputs": [
        {
          "output_type": "stream",
          "name": "stdout",
          "text": [
            "Puede obtener el certificado? False\n"
          ]
        }
      ]
    },
    {
      "cell_type": "code",
      "source": [
        "alumno.estado_activo = True\n",
        "print(f\"Puede obtener el certificado? {alumno.estado_activo}\")"
      ],
      "metadata": {
        "colab": {
          "base_uri": "https://localhost:8080/"
        },
        "id": "oOMtS6DtIg1A",
        "outputId": "edfc04e6-a56d-4ebf-b3a8-7cb3f7150c0f"
      },
      "execution_count": 17,
      "outputs": [
        {
          "output_type": "stream",
          "name": "stdout",
          "text": [
            "Puede obtener el certificado? True\n"
          ]
        }
      ]
    },
    {
      "cell_type": "code",
      "source": [
        "alumno.descargarCertificado()"
      ],
      "metadata": {
        "colab": {
          "base_uri": "https://localhost:8080/",
          "height": 35
        },
        "id": "jUdY6uLjJd_Y",
        "outputId": "e627ec77-cf26-41a8-ff66-ae6f2c6a6b51"
      },
      "execution_count": 18,
      "outputs": [
        {
          "output_type": "execute_result",
          "data": {
            "text/plain": [
              "'Felicitaciones aquí tiene su certificado en Data analitics con una nota final de 7'"
            ],
            "application/vnd.google.colaboratory.intrinsic+json": {
              "type": "string"
            }
          },
          "metadata": {},
          "execution_count": 18
        }
      ]
    },
    {
      "cell_type": "code",
      "source": [
        "alumno2 = AlumnoAlkemy(\"Celina\", \"Fores\", 10)\n",
        "print(alumno2)\n",
        "alumno2.descargarCertificado()"
      ],
      "metadata": {
        "colab": {
          "base_uri": "https://localhost:8080/",
          "height": 87
        },
        "id": "cEVk9uZYJ6RM",
        "outputId": "9cb618f0-36e8-4865-82a6-3be0e955e8e8"
      },
      "execution_count": 19,
      "outputs": [
        {
          "output_type": "stream",
          "name": "stdout",
          "text": [
            "El alumno: Celina Fores\n",
            "Estudia Data analitics\n",
            "Nota final 10\n"
          ]
        },
        {
          "output_type": "execute_result",
          "data": {
            "text/plain": [
              "'Hasta que no pague no puede descargar el certificado de finalización del curso'"
            ],
            "application/vnd.google.colaboratory.intrinsic+json": {
              "type": "string"
            }
          },
          "metadata": {},
          "execution_count": 19
        }
      ]
    },
    {
      "cell_type": "markdown",
      "source": [
        "### Ejercicio 1.4\n",
        "\n",
        "También podemos crear nuestras propias funciones dentro de una clase, a estas se las conoce como **métodos**.\n",
        "\n",
        "Vamos a crear una clase Moto con sus atributos:\n",
        "- Marca\n",
        "- Color\n",
        "- Capacidad del tanque\n",
        "- Rendimiento por cada litro de combustible\n",
        "- Tiempo andado\n",
        "- Velocidad media\n",
        "\n",
        "Podemos crear un método que calcule cuántos kilómetros puede recorrer la moto sin la necesidad de repostar.\n",
        "\n",
        "`distancia_restante(km) = (capacidad_tanque (L) * rendimiento (Km/L)) - (tiempo_andado (h) * velocidad_media (Km/h))`"
      ],
      "metadata": {
        "id": "viiU-I76HcET"
      }
    },
    {
      "cell_type": "code",
      "source": [
        "class Moto: #defini el nombre de mi clase\n",
        "  def __init__(self, marca, color, rendimiento, tiempo_andado, velocidad_media, capacidad_tanque = 20): #inicializo valores y agrego defaults\n",
        "    self.marca = marca\n",
        "    self.color = color\n",
        "    self.rendimiento = rendimiento\n",
        "    self.tiempo_andado = tiempo_andado\n",
        "    self.velocidad_media = velocidad_media\n",
        "    self.capacidad_tanque = capacidad_tanque\n",
        "\n",
        "\n",
        "  def __str__(self):\n",
        "    return f\"Moto \\nMarca: {self.marca} \\nColor: {self.color} \\nCapacidad del tanque: {self.capacidad_tanque} \\nRendimiento: {self.rendimiento} \\nTiempo andado: {self.tiempo_andado} \\nVelocidad media: {self.velocidad_media}\"\n",
        "\n",
        "  def calcularDistanciaRestante(self):\n",
        "    distancia_restante = (self.capacidad_tanque * self.rendimiento) - (self.tiempo_andado * self.velocidad_media)\n",
        "    return f\"Le quedan de autonomia: {round(distancia_restante,2)} km\"\n",
        "\n",
        "\n"
      ],
      "metadata": {
        "id": "hEOC6CtqL8uD"
      },
      "execution_count": 20,
      "outputs": []
    },
    {
      "cell_type": "code",
      "source": [
        "moto1 = Moto(\"Yamaha\", \"rojo\", 5, 1, 30.5, 30)\n",
        "print(moto1)"
      ],
      "metadata": {
        "colab": {
          "base_uri": "https://localhost:8080/"
        },
        "id": "HlCj_y8MO7Ou",
        "outputId": "b1c794d2-c98d-4f9c-e80a-fbc2ec726186"
      },
      "execution_count": 21,
      "outputs": [
        {
          "output_type": "stream",
          "name": "stdout",
          "text": [
            "Moto \n",
            "Marca: Yamaha \n",
            "Color: rojo \n",
            "Capacidad del tanque: 30 \n",
            "Rendimiento: 5 \n",
            "Tiempo andado: 1 \n",
            "Velocidad media: 30.5\n"
          ]
        }
      ]
    },
    {
      "cell_type": "code",
      "source": [
        "moto1.calcularDistanciaRestante()"
      ],
      "metadata": {
        "colab": {
          "base_uri": "https://localhost:8080/",
          "height": 35
        },
        "id": "mDamQXD7PSiF",
        "outputId": "598a6eb8-0c9a-4af8-b884-b419ed57a7df"
      },
      "execution_count": 22,
      "outputs": [
        {
          "output_type": "execute_result",
          "data": {
            "text/plain": [
              "'Le quedan de autonomia: 119.5 km'"
            ],
            "application/vnd.google.colaboratory.intrinsic+json": {
              "type": "string"
            }
          },
          "metadata": {},
          "execution_count": 22
        }
      ]
    },
    {
      "cell_type": "markdown",
      "source": [
        "### Ejercicio 1.5\n",
        "\n",
        "Vamos a crear una clase llamada **EmpleadoAlkemy** con los siguientes atributos:\n",
        "- Nomhre\n",
        "- Apellido\n",
        "- Cuit\n",
        "- Estado activo\n",
        "- Cargo\n",
        "\n",
        "Queremos que nuestra clase tenga un método llamado `depositarSueldo()` donde en función de su estado (si trabajó este mes o no) se le deposite el sueldo asociado al cuit."
      ],
      "metadata": {
        "id": "1g2OdRRcQuyL"
      }
    },
    {
      "cell_type": "code",
      "source": [
        "class EmpleadoAlkemy:\n",
        "  def __init__(self, nombre, apellido, cuit, cargo, estado_activo = False):\n",
        "    self.nombre = nombre\n",
        "    self.apellido = apellido\n",
        "    self.cuit = cuit\n",
        "    self.cargo = cargo\n",
        "    self.estado_activo = estado_activo\n",
        "\n",
        "  def __str__(self):\n",
        "    return f\"Nombre completo: {self.nombre} {self.apellido} \\n¿Trabajó este mes? {self.estado_activo}\"\n",
        "\n",
        "  def depositarSueldo(self):\n",
        "    if self.estado_activo:\n",
        "      return f\"{self.nombre} se le depositará su sueldo en la cuenta registrada con el cuit {self.cuit}\"\n",
        "    else:\n",
        "      return f\"{self.nombre} no facturó horas este mes\""
      ],
      "metadata": {
        "id": "ZblK0hfYRBfx"
      },
      "execution_count": 25,
      "outputs": []
    },
    {
      "cell_type": "code",
      "source": [
        "empleado1 = EmpleadoAlkemy(\"Nadia\", \"Maslak\", 27345671233, \"docente\")\n",
        "print(empleado1.depositarSueldo())"
      ],
      "metadata": {
        "colab": {
          "base_uri": "https://localhost:8080/"
        },
        "id": "AIrvTnfpG3O3",
        "outputId": "3013665f-2cea-4e75-a7a8-f68a4e02d557"
      },
      "execution_count": 23,
      "outputs": [
        {
          "output_type": "stream",
          "name": "stdout",
          "text": [
            "Nadia no facturó horas este mes\n"
          ]
        }
      ]
    },
    {
      "cell_type": "code",
      "source": [
        "empleado2 = EmpleadoAlkemy(\"Ana\", \"Fores\", 27206547893, \"docente\", True)\n",
        "print(empleado2.depositarSueldo())"
      ],
      "metadata": {
        "colab": {
          "base_uri": "https://localhost:8080/"
        },
        "id": "CgjVzY_qHJCc",
        "outputId": "c48385cf-e41a-4cf1-a207-ea4c5c508958"
      },
      "execution_count": 26,
      "outputs": [
        {
          "output_type": "stream",
          "name": "stdout",
          "text": [
            "Ana se le depositará su sueldo en la cuenta registrada con el cuit 27206547893\n"
          ]
        }
      ]
    },
    {
      "cell_type": "markdown",
      "source": [
        "### Ejercicio 1.6\n",
        "\n",
        "Vaos a crear una clase llamada **Vehiculo** que represente un vehículo con atributos:\n",
        "- marca\n",
        "- modelo\n",
        "-color\n",
        "- velocidad\n",
        "\n",
        "Implementar métodos para acelerar, girar, frenar y estacionar el vehículo.\n",
        "\n",
        "Recordemos que hay que seguir estos pasos\n",
        "\n",
        "1. Define la clase Vehiculo con un constructor `__init__()`\n",
        "2. Definamos como queremos que se muestre con `__str()__`\n",
        "3. Implementa métodos acelerar, girar, frenar y estacionar\n",
        "   - En caso de frenar hay que tener en cuenta si el vehiculo se mueve o no\n",
        "\n",
        "Crea dos instancias de Vehiculo con diferentes características. Utiliza los métodos de cada instancia para simular acciones de manejo."
      ],
      "metadata": {
        "id": "uvvwJwccHXW7"
      }
    },
    {
      "cell_type": "code",
      "source": [
        "class Vehiculo:\n",
        "  def __init__(self, marca, modelo, color, velocidad=0):\n",
        "    self.marca = marca\n",
        "    self.modelo = modelo\n",
        "    self.color = color\n",
        "    self.velocidad = velocidad\n",
        "\n",
        "  def __str__(self):\n",
        "    return f\"Vehículo\\nMarca: {self.marca}\\nModelo: {self.modelo}\\nColor: {self.color}\"\n",
        "\n",
        "  def acelerar(self, incremento):\n",
        "    self.velocidad += incremento\n",
        "    print(f\"El {self.marca} {self.modelo} acelera a {self.velocidad} km/h\")\n",
        "\n",
        "  def frenar(self):\n",
        "    if self.velocidad > 0:\n",
        "      self.velocidad = 0\n",
        "      print(f\"El {self.marca} {self.modelo} frenó\")\n",
        "    else:\n",
        "       print(f\"El {self.marca} {self.modelo} ya se encuentra frenado\")\n",
        "\n",
        "  def estacionar(self):\n",
        "    self.velocidad = 0\n",
        "    print(f\"El {self.marca} {self.modelo} estacionó\")\n",
        "\n",
        "  def girar(self, direccion):\n",
        "    print(f\"El {self.marca} {self.modelo} giró a la {direccion}\")\n",
        "\n",
        "\n"
      ],
      "metadata": {
        "id": "9zBlqm84HW5s"
      },
      "execution_count": 55,
      "outputs": []
    },
    {
      "cell_type": "code",
      "source": [
        "vehiculo1 = Vehiculo(\"Fiat\",\"cronos\", \"rojo\",150)\n",
        "print(vehiculo1)"
      ],
      "metadata": {
        "colab": {
          "base_uri": "https://localhost:8080/"
        },
        "id": "3wu77hywKfxx",
        "outputId": "e1aeaadd-7592-44d7-95b3-2929474258fb"
      },
      "execution_count": 45,
      "outputs": [
        {
          "output_type": "stream",
          "name": "stdout",
          "text": [
            "Vehículo\n",
            "Marca: Fiat\n",
            "Modelo: cronos\n",
            "Color: rojo\n"
          ]
        }
      ]
    },
    {
      "cell_type": "code",
      "source": [
        "vehiculo1.estacionar()\n"
      ],
      "metadata": {
        "colab": {
          "base_uri": "https://localhost:8080/"
        },
        "id": "PVlZz0-TNteH",
        "outputId": "e0c21f22-140d-4aa3-b461-7dcd103f4856"
      },
      "execution_count": 58,
      "outputs": [
        {
          "output_type": "stream",
          "name": "stdout",
          "text": [
            "El Fiat cronos estacionó\n"
          ]
        }
      ]
    },
    {
      "cell_type": "code",
      "source": [
        "vehiculo1.girar(\"izquierda\")"
      ],
      "metadata": {
        "colab": {
          "base_uri": "https://localhost:8080/"
        },
        "id": "fnnSy2xBNyP8",
        "outputId": "7411e8d1-bb54-4388-fd0c-113e9e65bde6"
      },
      "execution_count": 52,
      "outputs": [
        {
          "output_type": "stream",
          "name": "stdout",
          "text": [
            "El Fiat cronos giró a la izquierda\n"
          ]
        }
      ]
    },
    {
      "cell_type": "code",
      "source": [
        "vehiculo2 = Vehiculo(\"Fiat\",\"strada\", \"blanco\")\n",
        "print(vehiculo1)"
      ],
      "metadata": {
        "colab": {
          "base_uri": "https://localhost:8080/"
        },
        "id": "7PwTFV-BN4rq",
        "outputId": "bbc2fb6c-c845-469c-eb63-f44651ffedee"
      },
      "execution_count": 53,
      "outputs": [
        {
          "output_type": "stream",
          "name": "stdout",
          "text": [
            "Vehículo\n",
            "Marca: Fiat\n",
            "Modelo: cronos\n",
            "Color: rojo\n"
          ]
        }
      ]
    },
    {
      "cell_type": "code",
      "source": [
        "vehiculo2.frenar()"
      ],
      "metadata": {
        "colab": {
          "base_uri": "https://localhost:8080/"
        },
        "id": "CsXyYzs7N_6y",
        "outputId": "478f21e5-de9d-4003-f1d8-fb8c8c33d970"
      },
      "execution_count": 54,
      "outputs": [
        {
          "output_type": "stream",
          "name": "stdout",
          "text": [
            "El Fiat strada ya se encuentra frenado\n"
          ]
        }
      ]
    },
    {
      "cell_type": "code",
      "source": [
        "vehiculo2.acelerar(100)"
      ],
      "metadata": {
        "colab": {
          "base_uri": "https://localhost:8080/"
        },
        "id": "xdMuUi7sPkCp",
        "outputId": "8172aef2-10d7-4962-aa48-d8a93607bee7"
      },
      "execution_count": 59,
      "outputs": [
        {
          "output_type": "stream",
          "name": "stdout",
          "text": [
            "El Fiat strada acelera a 100 km/h\n"
          ]
        }
      ]
    },
    {
      "cell_type": "markdown",
      "source": [
        "## ENCAPSULAMIENTO"
      ],
      "metadata": {
        "id": "cD5YrwtvR5tq"
      }
    },
    {
      "cell_type": "markdown",
      "source": [
        "### Ejercicio 1.7\n",
        "\n",
        "\n",
        "En el caso de que queramos que los atributos de nuestra clase no puedan ser ni accedidos ni modificados una vez nuestro objeto sea creado debemos aplicar los principios del encapsulamiento. Los cuales simplemente requieren usar `__` adelante de los valores de nuestros atributos en la funcion init()\n",
        "\n",
        "Creemos una clase **Empleado** el cual siga los principios de encapsulamieto para sus atributos nombre, apellido, puesto y activo.\n",
        "\n",
        "Recordemos que podemos crear metodos en caso de querer mostrar los atributos uno a uno o directamente con str."
      ],
      "metadata": {
        "id": "qedB45s5N4Lk"
      }
    },
    {
      "cell_type": "code",
      "source": [
        "class Empleado:\n",
        "  def __init__(self, nombre, apellido, puesto, activo=False):\n",
        "    self.__nombre = nombre\n",
        "    self.__apellido = apellido\n",
        "    self.__puesto = puesto\n",
        "    self.__activo = activo\n",
        "\n",
        "  def __str__(self):\n",
        "    return f\"Empleado\\nNombre completo: {self.__nombre} {self.__apellido}\\nPuesto: {self.__puesto}\\nActivo? {self.__activo}\"\n",
        "\n",
        "  def getNombre(self):\n",
        "    return self.__nombre\n",
        "\n",
        "  def getApellido(self):\n",
        "    return self.__apellido\n",
        "\n",
        "  def getPuesto(self):\n",
        "    return self.__puesto\n",
        "\n",
        "  def getEstado(self):\n",
        "    return self.__activo\n",
        "\n"
      ],
      "metadata": {
        "id": "Hlgt2MyEP7uy"
      },
      "execution_count": 61,
      "outputs": []
    },
    {
      "cell_type": "code",
      "source": [
        "empleado1 = Empleado(\"Andres\", \"Muñoz\", \"profesor\")\n",
        "print(empleado1)"
      ],
      "metadata": {
        "colab": {
          "base_uri": "https://localhost:8080/"
        },
        "id": "aUprmiR4RKEN",
        "outputId": "716472eb-e8ba-42df-cbad-3cc3328742e2"
      },
      "execution_count": 63,
      "outputs": [
        {
          "output_type": "stream",
          "name": "stdout",
          "text": [
            "Empleado\n",
            "Nombre completo: Andres Muñoz\n",
            "Puesto: profesor\n",
            "Activo? False\n"
          ]
        }
      ]
    },
    {
      "cell_type": "code",
      "source": [
        "empleado1.nombre"
      ],
      "metadata": {
        "colab": {
          "base_uri": "https://localhost:8080/",
          "height": 141
        },
        "id": "Xu3MMCFERPRu",
        "outputId": "161dc5ef-93c4-4000-e43a-c11d620a78ac"
      },
      "execution_count": 64,
      "outputs": [
        {
          "output_type": "error",
          "ename": "AttributeError",
          "evalue": "'Empleado' object has no attribute 'nombre'",
          "traceback": [
            "\u001b[0;31m---------------------------------------------------------------------------\u001b[0m",
            "\u001b[0;31mAttributeError\u001b[0m                            Traceback (most recent call last)",
            "\u001b[0;32m<ipython-input-64-06908f200b8c>\u001b[0m in \u001b[0;36m<cell line: 1>\u001b[0;34m()\u001b[0m\n\u001b[0;32m----> 1\u001b[0;31m \u001b[0mempleado1\u001b[0m\u001b[0;34m.\u001b[0m\u001b[0mnombre\u001b[0m\u001b[0;34m\u001b[0m\u001b[0;34m\u001b[0m\u001b[0m\n\u001b[0m",
            "\u001b[0;31mAttributeError\u001b[0m: 'Empleado' object has no attribute 'nombre'"
          ]
        }
      ]
    },
    {
      "cell_type": "code",
      "source": [
        "empleado1.getNombre()"
      ],
      "metadata": {
        "colab": {
          "base_uri": "https://localhost:8080/",
          "height": 35
        },
        "id": "8yYh8fc8RTXX",
        "outputId": "166cdd6a-b968-4d30-a769-8bd103d74eaf"
      },
      "execution_count": 66,
      "outputs": [
        {
          "output_type": "execute_result",
          "data": {
            "text/plain": [
              "'Andres'"
            ],
            "application/vnd.google.colaboratory.intrinsic+json": {
              "type": "string"
            }
          },
          "metadata": {},
          "execution_count": 66
        }
      ]
    },
    {
      "cell_type": "code",
      "source": [
        "empleado1.apellidpo"
      ],
      "metadata": {
        "colab": {
          "base_uri": "https://localhost:8080/",
          "height": 141
        },
        "id": "edQk_ep0RZKx",
        "outputId": "383707ba-ca3b-43d5-c3cf-faedb63f86a2"
      },
      "execution_count": 67,
      "outputs": [
        {
          "output_type": "error",
          "ename": "AttributeError",
          "evalue": "'Empleado' object has no attribute 'apellidpo'",
          "traceback": [
            "\u001b[0;31m---------------------------------------------------------------------------\u001b[0m",
            "\u001b[0;31mAttributeError\u001b[0m                            Traceback (most recent call last)",
            "\u001b[0;32m<ipython-input-67-2f71b672785f>\u001b[0m in \u001b[0;36m<cell line: 1>\u001b[0;34m()\u001b[0m\n\u001b[0;32m----> 1\u001b[0;31m \u001b[0mempleado1\u001b[0m\u001b[0;34m.\u001b[0m\u001b[0mapellidpo\u001b[0m\u001b[0;34m\u001b[0m\u001b[0;34m\u001b[0m\u001b[0m\n\u001b[0m",
            "\u001b[0;31mAttributeError\u001b[0m: 'Empleado' object has no attribute 'apellidpo'"
          ]
        }
      ]
    },
    {
      "cell_type": "code",
      "source": [
        "empleado1.getApellido()"
      ],
      "metadata": {
        "colab": {
          "base_uri": "https://localhost:8080/",
          "height": 35
        },
        "id": "fK45uF9qRbsP",
        "outputId": "5972f567-6d35-4c56-9bc8-e69926807f8f"
      },
      "execution_count": 68,
      "outputs": [
        {
          "output_type": "execute_result",
          "data": {
            "text/plain": [
              "'Muñoz'"
            ],
            "application/vnd.google.colaboratory.intrinsic+json": {
              "type": "string"
            }
          },
          "metadata": {},
          "execution_count": 68
        }
      ]
    },
    {
      "cell_type": "markdown",
      "source": [
        "## HERENCIA"
      ],
      "metadata": {
        "id": "BoprfyB4RzJ-"
      }
    },
    {
      "cell_type": "markdown",
      "source": [
        "### Ejercicio 1.8\n",
        "\n",
        "En Python se puede usar la herencia entre clases, la cual nos permite crear clases a partir de otras clases heredando sus metodos y atributos; pudiendo sobreescribirlos.\n",
        "\n",
        "Creemos una clase padre llamada Animal con atributos:\n",
        "\n",
        "- Clase\n",
        "- Especie\n",
        "- Tipo\n",
        "\n",
        "\n",
        "Una clase hija llamada Perro la cual tambien tenga los atributos:\n",
        "\n",
        "- Nombre\n",
        "\n",
        "\n",
        "Y un metodo:\n",
        "\n",
        "- Dar la pata"
      ],
      "metadata": {
        "id": "LLw-mv7GSC3z"
      }
    },
    {
      "cell_type": "code",
      "source": [
        "class Animal:\n",
        "  def __init__(self, clase, especie, tipo):\n",
        "    self.__clase = clase\n",
        "    self.__especie = especie\n",
        "    self.__tipo = tipo\n",
        "\n",
        "  def __str__(self):\n",
        "    return f\"Animal\\nClase: {self.__clase}\\nEspecie: {self.__especie}\\nTipo: {self.__tipo}\"\n",
        "\n",
        ""
      ],
      "metadata": {
        "id": "tbgEYXtGSCS4"
      },
      "execution_count": 69,
      "outputs": []
    },
    {
      "cell_type": "code",
      "source": [
        "class Perro(Animal):\n",
        "  def __init__(self, clase, especie, tipo, nombre):\n",
        "    super().__init__(clase, especie, tipo)\n",
        "    self.__nombre = nombre\n",
        "\n",
        "  def __str__(self):\n",
        "    return f\"{super().__str__()}\\nNombre: {self.__nombre}\"\n",
        "\n",
        "  def darLaPata(self):\n",
        "    return f\"{self.__nombre} te da la patita\""
      ],
      "metadata": {
        "id": "DR67j0SrRx4f"
      },
      "execution_count": 75,
      "outputs": []
    },
    {
      "cell_type": "code",
      "source": [
        "animal1 = Animal (\"Reptil\", \"terreste\", \"mediterránea\")\n",
        "print(animal1)"
      ],
      "metadata": {
        "colab": {
          "base_uri": "https://localhost:8080/"
        },
        "id": "1dEnIhtPULfI",
        "outputId": "4f73f0ca-922f-4096-dcdc-2d248de6b941"
      },
      "execution_count": 72,
      "outputs": [
        {
          "output_type": "stream",
          "name": "stdout",
          "text": [
            "Animal\n",
            "Clase: Reptil\n",
            "Especie: terreste\n",
            "Tipo: mediterránea\n"
          ]
        }
      ]
    },
    {
      "cell_type": "code",
      "source": [
        "perro1 = Perro (\"Mamiferos\", \"canido\", \"domestico\", \"Pepe\")\n",
        "print(perro1)"
      ],
      "metadata": {
        "colab": {
          "base_uri": "https://localhost:8080/"
        },
        "id": "BgaTyvwkU3yb",
        "outputId": "04b2dc8d-58fc-4d1a-92a8-3440f7c0c1f3"
      },
      "execution_count": 76,
      "outputs": [
        {
          "output_type": "stream",
          "name": "stdout",
          "text": [
            "Animal\n",
            "Clase: Mamiferos\n",
            "Especie: canido\n",
            "Tipo: domestico\n",
            "Nombre: Pepe\n"
          ]
        }
      ]
    },
    {
      "cell_type": "code",
      "source": [
        "perro1.darLaPata()"
      ],
      "metadata": {
        "colab": {
          "base_uri": "https://localhost:8080/",
          "height": 35
        },
        "id": "nDGvTpuTVPHb",
        "outputId": "a4da959f-38e5-4531-94da-71f3cb7604fe"
      },
      "execution_count": 77,
      "outputs": [
        {
          "output_type": "execute_result",
          "data": {
            "text/plain": [
              "'Pepe te da la patita'"
            ],
            "application/vnd.google.colaboratory.intrinsic+json": {
              "type": "string"
            }
          },
          "metadata": {},
          "execution_count": 77
        }
      ]
    },
    {
      "cell_type": "markdown",
      "source": [
        "## POLIMORFISMO"
      ],
      "metadata": {
        "id": "sgTqZ6hFVGTW"
      }
    },
    {
      "cell_type": "markdown",
      "source": [
        "### Ejercicio 1.9\n",
        "\n",
        "\n",
        "El polimorfismo en Python permite que objetos de diferentes clases respondan al mismo método o función de manera diferente.\n",
        "\n",
        "Podemos usar un método con el mismo nombre en diferentes clases y cada una lo implementará de manera específica según sus necesidades.\n",
        "\n",
        "Veamos un ejemplo usando figuras geometricas"
      ],
      "metadata": {
        "id": "LEP8qglnVzex"
      }
    },
    {
      "cell_type": "code",
      "source": [
        "class Rectangulo:\n",
        "  def __init__(self, base, altura):\n",
        "    self.__base = base\n",
        "    self.__altura = altura\n",
        "\n",
        "  def area(self):\n",
        "    return self.__base * self.__altura"
      ],
      "metadata": {
        "id": "X3NpSA6WVxCK"
      },
      "execution_count": 78,
      "outputs": []
    },
    {
      "cell_type": "code",
      "source": [
        "class Triangulo:\n",
        "  def __init__(self, base, altura):\n",
        "    self.__base = base\n",
        "    self.__altura = altura\n",
        "\n",
        "  def area(self):\n",
        "    return (self.__base * self.__altura)*0.5"
      ],
      "metadata": {
        "id": "GTmGij3LWUNw"
      },
      "execution_count": 79,
      "outputs": []
    },
    {
      "cell_type": "code",
      "source": [
        "class Circunferencia:\n",
        "  def __init__(self, radio):\n",
        "    self.__radio = radio\n",
        "\n",
        "  def area(self):\n",
        "    return 3.14*(self.__radio**2)"
      ],
      "metadata": {
        "id": "UboGY1jzWcda"
      },
      "execution_count": 81,
      "outputs": []
    },
    {
      "cell_type": "code",
      "source": [
        "rectangulo = Rectangulo(10, 2)\n",
        "triangulo = Triangulo(5, 8)\n",
        "circulo = Circunferencia(100)\n",
        "\n",
        "\n",
        "figuras = [rectangulo, triangulo, circulo]"
      ],
      "metadata": {
        "id": "ZolXiQUDWsaP"
      },
      "execution_count": 83,
      "outputs": []
    },
    {
      "cell_type": "code",
      "source": [
        "for figura in figuras:\n",
        "  print(f\"El área de la figura es: {figura.area()}\")"
      ],
      "metadata": {
        "colab": {
          "base_uri": "https://localhost:8080/"
        },
        "id": "Mf3hCxo4XBVH",
        "outputId": "e21eb953-ce8e-4eb8-e27b-c5ba799a1f05"
      },
      "execution_count": 87,
      "outputs": [
        {
          "output_type": "stream",
          "name": "stdout",
          "text": [
            "El área de la figura es: 20\n",
            "El área de la figura es: 20.0\n",
            "El área de la figura es: 31400.0\n"
          ]
        }
      ]
    }
  ]
}