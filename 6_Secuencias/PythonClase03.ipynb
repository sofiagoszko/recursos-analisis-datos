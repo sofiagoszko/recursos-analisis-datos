{
  "nbformat": 4,
  "nbformat_minor": 0,
  "metadata": {
    "colab": {
      "provenance": [],
      "toc_visible": true
    },
    "kernelspec": {
      "name": "python3",
      "display_name": "Python 3"
    },
    "language_info": {
      "name": "python"
    }
  },
  "cells": [
    {
      "cell_type": "markdown",
      "source": [
        "# Clase 3 Python"
      ],
      "metadata": {
        "id": "R1plXZAnM9pc"
      }
    },
    {
      "cell_type": "markdown",
      "source": [
        "## ESTRUCTURAS DE CONTROL\n"
      ],
      "metadata": {
        "id": "aiQEqVc4NBmW"
      }
    },
    {
      "cell_type": "markdown",
      "source": [
        "### while\n",
        "\n",
        "El while() permite ejecutar código de forma continua e ininterrumpida mientras las condiciones definidas se cumplan.\n",
        "\n",
        "while `laCondicionACumplir`:"
      ],
      "metadata": {
        "id": "vwsFfNy-NEAN"
      }
    },
    {
      "cell_type": "code",
      "source": [
        "if True:\n",
        "  print(\"Este código se ejecuto con un if\")"
      ],
      "metadata": {
        "colab": {
          "base_uri": "https://localhost:8080/"
        },
        "id": "8tD4CKupNVYY",
        "outputId": "0dcc5f9a-56b7-493d-83b6-706c06c637cf"
      },
      "execution_count": null,
      "outputs": [
        {
          "output_type": "stream",
          "name": "stdout",
          "text": [
            "Este código se ejecuto con un if\n"
          ]
        }
      ]
    },
    {
      "cell_type": "markdown",
      "source": [
        "#### Ejercicio 1.0"
      ],
      "metadata": {
        "id": "BvzOdeF3S9ac"
      }
    },
    {
      "cell_type": "code",
      "execution_count": null,
      "metadata": {
        "id": "IhJ0hb9GKZPj"
      },
      "outputs": [],
      "source": [
        "while True:\n",
        "  print(\"Este código se ejecuto con un drive\")\n",
        "\n",
        "#genera un bucle infinito"
      ]
    },
    {
      "cell_type": "markdown",
      "source": [
        "#### Ejercicio 1.1\n",
        "\n",
        "Vamos a utilizar el ciclo while para comprobar si el usuario ingreso la contraseña de forma correcta, mientras la contraseña sea incorrecta nuestro ciclo pedirá al usuario que la reingrese"
      ],
      "metadata": {
        "id": "ckf6S15VOkg7"
      }
    },
    {
      "cell_type": "code",
      "source": [
        "password = \"123tA!\"\n",
        "password_ingresado = input(\"Por favor ingrese su contraseña: \")\n",
        "\n",
        "while password != password_ingresado:\n",
        "  print(\"Contraseña incorrecta!\")\n",
        "  password_ingresado = input(\"Por favor reingrese su contraseña: \")\n"
      ],
      "metadata": {
        "colab": {
          "base_uri": "https://localhost:8080/"
        },
        "id": "gzWDG_u3Oj4y",
        "outputId": "e291ceca-66cc-4788-a280-ddd7b162a037"
      },
      "execution_count": null,
      "outputs": [
        {
          "name": "stdout",
          "output_type": "stream",
          "text": [
            "Por favor ingrese su contraseña: wehfsg\n",
            "Contraseña incorrecta!\n",
            "Por favor reingrese su contraseña: wer\n",
            "Contraseña incorrecta!\n",
            "Por favor reingrese su contraseña: 123tA!\n"
          ]
        }
      ]
    },
    {
      "cell_type": "markdown",
      "source": [
        "#### Ejercicio 1.2\n",
        "\n"
      ],
      "metadata": {
        "id": "a5LGOyjxPulq"
      }
    },
    {
      "cell_type": "code",
      "source": [
        "numero_ciclos_while = 1\n",
        "\n",
        "while numero_ciclos_while < 10:\n",
        "  print(\"Este es el ciclo n°:\", numero_ciclos_while)\n",
        "  numero_ciclos_while +=1"
      ],
      "metadata": {
        "colab": {
          "base_uri": "https://localhost:8080/"
        },
        "id": "nilfIkVVQVTm",
        "outputId": "a91eefc1-a785-4f79-f8ce-6173659b2452"
      },
      "execution_count": null,
      "outputs": [
        {
          "output_type": "stream",
          "name": "stdout",
          "text": [
            "Este es el ciclo n°: 1\n",
            "Este es el ciclo n°: 2\n",
            "Este es el ciclo n°: 3\n",
            "Este es el ciclo n°: 4\n",
            "Este es el ciclo n°: 5\n",
            "Este es el ciclo n°: 6\n",
            "Este es el ciclo n°: 7\n",
            "Este es el ciclo n°: 8\n",
            "Este es el ciclo n°: 9\n"
          ]
        }
      ]
    },
    {
      "cell_type": "markdown",
      "source": [
        "#### Ejercicio 1.3\n",
        "\n",
        "Con los ciclos while() también podemos ultilizar `else`\n",
        "\n"
      ],
      "metadata": {
        "id": "x0HDUzTgQ44e"
      }
    },
    {
      "cell_type": "code",
      "source": [
        "user_name = \"sofiagoszko\"\n",
        "usuario_ingresado = input(\"Por favor ingrese su usuario: \")\n",
        "\n",
        "while user_name != usuario_ingresado:\n",
        "  print(\"El nombre de usuario\", usuario_ingresado, \"no se encuentra reguistrado\")\n",
        "  usuario_ingresado = input(\"Por favor reingrese su usuario: \")\n",
        "else:\n",
        "  print(\"Bienvenido/a:\", usuario_ingresado)"
      ],
      "metadata": {
        "colab": {
          "base_uri": "https://localhost:8080/"
        },
        "id": "KPEBlBQKRKkh",
        "outputId": "4b888026-51d4-409d-f706-bfd01bff6d64"
      },
      "execution_count": null,
      "outputs": [
        {
          "output_type": "stream",
          "name": "stdout",
          "text": [
            "Por favor ingrese su usuario: usuario\n",
            "El nombre de usuario usuario no se encuentra reguistrado\n",
            "Por favor reingrese su usuario: sofia1246\n",
            "El nombre de usuario sofia1246 no se encuentra reguistrado\n",
            "Por favor reingrese su usuario: sofiagoszko\n",
            "Bienvenido/a: sofiagoszko\n"
          ]
        }
      ]
    },
    {
      "cell_type": "markdown",
      "source": [
        "#### Ejercicio 1.4"
      ],
      "metadata": {
        "id": "xAMJFnh6SrF2"
      }
    },
    {
      "cell_type": "code",
      "source": [
        "estado_datos_cargados = False\n",
        "\n",
        "while estado_datos_cargados:\n",
        "  columna_a_procesar = input(\"Por favor ingrese que columna quiere procesar\")\n",
        "  print(\"Estamos procesando la columna\", columna_a_procesar)\n",
        "else:\n",
        "  print(\"POR FAVOR CARGUE EL DATASET URGENTEMENTE\")"
      ],
      "metadata": {
        "colab": {
          "base_uri": "https://localhost:8080/"
        },
        "id": "G747gaVSR0fg",
        "outputId": "bb22cdc8-c070-4abb-a60a-f526e91980e9"
      },
      "execution_count": null,
      "outputs": [
        {
          "output_type": "stream",
          "name": "stdout",
          "text": [
            "POR FAVOR CARGUE EL DATASET URGENTEMENTE\n"
          ]
        }
      ]
    },
    {
      "cell_type": "markdown",
      "source": [
        "#### Ejercicio 1.5\n",
        "\n",
        "`break` se utiliza para frenar de forma inmediata la ejercición de nuestro ciclo while()"
      ],
      "metadata": {
        "id": "sAn-93WXSnTz"
      }
    },
    {
      "cell_type": "code",
      "source": [
        "numero_a_dividir = 10\n",
        "divisor_actual = -5\n",
        "fin_divisor = 5\n",
        "\n",
        "while divisor_actual <= fin_divisor:\n",
        "  if divisor_actual == 0:\n",
        "    break\n",
        "\n",
        "  resultado = numero_a_dividir / divisor_actual\n",
        "  mensaje = \"La division de {} sobre {} da como resultado {}\".format(numero_a_dividir, divisor_actual, resultado)\n",
        "  print(mensaje)\n",
        "  divisor_actual += 1"
      ],
      "metadata": {
        "colab": {
          "base_uri": "https://localhost:8080/"
        },
        "id": "gbZTybNgTKOj",
        "outputId": "3087341a-7c18-4290-a16f-a9a866106798"
      },
      "execution_count": null,
      "outputs": [
        {
          "output_type": "stream",
          "name": "stdout",
          "text": [
            "La division de 10 sobre -5 da como resultado -2.0\n",
            "La division de 10 sobre -4 da como resultado -2.5\n",
            "La division de 10 sobre -3 da como resultado -3.3333333333333335\n",
            "La division de 10 sobre -2 da como resultado -5.0\n",
            "La division de 10 sobre -1 da como resultado -10.0\n"
          ]
        }
      ]
    },
    {
      "cell_type": "markdown",
      "source": [
        "#### Ejercicio 1.6\n",
        "\n",
        "`continue` es muy parecido al `break` pero en vez de cancelar la ejercución del ciclo while(), va a saltar a una interación"
      ],
      "metadata": {
        "id": "K8vrvKi-VLOz"
      }
    },
    {
      "cell_type": "code",
      "source": [
        "numero_a_dividir = 10\n",
        "divisor_actual = -5\n",
        "fin_divisor = 5\n",
        "\n",
        "\n",
        "while divisor_actual <= fin_divisor:\n",
        "  if divisor_actual == 0:\n",
        "    divisor_actual += 1\n",
        "    continue\n",
        "  resultado = numero_a_dividir / divisor_actual\n",
        "  mensaje = \"La division de {} sobre {} da como resultado {}\".format(numero_a_dividir, divisor_actual, resultado)\n",
        "  print(mensaje)\n",
        "  divisor_actual += 1"
      ],
      "metadata": {
        "colab": {
          "base_uri": "https://localhost:8080/"
        },
        "id": "PtIgT30wWGwz",
        "outputId": "2697eb4e-0d55-4922-d68f-c8daf05bc3b9"
      },
      "execution_count": null,
      "outputs": [
        {
          "output_type": "stream",
          "name": "stdout",
          "text": [
            "La division de 10 sobre -5 da como resultado -2.0\n",
            "La division de 10 sobre -4 da como resultado -2.5\n",
            "La division de 10 sobre -3 da como resultado -3.3333333333333335\n",
            "La division de 10 sobre -2 da como resultado -5.0\n",
            "La division de 10 sobre -1 da como resultado -10.0\n",
            "La division de 10 sobre 1 da como resultado 10.0\n",
            "La division de 10 sobre 2 da como resultado 5.0\n",
            "La division de 10 sobre 3 da como resultado 3.3333333333333335\n",
            "La division de 10 sobre 4 da como resultado 2.5\n",
            "La division de 10 sobre 5 da como resultado 2.0\n"
          ]
        }
      ]
    },
    {
      "cell_type": "markdown",
      "source": [
        "### for\n",
        "\n",
        "El `for` se utiliza para iterar valores dentro de un elemento\n"
      ],
      "metadata": {
        "id": "XbIWa7nMZJSw"
      }
    },
    {
      "cell_type": "markdown",
      "source": [
        "#### Ejercicio 1.7"
      ],
      "metadata": {
        "id": "AJVW_plCaWgb"
      }
    },
    {
      "cell_type": "code",
      "source": [
        "texto = \"Este código de python me tiene loco\"\n",
        "\n",
        "for letra in texto:\n",
        "  print(letra)\n"
      ],
      "metadata": {
        "colab": {
          "base_uri": "https://localhost:8080/"
        },
        "id": "FNstLyWKZR1m",
        "outputId": "b6c4e1da-f790-4187-ee02-e2ed5b0094fc"
      },
      "execution_count": null,
      "outputs": [
        {
          "output_type": "stream",
          "name": "stdout",
          "text": [
            "E\n",
            "s\n",
            "t\n",
            "e\n",
            " \n",
            "c\n",
            "ó\n",
            "d\n",
            "i\n",
            "g\n",
            "o\n",
            " \n",
            "d\n",
            "e\n",
            " \n",
            "p\n",
            "y\n",
            "t\n",
            "h\n",
            "o\n",
            "n\n",
            " \n",
            "m\n",
            "e\n",
            " \n",
            "t\n",
            "i\n",
            "e\n",
            "n\n",
            "e\n",
            " \n",
            "l\n",
            "o\n",
            "c\n",
            "o\n"
          ]
        }
      ]
    },
    {
      "cell_type": "markdown",
      "source": [
        "### for in range():\n",
        "\n",
        "Permite realizar interaciones a lo largo de números, hay que definir los parámetros\n",
        "\n",
        "- punto de partida\n",
        "- punto de finalización (no incluyente)\n",
        "- la dirección y valor del salto o step\n",
        "\n",
        "for `numero` in range(`puntoPartida`, `puntoLlegada`, `step`):"
      ],
      "metadata": {
        "id": "KVQ0SLW5aVFj"
      }
    },
    {
      "cell_type": "markdown",
      "source": [
        "#### Ejercicio 1.8\n",
        "\n",
        "Quiero mostrar todos los numeros entre 1 y 10 (NO INCLUYENTE)"
      ],
      "metadata": {
        "id": "7bZehcl3awja"
      }
    },
    {
      "cell_type": "code",
      "source": [
        "for numero in range(1, 10):\n",
        "  print(numero)"
      ],
      "metadata": {
        "colab": {
          "base_uri": "https://localhost:8080/"
        },
        "id": "ac41cwSHaz3t",
        "outputId": "014f5177-c713-4fe5-a99a-7027f77e631f"
      },
      "execution_count": null,
      "outputs": [
        {
          "output_type": "stream",
          "name": "stdout",
          "text": [
            "1\n",
            "2\n",
            "3\n",
            "4\n",
            "5\n",
            "6\n",
            "7\n",
            "8\n",
            "9\n"
          ]
        }
      ]
    },
    {
      "cell_type": "markdown",
      "source": [
        "#### Ejercicio 1.9\n",
        "\n",
        "Quiero mostrar los elementos pares entre 2 y 14 (INCLUYENTE)"
      ],
      "metadata": {
        "id": "CufptURAbSHp"
      }
    },
    {
      "cell_type": "code",
      "source": [
        "for par in range(2, 15, 2):\n",
        "  print(par)"
      ],
      "metadata": {
        "colab": {
          "base_uri": "https://localhost:8080/"
        },
        "id": "pocjJC1Ias80",
        "outputId": "f0cb2887-447a-43a5-f9b4-54c20f240ffb"
      },
      "execution_count": null,
      "outputs": [
        {
          "output_type": "stream",
          "name": "stdout",
          "text": [
            "2\n",
            "4\n",
            "6\n",
            "8\n",
            "10\n",
            "12\n",
            "14\n"
          ]
        }
      ]
    },
    {
      "cell_type": "markdown",
      "source": [
        "#### Ejercicio 1.10\n",
        "\n",
        "Probemos hacer un print de número negativos descendientes"
      ],
      "metadata": {
        "id": "w_MDGmF-b6wW"
      }
    },
    {
      "cell_type": "code",
      "source": [
        "for negativo in range(4, -5, -1):\n",
        "  print(negativo)"
      ],
      "metadata": {
        "colab": {
          "base_uri": "https://localhost:8080/"
        },
        "id": "ZyKW-2Cmbf4Q",
        "outputId": "0724fdb9-0bf0-4126-d932-e1f6e198f8bc"
      },
      "execution_count": null,
      "outputs": [
        {
          "output_type": "stream",
          "name": "stdout",
          "text": [
            "4\n",
            "3\n",
            "2\n",
            "1\n",
            "0\n",
            "-1\n",
            "-2\n",
            "-3\n",
            "-4\n"
          ]
        }
      ]
    },
    {
      "cell_type": "markdown",
      "source": [
        "## COLECCIONES DE DATOS\n",
        "\n",
        "En python ya vimos estos tipos de datos:\n",
        "\n",
        "- str\n",
        "- bool\n",
        "- int\n",
        "- float\n",
        "\n",
        "Cada uno de estos datos contenía un tipo de dato individual\n"
      ],
      "metadata": {
        "id": "xEHVPRCqcwea"
      }
    },
    {
      "cell_type": "markdown",
      "source": [
        "### lista\n",
        "\n",
        "Las listas permiten guardar diferentes tipos de datos, puedo tener variables repetidas, alterar la lista o mejor dicho los valores que tiene adentro ya sea agregando, mostrando o sacándolos."
      ],
      "metadata": {
        "id": "qP6ui9wwda6g"
      }
    },
    {
      "cell_type": "markdown",
      "source": [
        "#### Ejercicio 2.0\n",
        "\n",
        "Creamos 3 listas sencillas para ver como definirlas.\n",
        "\n",
        "Una lista se caracteriza por utilizar `[]` y además separa los valores de adentro con `,`"
      ],
      "metadata": {
        "id": "yTYTE79deZl4"
      }
    },
    {
      "cell_type": "code",
      "source": [
        "lista_numerica = [1, 5, 70, -10]\n",
        "lista_string = [\"sofia\", \"andres\", \"nadia\", \"rodrigo\"]\n",
        "lista_variada = [1, \"leticia\", 11.34, \"@\"]"
      ],
      "metadata": {
        "id": "3fK7XeY0eZVg"
      },
      "execution_count": null,
      "outputs": []
    },
    {
      "cell_type": "code",
      "source": [
        "#con print se devuelve todos los valores a la vez\n",
        "\n",
        "lista_numerica"
      ],
      "metadata": {
        "colab": {
          "base_uri": "https://localhost:8080/"
        },
        "id": "0Q1QcURPe0_D",
        "outputId": "1944394f-b1b8-4b8c-f5c8-f9b30daa870a"
      },
      "execution_count": null,
      "outputs": [
        {
          "output_type": "execute_result",
          "data": {
            "text/plain": [
              "[1, 5, 70, -10]"
            ]
          },
          "metadata": {},
          "execution_count": 44
        }
      ]
    },
    {
      "cell_type": "markdown",
      "source": [],
      "metadata": {
        "id": "dyJumMYCfRu7"
      }
    },
    {
      "cell_type": "markdown",
      "source": [
        "#### Ejecicio 2.1\n",
        "\n",
        "Utilizar el **for** con las listas nos permite pasar de elemento a elemento de a uno"
      ],
      "metadata": {
        "id": "cunalKXweYzE"
      }
    },
    {
      "cell_type": "code",
      "source": [
        "for elemento in lista_variada:\n",
        "  print(elemento, \" \", type(elemento))"
      ],
      "metadata": {
        "colab": {
          "base_uri": "https://localhost:8080/"
        },
        "id": "mPczw3ZTdBzN",
        "outputId": "a295ee23-7e6d-4147-9e7b-72045b22cd6f"
      },
      "execution_count": null,
      "outputs": [
        {
          "output_type": "stream",
          "name": "stdout",
          "text": [
            "1   <class 'int'>\n",
            "leticia   <class 'str'>\n",
            "11.34   <class 'float'>\n",
            "@   <class 'str'>\n"
          ]
        }
      ]
    },
    {
      "cell_type": "code",
      "source": [
        "for nombre in lista_string:\n",
        "  print(\"Hola!\", nombre)"
      ],
      "metadata": {
        "colab": {
          "base_uri": "https://localhost:8080/"
        },
        "id": "WYLb7otyfds3",
        "outputId": "1945b443-73ae-4fad-a9fa-b848407a5136"
      },
      "execution_count": null,
      "outputs": [
        {
          "output_type": "stream",
          "name": "stdout",
          "text": [
            "Hola! sofia\n",
            "Hola! andres\n",
            "Hola! nadia\n",
            "Hola! rodrigo\n"
          ]
        }
      ]
    },
    {
      "cell_type": "markdown",
      "source": [
        "#### Acciones con listas\n",
        "\n",
        "Funciones específicas para trabajar con listas y poder hacer diferentes cosas"
      ],
      "metadata": {
        "id": "MeLpaeDKf72-"
      }
    },
    {
      "cell_type": "code",
      "source": [
        "lista_vehiculo = [\"caminioneta\", 2012, True, \"gris\"]"
      ],
      "metadata": {
        "id": "fHbKHC0jggd4"
      },
      "execution_count": null,
      "outputs": []
    },
    {
      "cell_type": "markdown",
      "source": [
        "##### len\n",
        "\n",
        "len() permite saber la cantidad de elementos que tiene una lista"
      ],
      "metadata": {
        "id": "jsM25QqUmk1o"
      }
    },
    {
      "cell_type": "code",
      "source": [
        "len(lista_vehiculo)"
      ],
      "metadata": {
        "colab": {
          "base_uri": "https://localhost:8080/"
        },
        "id": "44_nes2HgjE7",
        "outputId": "0053bf50-0391-4d29-b70b-49f3dec66332"
      },
      "execution_count": null,
      "outputs": [
        {
          "output_type": "execute_result",
          "data": {
            "text/plain": [
              "4"
            ]
          },
          "metadata": {},
          "execution_count": 59
        }
      ]
    },
    {
      "cell_type": "markdown",
      "source": [
        "##### append\n",
        "\n",
        "append sirve para agregar elementos a una lista"
      ],
      "metadata": {
        "id": "BdWT-nyPmq4r"
      }
    },
    {
      "cell_type": "code",
      "source": [
        "\n",
        "\n",
        "lista_vehiculo.append(\"4x4\")\n",
        "lista_vehiculo"
      ],
      "metadata": {
        "colab": {
          "base_uri": "https://localhost:8080/"
        },
        "id": "JRxiM1g0gEEH",
        "outputId": "4fb7da6c-33ec-4fe3-b947-f3b938e96fd8"
      },
      "execution_count": null,
      "outputs": [
        {
          "output_type": "execute_result",
          "data": {
            "text/plain": [
              "['caminioneta', 2012, True, 'gris', '4x4']"
            ]
          },
          "metadata": {},
          "execution_count": 60
        }
      ]
    },
    {
      "cell_type": "markdown",
      "source": [
        "##### indice\n",
        "\n",
        "para acceder al valor de una lista puedo utilizar el indice\n",
        "recordemos que el indice en python comienza en 0"
      ],
      "metadata": {
        "id": "UlKjFXfapgsA"
      }
    },
    {
      "cell_type": "code",
      "source": [
        "lista_vehiculo[0], lista_vehiculo[-3]"
      ],
      "metadata": {
        "colab": {
          "base_uri": "https://localhost:8080/"
        },
        "id": "T9oeIJxMgrPE",
        "outputId": "fccfe3d2-3043-4d1a-e8c3-ba078fd830b4"
      },
      "execution_count": null,
      "outputs": [
        {
          "output_type": "execute_result",
          "data": {
            "text/plain": [
              "('caminioneta', True)"
            ]
          },
          "metadata": {},
          "execution_count": 61
        }
      ]
    },
    {
      "cell_type": "code",
      "source": [
        "for indice in range(0, len(lista_vehiculo)):\n",
        "  print(lista_vehiculo[indice])"
      ],
      "metadata": {
        "colab": {
          "base_uri": "https://localhost:8080/"
        },
        "id": "Bnoaoqgmg2-D",
        "outputId": "f904f11b-fcba-4f30-a82d-98001d372cb1"
      },
      "execution_count": null,
      "outputs": [
        {
          "output_type": "stream",
          "name": "stdout",
          "text": [
            "caminioneta\n",
            "2012\n",
            "True\n",
            "gris\n",
            "4x4\n"
          ]
        }
      ]
    },
    {
      "cell_type": "markdown",
      "source": [
        "##### extend\n",
        "\n",
        "Permite juntar dos listas en una, uniéndolas una detrás de la otra"
      ],
      "metadata": {
        "id": "UYMAbAh7qBpo"
      }
    },
    {
      "cell_type": "code",
      "source": [
        "lista_accesorios = [\"radio\", False]\n",
        "lista_vehiculo.extend(lista_accesorios)\n",
        "\n",
        "lista_vehiculo"
      ],
      "metadata": {
        "colab": {
          "base_uri": "https://localhost:8080/"
        },
        "id": "6z80-QyHhQkN",
        "outputId": "c79b6a53-afcf-4d38-ce5a-07e972720bec"
      },
      "execution_count": null,
      "outputs": [
        {
          "output_type": "execute_result",
          "data": {
            "text/plain": [
              "['caminioneta', 2012, True, 'gris', '4x4', 'radio', False]"
            ]
          },
          "metadata": {},
          "execution_count": 63
        }
      ]
    },
    {
      "cell_type": "markdown",
      "source": [
        "##### insert\n",
        "\n",
        "Permite ingresar un valor en una posición específica"
      ],
      "metadata": {
        "id": "nnZps41aqQ9k"
      }
    },
    {
      "cell_type": "code",
      "source": [
        "lista_vehiculo[1]\n"
      ],
      "metadata": {
        "colab": {
          "base_uri": "https://localhost:8080/"
        },
        "id": "FTZSE9rsiANH",
        "outputId": "b9d735eb-9952-4403-cdb0-39739efc0589"
      },
      "execution_count": null,
      "outputs": [
        {
          "output_type": "execute_result",
          "data": {
            "text/plain": [
              "2012"
            ]
          },
          "metadata": {},
          "execution_count": 64
        }
      ]
    },
    {
      "cell_type": "code",
      "source": [
        "lista_vehiculo.insert(1, \"toyota\")\n",
        "lista_vehiculo"
      ],
      "metadata": {
        "colab": {
          "base_uri": "https://localhost:8080/"
        },
        "id": "KQ6yWIeehmKn",
        "outputId": "2d4a77a6-c7b3-4f6f-dbae-02ff73092079"
      },
      "execution_count": null,
      "outputs": [
        {
          "output_type": "execute_result",
          "data": {
            "text/plain": [
              "['caminioneta', 'toyota', 2012, True, 'gris', '4x4', 'radio', False]"
            ]
          },
          "metadata": {},
          "execution_count": 65
        }
      ]
    },
    {
      "cell_type": "markdown",
      "source": [
        "##### pop\n",
        "\n",
        "Permite extraer el valor de arriba (el último de la lista)"
      ],
      "metadata": {
        "id": "lkYYhfQ6qX9e"
      }
    },
    {
      "cell_type": "code",
      "source": [
        "print(\"Tiene\", len(lista_vehiculo),\" elementos\")\n",
        "variable_pop = lista_vehiculo.pop()\n",
        "print(\"El valor extraído es:\", variable_pop)\n",
        "print(\"Ahora mi lista quedo así:\", lista_vehiculo)\n",
        "print(\"Tiene\", len(lista_vehiculo),\" elementos\")"
      ],
      "metadata": {
        "colab": {
          "base_uri": "https://localhost:8080/"
        },
        "id": "SaqsZfyIiRcq",
        "outputId": "d2d4d382-3fed-4cd5-943c-5f10197788fa"
      },
      "execution_count": null,
      "outputs": [
        {
          "output_type": "stream",
          "name": "stdout",
          "text": [
            "Tiene 8  elementos\n",
            "El valor extraído es: False\n",
            "Ahora mi lista quedo así: ['caminioneta', 'toyota', 2012, True, 'gris', '4x4', 'radio']\n",
            "Tiene 7  elementos\n"
          ]
        }
      ]
    },
    {
      "cell_type": "code",
      "source": [
        "lista_colores = [\"azul\", \"amarillo\", \"verde\", \"azul\", \"rojo\", \"azul\", \"verde\", \"rojo\"]\n",
        "\n"
      ],
      "metadata": {
        "id": "qu9OzmCyjA4S"
      },
      "execution_count": null,
      "outputs": []
    },
    {
      "cell_type": "markdown",
      "source": [
        "##### remove\n",
        "\n",
        "Permite eliminar el primer elemento que cumpla con una característica definida"
      ],
      "metadata": {
        "id": "Jd49-vaFqmPR"
      }
    },
    {
      "cell_type": "code",
      "source": [
        "print(lista_colores)\n",
        "lista_colores.remove(\"verde\")\n",
        "print(lista_colores)"
      ],
      "metadata": {
        "colab": {
          "base_uri": "https://localhost:8080/"
        },
        "id": "7OtJbZAyjPyY",
        "outputId": "605808e3-6bb6-48f0-dc72-f0588e481dec"
      },
      "execution_count": null,
      "outputs": [
        {
          "output_type": "stream",
          "name": "stdout",
          "text": [
            "['azul', 'amarillo', 'verde', 'azul', 'rojo', 'azul', 'verde', 'rojo']\n",
            "['azul', 'amarillo', 'azul', 'rojo', 'azul', 'verde', 'rojo']\n"
          ]
        }
      ]
    },
    {
      "cell_type": "markdown",
      "source": [
        "##### sort\n",
        "\n",
        "Permite ordenar alfabéticamente o numéricamente según el tipo de dato"
      ],
      "metadata": {
        "id": "W2APa0JbqyqR"
      }
    },
    {
      "cell_type": "code",
      "source": [
        "lista_colores.sort()\n",
        "lista_colores"
      ],
      "metadata": {
        "colab": {
          "base_uri": "https://localhost:8080/"
        },
        "id": "qxo4-qbRjfgD",
        "outputId": "568db044-2377-451b-cfb5-911e39d92932"
      },
      "execution_count": null,
      "outputs": [
        {
          "output_type": "execute_result",
          "data": {
            "text/plain": [
              "['amarillo', 'azul', 'azul', 'azul', 'rojo', 'rojo', 'verde']"
            ]
          },
          "metadata": {},
          "execution_count": 69
        }
      ]
    },
    {
      "cell_type": "code",
      "source": [
        "lista_numerica = [4, 234, 0, -1, 53]\n",
        "\n",
        "lista_numerica.sort()\n",
        "lista_numerica"
      ],
      "metadata": {
        "colab": {
          "base_uri": "https://localhost:8080/"
        },
        "id": "IW2_H9hIjuTy",
        "outputId": "65a9d02c-aa11-4f5e-9382-bce04f413a39"
      },
      "execution_count": null,
      "outputs": [
        {
          "output_type": "execute_result",
          "data": {
            "text/plain": [
              "[-1, 0, 4, 53, 234]"
            ]
          },
          "metadata": {},
          "execution_count": 70
        }
      ]
    },
    {
      "cell_type": "code",
      "source": [
        "lista_numerica.sort(reverse=True)\n",
        "lista_numerica"
      ],
      "metadata": {
        "colab": {
          "base_uri": "https://localhost:8080/"
        },
        "id": "km8PqoVIkk7p",
        "outputId": "6136d162-43f0-4f29-c748-c4a4a312142d"
      },
      "execution_count": null,
      "outputs": [
        {
          "output_type": "execute_result",
          "data": {
            "text/plain": [
              "[234, 53, 4, 0, -1]"
            ]
          },
          "metadata": {},
          "execution_count": 74
        }
      ]
    },
    {
      "cell_type": "markdown",
      "source": [
        "##### reverse\n",
        "\n",
        "Permite ordenar la lista en sentido contrario"
      ],
      "metadata": {
        "id": "0Z4dgxjtq56u"
      }
    },
    {
      "cell_type": "code",
      "source": [
        "lista_colores = [\"azul\", \"amarillo\", \"verde\", \"azul\", \"rojo\", \"azul\", \"verde\", \"rojo\"]\n",
        "\n",
        "lista_colores.reverse()\n",
        "lista_colores"
      ],
      "metadata": {
        "colab": {
          "base_uri": "https://localhost:8080/"
        },
        "id": "Kz7QEvqxj2tB",
        "outputId": "085a0422-b6bd-45ca-dafc-8d8fae31d5b4"
      },
      "execution_count": null,
      "outputs": [
        {
          "output_type": "execute_result",
          "data": {
            "text/plain": [
              "['rojo', 'verde', 'azul', 'rojo', 'azul', 'verde', 'amarillo', 'azul']"
            ]
          },
          "metadata": {},
          "execution_count": 72
        }
      ]
    },
    {
      "cell_type": "markdown",
      "source": [
        "### tuple\n",
        "\n",
        "Las tuplas tienen la particularidad de que no pueden ser editadas despues de crearse, es decir, son inmutables. También pueden tener **valores repetitods**.\n",
        "Solamente podemos utilizar:\n",
        "\n",
        "- index\n",
        "- count\n",
        "\n",
        "Con las tuplas se utilizar `()` y los valores se separan en `,`"
      ],
      "metadata": {
        "id": "Yj3NdyxilAfo"
      }
    },
    {
      "cell_type": "markdown",
      "source": [
        "#### Ejercicio 2.2\n",
        "\n",
        "Creemos una tupla"
      ],
      "metadata": {
        "id": "xpnZfjSblOcZ"
      }
    },
    {
      "cell_type": "code",
      "source": [
        "tupla_numerica = (1, 2, 66, 10, 0, 5)"
      ],
      "metadata": {
        "id": "TYb5_xVcldfP"
      },
      "execution_count": null,
      "outputs": []
    },
    {
      "cell_type": "markdown",
      "source": [
        "#### Ejercicio 2.3\n",
        "\n",
        "Utilicemos index y count con una *tupla*"
      ],
      "metadata": {
        "id": "ho8yPoAclpzB"
      }
    },
    {
      "cell_type": "code",
      "source": [
        "tupla_frutas = (\"manzana\", \"banana\", \"manzana\", \"ciruela\", \"mango\", \"frutilla\", \"mango\")"
      ],
      "metadata": {
        "id": "mCC8JCbQluzl"
      },
      "execution_count": null,
      "outputs": []
    },
    {
      "cell_type": "markdown",
      "source": [
        "##### count\n",
        "\n",
        "Devuelve o cuenta cuantas veces aparece el elemento espeficicado"
      ],
      "metadata": {
        "id": "Nruzr3AirFf1"
      }
    },
    {
      "cell_type": "code",
      "source": [
        "numero_manzanas = tupla_frutas.count(\"manzana\")\n",
        "numero_manzanas"
      ],
      "metadata": {
        "colab": {
          "base_uri": "https://localhost:8080/"
        },
        "id": "WNGLk7Sil4BU",
        "outputId": "bc55d717-3b18-4ec6-9501-ebb1a0811a2f"
      },
      "execution_count": null,
      "outputs": [
        {
          "output_type": "execute_result",
          "data": {
            "text/plain": [
              "2"
            ]
          },
          "metadata": {},
          "execution_count": 78
        }
      ]
    },
    {
      "cell_type": "markdown",
      "source": [
        "##### index\n",
        "\n",
        "Retorna la primer posición donde encuentra el elemento especificado\n"
      ],
      "metadata": {
        "id": "wjkmWpB7rKat"
      }
    },
    {
      "cell_type": "code",
      "source": [
        "posicion_mango = tupla_frutas.index(\"mango\")\n",
        "posicion_mango"
      ],
      "metadata": {
        "colab": {
          "base_uri": "https://localhost:8080/"
        },
        "id": "98QPec63m2V_",
        "outputId": "445c1d83-a62a-4c30-f9f9-60118246787a"
      },
      "execution_count": null,
      "outputs": [
        {
          "output_type": "execute_result",
          "data": {
            "text/plain": [
              "4"
            ]
          },
          "metadata": {},
          "execution_count": 81
        }
      ]
    },
    {
      "cell_type": "markdown",
      "source": [
        "### set\n",
        "\n",
        "El set permite transformar una colección con objetos repetidos en una colección del tipo set la cual SOLO tiene valores únicos"
      ],
      "metadata": {
        "id": "yrVMYydQnMBo"
      }
    },
    {
      "cell_type": "code",
      "source": [
        "# con el set es muy util deshacerse de los valores duplicados\n",
        "\n",
        "tupla_numerica = (1, 2, 5, 10, 1, 5, 66, 30, 10)\n",
        "valores_unicos = set(tupla_numerica)\n",
        "\n",
        "valores_unicos"
      ],
      "metadata": {
        "colab": {
          "base_uri": "https://localhost:8080/"
        },
        "id": "S51iV1FbnWP6",
        "outputId": "87913006-43a1-4804-a11c-3428f42467ee"
      },
      "execution_count": null,
      "outputs": [
        {
          "output_type": "execute_result",
          "data": {
            "text/plain": [
              "{1, 2, 5, 10, 30, 66}"
            ]
          },
          "metadata": {},
          "execution_count": 82
        }
      ]
    },
    {
      "cell_type": "markdown",
      "source": [
        "### dict\n",
        "\n",
        "Los diccionarios guardan objetos con una configuración llave-valor o también conocida como key-value.\n",
        "\n",
        "Su estructura utiliza los `{}`, los valores se separan con `,` y los valores se separan de las llaves con `:`"
      ],
      "metadata": {
        "id": "GMSwkaRUnr9m"
      }
    },
    {
      "cell_type": "code",
      "source": [
        "info_personal = {\n",
        "    \"nombre\" : \"Sofia\",\n",
        "    \"apellido\" : \"Goszko\",\n",
        "    \"edad\" : 30,\n",
        "    \"lenguaje\" : \"Python\",\n",
        "    \"alumno\" : True,\n",
        "    \"Profesor\" : False\n",
        "}"
      ],
      "metadata": {
        "id": "TGoH3QwCoEER"
      },
      "execution_count": null,
      "outputs": []
    },
    {
      "cell_type": "markdown",
      "source": [
        "#### Ejercicio 2.4\n",
        "\n",
        "Vamos a trabajar con los valores del diccionario"
      ],
      "metadata": {
        "id": "TNiX4DOeos5T"
      }
    },
    {
      "cell_type": "markdown",
      "source": [
        "##### keys\n",
        "\n",
        "Permite ver las key o llaves de mi diccionario"
      ],
      "metadata": {
        "id": "r6J1NQr1rTjd"
      }
    },
    {
      "cell_type": "code",
      "source": [
        "info_personal.keys()"
      ],
      "metadata": {
        "colab": {
          "base_uri": "https://localhost:8080/"
        },
        "id": "h68soc4gozqO",
        "outputId": "bb561544-695d-4d98-f029-3f12171e562d"
      },
      "execution_count": null,
      "outputs": [
        {
          "output_type": "execute_result",
          "data": {
            "text/plain": [
              "dict_keys(['nombre', 'apellido', 'edad', 'lenguaje', 'alumno', 'Profesor'])"
            ]
          },
          "metadata": {},
          "execution_count": 94
        }
      ]
    },
    {
      "cell_type": "markdown",
      "source": [
        "##### values\n",
        "\n",
        "Permite ver los values o valores de mi diccionario"
      ],
      "metadata": {
        "id": "Hj7mYfa_rfMA"
      }
    },
    {
      "cell_type": "code",
      "source": [
        "info_personal.values()"
      ],
      "metadata": {
        "colab": {
          "base_uri": "https://localhost:8080/"
        },
        "id": "lM1uSHLWpCUP",
        "outputId": "ac54e840-5c5b-4f90-8160-283fede45759"
      },
      "execution_count": null,
      "outputs": [
        {
          "output_type": "execute_result",
          "data": {
            "text/plain": [
              "dict_values(['Sofia', 'Goszko', 30, 'Python', True, False])"
            ]
          },
          "metadata": {},
          "execution_count": 95
        }
      ]
    },
    {
      "cell_type": "markdown",
      "source": [
        "##### items\n",
        "\n",
        "Permite ver las parejas de mi diccionario\n"
      ],
      "metadata": {
        "id": "Mh2-4O5XroRV"
      }
    },
    {
      "cell_type": "code",
      "source": [
        "info_personal.items()"
      ],
      "metadata": {
        "colab": {
          "base_uri": "https://localhost:8080/"
        },
        "id": "xJ7UmykVpGoK",
        "outputId": "d6f89608-3b3a-44a6-c989-cfbeb272e08f"
      },
      "execution_count": null,
      "outputs": [
        {
          "output_type": "execute_result",
          "data": {
            "text/plain": [
              "dict_items([('nombre', 'Sofia'), ('apellido', 'Goszko'), ('edad', 30), ('lenguaje', 'Python'), ('alumno', True), ('Profesor', False)])"
            ]
          },
          "metadata": {},
          "execution_count": 96
        }
      ]
    },
    {
      "cell_type": "markdown",
      "source": [
        "##### get\n",
        "\n",
        "Con get uno puede seleccionar un valor en particular en función de la key o llave"
      ],
      "metadata": {
        "id": "dXcT8LjQruNx"
      }
    },
    {
      "cell_type": "code",
      "source": [
        "mi_apellido = info_personal.get(\"apellido\")\n",
        "mi_apellido"
      ],
      "metadata": {
        "colab": {
          "base_uri": "https://localhost:8080/",
          "height": 35
        },
        "id": "17z5fhtDpReO",
        "outputId": "c32f63e0-cce3-4cf2-a07f-138275d01e1e"
      },
      "execution_count": null,
      "outputs": [
        {
          "output_type": "execute_result",
          "data": {
            "text/plain": [
              "'Goszko'"
            ],
            "application/vnd.google.colaboratory.intrinsic+json": {
              "type": "string"
            }
          },
          "metadata": {},
          "execution_count": 88
        }
      ]
    },
    {
      "cell_type": "markdown",
      "source": [
        "##### pop\n",
        "\n",
        "Permite extraer y por consiguiente eliminar un valor a partir de su key o llave"
      ],
      "metadata": {
        "id": "UJaNNYQor0ad"
      }
    },
    {
      "cell_type": "code",
      "source": [
        "mi_edad = info_personal.pop(\"edad\")\n",
        "mi_edad"
      ],
      "metadata": {
        "colab": {
          "base_uri": "https://localhost:8080/"
        },
        "id": "mL94s-5QpnNv",
        "outputId": "9026d4ba-0957-4004-d196-1ec4f6d8e51b"
      },
      "execution_count": null,
      "outputs": [
        {
          "output_type": "execute_result",
          "data": {
            "text/plain": [
              "30"
            ]
          },
          "metadata": {},
          "execution_count": 89
        }
      ]
    },
    {
      "cell_type": "code",
      "source": [
        "info_personal"
      ],
      "metadata": {
        "colab": {
          "base_uri": "https://localhost:8080/"
        },
        "id": "_X5vp8ChpyHL",
        "outputId": "4c0dda40-108a-472e-c604-7005b812e009"
      },
      "execution_count": null,
      "outputs": [
        {
          "output_type": "execute_result",
          "data": {
            "text/plain": [
              "{'nombre': 'Sofia',\n",
              " 'apellido': 'Goszko',\n",
              " 'lenguaje': 'Python',\n",
              " 'alumno': True,\n",
              " 'Profesor': False}"
            ]
          },
          "metadata": {},
          "execution_count": 90
        }
      ]
    },
    {
      "cell_type": "markdown",
      "source": [
        "##### clear\n",
        "\n",
        "Permite limpiar todo el contenido del diccionario"
      ],
      "metadata": {
        "id": "bt5pydVgr73l"
      }
    },
    {
      "cell_type": "code",
      "source": [
        "info_personal.clear()\n",
        "info_personal"
      ],
      "metadata": {
        "colab": {
          "base_uri": "https://localhost:8080/"
        },
        "id": "elr78zcTp2Xg",
        "outputId": "d533ed33-877b-4888-aca3-408d59624735"
      },
      "execution_count": null,
      "outputs": [
        {
          "output_type": "execute_result",
          "data": {
            "text/plain": [
              "{}"
            ]
          },
          "metadata": {},
          "execution_count": 97
        }
      ]
    }
  ]
}