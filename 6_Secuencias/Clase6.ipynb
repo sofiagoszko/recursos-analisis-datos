{
  "nbformat": 4,
  "nbformat_minor": 0,
  "metadata": {
    "colab": {
      "provenance": []
    },
    "kernelspec": {
      "name": "python3",
      "display_name": "Python 3"
    },
    "language_info": {
      "name": "python"
    }
  },
  "cells": [
    {
      "cell_type": "markdown",
      "source": [
        "# CLASE 6"
      ],
      "metadata": {
        "id": "hHK04J03Y8T_"
      }
    },
    {
      "cell_type": "markdown",
      "source": [
        "## ESTRUCTURAS DE CONTROL\n",
        "\n",
        "Veamos que nos ofrece Python para ejecutar código en base a una condición de forma permanente o indefinida hasta que se cumpla una condicón preestablecida."
      ],
      "metadata": {
        "id": "vjDynXPQZCFq"
      }
    },
    {
      "cell_type": "markdown",
      "source": [
        "### while()\n",
        "\n",
        "`while()` es una palabra clave en Python que se utiliza para crear bucles que se ejecutan mientras una condición sea verdadera.\n",
        "\n",
        "\n",
        "- Mientras la condición especificada sea cierta, el código dentro del bucle `while()` se ejecutará repetidamente.\n",
        "- Una vez que la condición se vuelva falsa, la ejecución del bucle se detendrá y el control del programa continuará después del bucle."
      ],
      "metadata": {
        "id": "TCNkK7efZX7D"
      }
    },
    {
      "cell_type": "markdown",
      "source": [
        "#### Ejercicio 1.0\n",
        "\n",
        "Veamos como funcionan los ciclos while y a que se refiere con ejecución indefinida"
      ],
      "metadata": {
        "id": "5cUcAcSCZ6MQ"
      }
    },
    {
      "cell_type": "markdown",
      "source": [
        "**MUCHO CUIDADO, NO EJECUTAR POR MUCHOS SEGUNDOS YA QUE PUEDE CONSUMIR TODA LA MEMORIA DISPONIBLE AL QUEDARSE IMPIMIENDO VALORES POR SIEMPRE**\n",
        "\n",
        "*marca error ya que se detuvo la ejecución de forma forzada*"
      ],
      "metadata": {
        "id": "f6VWiX_Ca13m"
      }
    },
    {
      "cell_type": "code",
      "execution_count": 1,
      "metadata": {
        "colab": {
          "base_uri": "https://localhost:8080/",
          "height": 1000
        },
        "id": "5Guh-_4FYnJr",
        "outputId": "210ef876-4c65-43e4-a40e-06acb570831b"
      },
      "outputs": [
        {
          "output_type": "stream",
          "name": "stdout",
          "text": [
            "\u001b[1;30;43mSe han truncado las últimas 5000 líneas del flujo de salida.\u001b[0m\n",
            "Código en ejecución\n",
            "Código en ejecución\n",
            "Código en ejecución\n",
            "Código en ejecución\n",
            "Código en ejecución\n",
            "Código en ejecución\n",
            "Código en ejecución\n",
            "Código en ejecución\n",
            "Código en ejecución\n",
            "Código en ejecución\n",
            "Código en ejecución\n",
            "Código en ejecución\n",
            "Código en ejecución\n",
            "Código en ejecución\n",
            "Código en ejecución\n",
            "Código en ejecución\n",
            "Código en ejecución\n",
            "Código en ejecución\n",
            "Código en ejecución\n",
            "Código en ejecución\n",
            "Código en ejecución\n",
            "Código en ejecución\n",
            "Código en ejecución\n",
            "Código en ejecución\n",
            "Código en ejecución\n",
            "Código en ejecución\n",
            "Código en ejecución\n",
            "Código en ejecución\n"
          ]
        },
        {
          "output_type": "error",
          "ename": "KeyboardInterrupt",
          "evalue": "",
          "traceback": [
            "\u001b[0;31m---------------------------------------------------------------------------\u001b[0m",
            "\u001b[0;31mKeyboardInterrupt\u001b[0m                         Traceback (most recent call last)",
            "\u001b[0;32m<ipython-input-1-241fd8cf2f84>\u001b[0m in \u001b[0;36m<cell line: 1>\u001b[0;34m()\u001b[0m\n\u001b[1;32m      1\u001b[0m \u001b[0;32mwhile\u001b[0m \u001b[0;32mTrue\u001b[0m\u001b[0;34m:\u001b[0m\u001b[0;34m\u001b[0m\u001b[0;34m\u001b[0m\u001b[0m\n\u001b[0;32m----> 2\u001b[0;31m   \u001b[0mprint\u001b[0m\u001b[0;34m(\u001b[0m\u001b[0;34m\"Código en ejecución\"\u001b[0m\u001b[0;34m)\u001b[0m\u001b[0;34m\u001b[0m\u001b[0;34m\u001b[0m\u001b[0m\n\u001b[0m",
            "\u001b[0;32m/usr/local/lib/python3.10/dist-packages/ipykernel/iostream.py\u001b[0m in \u001b[0;36mwrite\u001b[0;34m(self, string)\u001b[0m\n\u001b[1;32m    400\u001b[0m             \u001b[0mis_child\u001b[0m \u001b[0;34m=\u001b[0m \u001b[0;34m(\u001b[0m\u001b[0;32mnot\u001b[0m \u001b[0mself\u001b[0m\u001b[0;34m.\u001b[0m\u001b[0m_is_master_process\u001b[0m\u001b[0;34m(\u001b[0m\u001b[0;34m)\u001b[0m\u001b[0;34m)\u001b[0m\u001b[0;34m\u001b[0m\u001b[0;34m\u001b[0m\u001b[0m\n\u001b[1;32m    401\u001b[0m             \u001b[0;31m# only touch the buffer in the IO thread to avoid races\u001b[0m\u001b[0;34m\u001b[0m\u001b[0;34m\u001b[0m\u001b[0m\n\u001b[0;32m--> 402\u001b[0;31m             \u001b[0mself\u001b[0m\u001b[0;34m.\u001b[0m\u001b[0mpub_thread\u001b[0m\u001b[0;34m.\u001b[0m\u001b[0mschedule\u001b[0m\u001b[0;34m(\u001b[0m\u001b[0;32mlambda\u001b[0m \u001b[0;34m:\u001b[0m \u001b[0mself\u001b[0m\u001b[0;34m.\u001b[0m\u001b[0m_buffer\u001b[0m\u001b[0;34m.\u001b[0m\u001b[0mwrite\u001b[0m\u001b[0;34m(\u001b[0m\u001b[0mstring\u001b[0m\u001b[0;34m)\u001b[0m\u001b[0;34m)\u001b[0m\u001b[0;34m\u001b[0m\u001b[0;34m\u001b[0m\u001b[0m\n\u001b[0m\u001b[1;32m    403\u001b[0m             \u001b[0;32mif\u001b[0m \u001b[0mis_child\u001b[0m\u001b[0;34m:\u001b[0m\u001b[0;34m\u001b[0m\u001b[0;34m\u001b[0m\u001b[0m\n\u001b[1;32m    404\u001b[0m                 \u001b[0;31m# mp.Pool cannot be trusted to flush promptly (or ever),\u001b[0m\u001b[0;34m\u001b[0m\u001b[0;34m\u001b[0m\u001b[0m\n",
            "\u001b[0;32m/usr/local/lib/python3.10/dist-packages/ipykernel/iostream.py\u001b[0m in \u001b[0;36mschedule\u001b[0;34m(self, f)\u001b[0m\n\u001b[1;32m    201\u001b[0m             \u001b[0mself\u001b[0m\u001b[0;34m.\u001b[0m\u001b[0m_events\u001b[0m\u001b[0;34m.\u001b[0m\u001b[0mappend\u001b[0m\u001b[0;34m(\u001b[0m\u001b[0mf\u001b[0m\u001b[0;34m)\u001b[0m\u001b[0;34m\u001b[0m\u001b[0;34m\u001b[0m\u001b[0m\n\u001b[1;32m    202\u001b[0m             \u001b[0;31m# wake event thread (message content is ignored)\u001b[0m\u001b[0;34m\u001b[0m\u001b[0;34m\u001b[0m\u001b[0m\n\u001b[0;32m--> 203\u001b[0;31m             \u001b[0mself\u001b[0m\u001b[0;34m.\u001b[0m\u001b[0m_event_pipe\u001b[0m\u001b[0;34m.\u001b[0m\u001b[0msend\u001b[0m\u001b[0;34m(\u001b[0m\u001b[0;34mb''\u001b[0m\u001b[0;34m)\u001b[0m\u001b[0;34m\u001b[0m\u001b[0;34m\u001b[0m\u001b[0m\n\u001b[0m\u001b[1;32m    204\u001b[0m         \u001b[0;32melse\u001b[0m\u001b[0;34m:\u001b[0m\u001b[0;34m\u001b[0m\u001b[0;34m\u001b[0m\u001b[0m\n\u001b[1;32m    205\u001b[0m             \u001b[0mf\u001b[0m\u001b[0;34m(\u001b[0m\u001b[0;34m)\u001b[0m\u001b[0;34m\u001b[0m\u001b[0;34m\u001b[0m\u001b[0m\n",
            "\u001b[0;32m/usr/local/lib/python3.10/dist-packages/zmq/sugar/socket.py\u001b[0m in \u001b[0;36msend\u001b[0;34m(self, data, flags, copy, track, routing_id, group)\u001b[0m\n\u001b[1;32m    616\u001b[0m                 )\n\u001b[1;32m    617\u001b[0m             \u001b[0mdata\u001b[0m\u001b[0;34m.\u001b[0m\u001b[0mgroup\u001b[0m \u001b[0;34m=\u001b[0m \u001b[0mgroup\u001b[0m\u001b[0;34m\u001b[0m\u001b[0;34m\u001b[0m\u001b[0m\n\u001b[0;32m--> 618\u001b[0;31m         \u001b[0;32mreturn\u001b[0m \u001b[0msuper\u001b[0m\u001b[0;34m(\u001b[0m\u001b[0;34m)\u001b[0m\u001b[0;34m.\u001b[0m\u001b[0msend\u001b[0m\u001b[0;34m(\u001b[0m\u001b[0mdata\u001b[0m\u001b[0;34m,\u001b[0m \u001b[0mflags\u001b[0m\u001b[0;34m=\u001b[0m\u001b[0mflags\u001b[0m\u001b[0;34m,\u001b[0m \u001b[0mcopy\u001b[0m\u001b[0;34m=\u001b[0m\u001b[0mcopy\u001b[0m\u001b[0;34m,\u001b[0m \u001b[0mtrack\u001b[0m\u001b[0;34m=\u001b[0m\u001b[0mtrack\u001b[0m\u001b[0;34m)\u001b[0m\u001b[0;34m\u001b[0m\u001b[0;34m\u001b[0m\u001b[0m\n\u001b[0m\u001b[1;32m    619\u001b[0m \u001b[0;34m\u001b[0m\u001b[0m\n\u001b[1;32m    620\u001b[0m     def send_multipart(\n",
            "\u001b[0;32mzmq/backend/cython/socket.pyx\u001b[0m in \u001b[0;36mzmq.backend.cython.socket.Socket.send\u001b[0;34m()\u001b[0m\n",
            "\u001b[0;32mzmq/backend/cython/socket.pyx\u001b[0m in \u001b[0;36mzmq.backend.cython.socket.Socket.send\u001b[0;34m()\u001b[0m\n",
            "\u001b[0;32mzmq/backend/cython/socket.pyx\u001b[0m in \u001b[0;36mzmq.backend.cython.socket._send_copy\u001b[0;34m()\u001b[0m\n",
            "\u001b[0;32m/usr/local/lib/python3.10/dist-packages/zmq/backend/cython/checkrc.pxd\u001b[0m in \u001b[0;36mzmq.backend.cython.checkrc._check_rc\u001b[0;34m()\u001b[0m\n",
            "\u001b[0;31mKeyboardInterrupt\u001b[0m: "
          ]
        }
      ],
      "source": [
        "while True:\n",
        "  print(\"Código en ejecución\")"
      ]
    },
    {
      "cell_type": "markdown",
      "source": [
        "#### Ejercicio 1.1\n",
        "\n",
        "Vimos que el ciclo while al quedar con un valor True se va a ejecutar permanentemente, esto quiere decir que mediante una lógica debemos controlar cuando queremos que pare.\n",
        "\n",
        "Veamos un ejemplo donde una vez ingresemos nuestra contraseña el ciclo while se detenga, caso contrario nos siga pidiendo que la ingresemos bien"
      ],
      "metadata": {
        "id": "JrVj0WC_bF1t"
      }
    },
    {
      "cell_type": "code",
      "source": [
        "password_usuario = \"ab90s2\"\n",
        "password_ingresada = input(\"Ingrese su contraseña: \")\n",
        "\n",
        "\n",
        "while (password_usuario != password_ingresada):\n",
        "  print(\"La contraseña\",password_ingresada,\"es incorrecta re intente por favor\")\n",
        "  password_ingresada = input(\"Ingrese su contraseña nuevamente: \")"
      ],
      "metadata": {
        "colab": {
          "base_uri": "https://localhost:8080/"
        },
        "id": "Xe2QR6ClbXzZ",
        "outputId": "d64c6819-1a07-40cf-adc9-2ef304f65eb8"
      },
      "execution_count": 2,
      "outputs": [
        {
          "name": "stdout",
          "output_type": "stream",
          "text": [
            "Ingrese su contraseña: 2jsah2\n",
            "La contraseña 2jsah2 es incorrecta re intente por favor\n",
            "Ingrese su contraseña nuevamente: as20cs\n",
            "La contraseña as20cs es incorrecta re intente por favor\n",
            "Ingrese su contraseña nuevamente: ab90s2\n"
          ]
        }
      ]
    },
    {
      "cell_type": "markdown",
      "source": [
        "#### Ejercicio 1.2\n",
        "\n",
        "Ahora vimos como deterner nuestro ciclo de forma manual, podemos hacer algo similar con números de forma automatica, incrementando el valor y que al llegar al deseado se detenga."
      ],
      "metadata": {
        "id": "wevLQr_6ca56"
      }
    },
    {
      "cell_type": "code",
      "source": [
        "numero_ciclo_while = 1\n",
        "while numero_ciclo_while < 10:\n",
        "  print(numero_ciclo_while)\n",
        "  numero_ciclo_while += 1 #Recordemos que con += 1 sumamos 1 al valor previo de nuestra variable y la reescribimos"
      ],
      "metadata": {
        "colab": {
          "base_uri": "https://localhost:8080/"
        },
        "id": "HabePG0wcqys",
        "outputId": "14a3050d-4322-4761-e1c2-cec8259ca985"
      },
      "execution_count": 3,
      "outputs": [
        {
          "output_type": "stream",
          "name": "stdout",
          "text": [
            "1\n",
            "2\n",
            "3\n",
            "4\n",
            "5\n",
            "6\n",
            "7\n",
            "8\n",
            "9\n"
          ]
        }
      ]
    },
    {
      "cell_type": "markdown",
      "source": [
        "### while() with else\n",
        "\n",
        "Con while tambien podemos utilizar la palabra resevada `else` para definir que hacer una vez nuestro ciclo while deje de ejecutarse.\n"
      ],
      "metadata": {
        "id": "n9h98XUin8z1"
      }
    },
    {
      "cell_type": "markdown",
      "source": [
        "#### Ejercicio 1.3\n",
        "\n",
        "Creemos un ciclo while que ahora pida el nombre de usuario, y una vez el nombre sea el adecuado le de la bienvenida"
      ],
      "metadata": {
        "id": "PGdwtkiZfDAa"
      }
    },
    {
      "cell_type": "code",
      "source": [
        "nombre_usuario = \"andres\"\n",
        "nombre_ingresado = input(\"Ingrese su nombre: \")\n",
        "\n",
        "\n",
        "while (nombre_usuario != nombre_ingresado):\n",
        "  print(\"El usuario\",nombre_ingresado,\"es incorrecto re intente por favor\")\n",
        "  nombre_ingresado = input(\"Ingrese su nombre nuevamente: \")\n",
        "else:\n",
        "  print(\"Bienvenido\",nombre_ingresado)"
      ],
      "metadata": {
        "colab": {
          "base_uri": "https://localhost:8080/"
        },
        "id": "1EJs9v8ifCiQ",
        "outputId": "b8cf7e5c-13ff-4d9b-e2c9-4c716b5efdff"
      },
      "execution_count": 4,
      "outputs": [
        {
          "output_type": "stream",
          "name": "stdout",
          "text": [
            "Ingrese su nombre: carlos\n",
            "El usuario carlos es incorrecto re intente por favor\n",
            "Ingrese su nombre nuevamente: ANDRES\n",
            "El usuario ANDRES es incorrecto re intente por favor\n",
            "Ingrese su nombre nuevamente: andres\n",
            "Bienvenido andres\n"
          ]
        }
      ]
    },
    {
      "cell_type": "markdown",
      "source": [
        "### while() with break\n",
        "\n",
        "`break` puede usarse para salir prematuramente de un bucle basado en una condición específica.\n"
      ],
      "metadata": {
        "id": "2XGI_J2vn5Gd"
      }
    },
    {
      "cell_type": "markdown",
      "source": [
        "#### Ejercicio 1.4\n",
        "\n",
        "En este caso utilizamos if para \"disparar\" nuestro `break`.\n",
        "\n",
        "Nuestro ciclo while se va a ejecutar siempre que nuestro numero_entero sea menor que 10.\n",
        "\n",
        "Pero si por alguna razon nuestro numero_entero es 5 queremos que se detenga de inmediato\n"
      ],
      "metadata": {
        "id": "di7WVlqDoaaw"
      }
    },
    {
      "cell_type": "code",
      "source": [
        "numero_entero = 0\n",
        "\n",
        "while numero_entero < 10: # while se ejecuta mientras que el numero_entero sea menor a 10\n",
        "    print(\"El numero entero es:\", numero_entero)\n",
        "    numero_entero += 1\n",
        "    if numero_entero == 5: # if contador llega a 5, ejecutamos un print() y disparamos el break\n",
        "        print(\"¡El numero entero llegó a 5, terminando el bucle!\")\n",
        "        break # palabra resevada break"
      ],
      "metadata": {
        "colab": {
          "base_uri": "https://localhost:8080/"
        },
        "id": "ySNHgnSooiaV",
        "outputId": "5a52613d-125e-466b-93f5-e5e188ae8351"
      },
      "execution_count": 5,
      "outputs": [
        {
          "output_type": "stream",
          "name": "stdout",
          "text": [
            "El numero entero es: 0\n",
            "El numero entero es: 1\n",
            "El numero entero es: 2\n",
            "El numero entero es: 3\n",
            "El numero entero es: 4\n",
            "¡El numero entero llegó a 5, terminando el bucle!\n"
          ]
        }
      ]
    },
    {
      "cell_type": "markdown",
      "source": [
        "### while() with continue\n",
        "\n",
        "Asi como break termina nuestro ciclo de forma inmediata, `continue` hace que se salte a la siguiente iteración del ciclo de forma inmediata"
      ],
      "metadata": {
        "id": "Q1z69-K2puID"
      }
    },
    {
      "cell_type": "markdown",
      "source": [
        "#### Ejercicio 1.5\n",
        "\n",
        "Ahora queremos que nuestro ciclo while cuando numero_entero sea igual a 5 no se imprima sino que salte a la siguiente iteración"
      ],
      "metadata": {
        "id": "Mll87Gahp7cc"
      }
    },
    {
      "cell_type": "code",
      "source": [
        "numero_entero = 0\n",
        "\n",
        "while numero_entero < 10: # while se ejecuta mientras que el numero_entero sea menor a 10\n",
        "    numero_entero += 1\n",
        "    if numero_entero == 5: # if contador llega a 5,disparamos el continue y NO ejecutamos un print()\n",
        "        continue # continue salta al siguiente ciclo\n",
        "    print(\"Número:\", numero_entero)"
      ],
      "metadata": {
        "colab": {
          "base_uri": "https://localhost:8080/"
        },
        "id": "KNXVbFL5qe7v",
        "outputId": "0c3b7000-e4e2-4f5c-c78e-ac89b5d3dba9"
      },
      "execution_count": 6,
      "outputs": [
        {
          "output_type": "stream",
          "name": "stdout",
          "text": [
            "Número: 1\n",
            "Número: 2\n",
            "Número: 3\n",
            "Número: 4\n",
            "Número: 6\n",
            "Número: 7\n",
            "Número: 8\n",
            "Número: 9\n",
            "Número: 10\n"
          ]
        }
      ]
    },
    {
      "cell_type": "markdown",
      "source": [
        "### for()\n",
        "\n",
        "Los ciclos `for()` se utilizan para iterar sobre secuencias de elementos.\n",
        "\n"
      ],
      "metadata": {
        "id": "BB5pfe2YbM9_"
      }
    },
    {
      "cell_type": "markdown",
      "source": [
        "#### Ejercicio 1.6\n",
        "\n",
        "Veamos un ejemplo donde recorramos cada una de las letras de un texto, y ademas vallamos contando el numero de letra y mostrando que caracter es el 1,2,3 etc..."
      ],
      "metadata": {
        "id": "m0IBr1v4diST"
      }
    },
    {
      "cell_type": "code",
      "source": [
        "texto = \"Este es un mensaje de python que contiene 55 caracteres\"\n",
        "numero_letra = 1\n",
        "\n",
        "for letra in texto:\n",
        "  mensaje = \"La letra {} es {}\".format(numero_letra,letra)\n",
        "  print(mensaje)\n",
        "  numero_letra += 1"
      ],
      "metadata": {
        "colab": {
          "base_uri": "https://localhost:8080/"
        },
        "id": "ZbuE5bEQbg5C",
        "outputId": "78a5fbad-3e6f-4888-bcb6-03def6a27354"
      },
      "execution_count": 7,
      "outputs": [
        {
          "output_type": "stream",
          "name": "stdout",
          "text": [
            "La letra 1 es E\n",
            "La letra 2 es s\n",
            "La letra 3 es t\n",
            "La letra 4 es e\n",
            "La letra 5 es  \n",
            "La letra 6 es e\n",
            "La letra 7 es s\n",
            "La letra 8 es  \n",
            "La letra 9 es u\n",
            "La letra 10 es n\n",
            "La letra 11 es  \n",
            "La letra 12 es m\n",
            "La letra 13 es e\n",
            "La letra 14 es n\n",
            "La letra 15 es s\n",
            "La letra 16 es a\n",
            "La letra 17 es j\n",
            "La letra 18 es e\n",
            "La letra 19 es  \n",
            "La letra 20 es d\n",
            "La letra 21 es e\n",
            "La letra 22 es  \n",
            "La letra 23 es p\n",
            "La letra 24 es y\n",
            "La letra 25 es t\n",
            "La letra 26 es h\n",
            "La letra 27 es o\n",
            "La letra 28 es n\n",
            "La letra 29 es  \n",
            "La letra 30 es q\n",
            "La letra 31 es u\n",
            "La letra 32 es e\n",
            "La letra 33 es  \n",
            "La letra 34 es c\n",
            "La letra 35 es o\n",
            "La letra 36 es n\n",
            "La letra 37 es t\n",
            "La letra 38 es i\n",
            "La letra 39 es e\n",
            "La letra 40 es n\n",
            "La letra 41 es e\n",
            "La letra 42 es  \n",
            "La letra 43 es 5\n",
            "La letra 44 es 5\n",
            "La letra 45 es  \n",
            "La letra 46 es c\n",
            "La letra 47 es a\n",
            "La letra 48 es r\n",
            "La letra 49 es a\n",
            "La letra 50 es c\n",
            "La letra 51 es t\n",
            "La letra 52 es e\n",
            "La letra 53 es r\n",
            "La letra 54 es e\n",
            "La letra 55 es s\n"
          ]
        }
      ]
    },
    {
      "cell_type": "markdown",
      "source": [
        "### for in range()\n",
        "\n",
        "El bucle `for in range()` es una forma conveniente de iterar sobre una secuencia de números en un rango específico.\n",
        "\n",
        "Nos permite ir pasando de un valor a otro."
      ],
      "metadata": {
        "id": "IkLVUOpKcqNu"
      }
    },
    {
      "cell_type": "markdown",
      "source": [
        "#### Ejercicio 1.7\n",
        "\n",
        "Creeemos un ciclo for in range que muestre todos los valores de 10 al 20\n",
        "\n",
        "**MUCHA ATENCIÓN VEMOS QUE EL VALOR FINAL ES NO INCLUSIVO**"
      ],
      "metadata": {
        "id": "M285Hs3XdouL"
      }
    },
    {
      "cell_type": "code",
      "source": [
        "for numero in range(10, 20):\n",
        "    print(numero)"
      ],
      "metadata": {
        "colab": {
          "base_uri": "https://localhost:8080/"
        },
        "id": "Tlr3r7OAc2kd",
        "outputId": "031a51c8-86c3-474e-c472-666ee09591db"
      },
      "execution_count": 8,
      "outputs": [
        {
          "output_type": "stream",
          "name": "stdout",
          "text": [
            "10\n",
            "11\n",
            "12\n",
            "13\n",
            "14\n",
            "15\n",
            "16\n",
            "17\n",
            "18\n",
            "19\n"
          ]
        }
      ]
    },
    {
      "cell_type": "markdown",
      "source": [
        "#### Ejercicio 1.8\n",
        "\n",
        "Una ventaja de los ciclos for es que podemos indicarle cada cuanto queremos que sean estos *saltos*\n",
        "\n",
        "Creemos un código que muestre los primeros 6 numeros pares (sin incluir el cero)"
      ],
      "metadata": {
        "id": "a8RQ_ir7dtAZ"
      }
    },
    {
      "cell_type": "code",
      "source": [
        "for valores_pares in range(2, 14, 2):\n",
        "    print(valores_pares)"
      ],
      "metadata": {
        "colab": {
          "base_uri": "https://localhost:8080/"
        },
        "id": "GMKMcof9d72j",
        "outputId": "f9b6c1dc-76b0-483a-ff02-8e87885355c5"
      },
      "execution_count": 9,
      "outputs": [
        {
          "output_type": "stream",
          "name": "stdout",
          "text": [
            "2\n",
            "4\n",
            "6\n",
            "8\n",
            "10\n",
            "12\n"
          ]
        }
      ]
    },
    {
      "cell_type": "markdown",
      "source": [
        "#### Ejercicio 1.9\n",
        "\n",
        "Otra opcion es recorrer hacia atras.\n",
        "\n",
        "Recorramos los numeros desde -5 hasta -15"
      ],
      "metadata": {
        "id": "n5JXy6K2e1Ev"
      }
    },
    {
      "cell_type": "code",
      "source": [
        "for numeros_negativos in range(-5, -16, -1):\n",
        "    print(numeros_negativos)"
      ],
      "metadata": {
        "colab": {
          "base_uri": "https://localhost:8080/"
        },
        "id": "gSy8aRVGfBOn",
        "outputId": "d3dc48a5-b9a7-4d4b-c481-cb9780e80926"
      },
      "execution_count": 10,
      "outputs": [
        {
          "output_type": "stream",
          "name": "stdout",
          "text": [
            "-5\n",
            "-6\n",
            "-7\n",
            "-8\n",
            "-9\n",
            "-10\n",
            "-11\n",
            "-12\n",
            "-13\n",
            "-14\n",
            "-15\n"
          ]
        }
      ]
    },
    {
      "cell_type": "markdown",
      "source": [
        "## COLECCIONES DE DATOS\n",
        "\n",
        "En python ademas de los tipos de datos \"normales\" que ya vimos, existen las llamadas colecciones de datos. Las cuales son estructuras que contienen varios datos, hay de diferentes formas y son muy utiles."
      ],
      "metadata": {
        "id": "lCTCr5TIfL5x"
      }
    },
    {
      "cell_type": "markdown",
      "source": [
        "### list\n",
        "\n",
        "Las listas se definen con `[]` y los valores se separan por `,`\n",
        "\n",
        "Las listas permiten guardar diferentes tipos de datos, en un solo objeto."
      ],
      "metadata": {
        "id": "sGyVmGslfr6s"
      }
    },
    {
      "cell_type": "markdown",
      "source": [
        "#### Ejercicio 2.0\n",
        "\n",
        "Creemos diferentes listas algunas con string adentro, otras con int, o mezclados."
      ],
      "metadata": {
        "id": "X0X2YYB9f5Ik"
      }
    },
    {
      "cell_type": "code",
      "source": [
        "lista_nombres = [\"andres\", \"maria\", \"fernando\"]\n",
        "lista_numerica = [15, 6, 8.9, -5.5]\n",
        "lista_mezclada = [\"azul\", 1, False, \"programar\", 8.8]"
      ],
      "metadata": {
        "id": "gU2cc-JSfdMi"
      },
      "execution_count": 11,
      "outputs": []
    },
    {
      "cell_type": "markdown",
      "source": [
        "#### Ejercicio 2.1\n",
        "\n",
        "Un aspecto muy importante es que si queremos acceder a un valor de una lista podemos hacer mediante su numero de indice, es decir, la posición que toma su valor.\n",
        "\n",
        "**El primer elemento de una lista tiene un indice 0**\n",
        "\n",
        "Veamos un ejemplo"
      ],
      "metadata": {
        "id": "8xp3GQtopyJR"
      }
    },
    {
      "cell_type": "code",
      "source": [
        "lista_apellidos = [\"perez\",\"garcia\", \"muñoz\",\"ruiz\"]\n",
        "\n",
        "print(\"El 1er apellido de la lista tiene indice 0 y es:\", lista_apellidos[0])\n",
        "print(\"El 3er apellido de la lista tiene indice 2 y es:\", lista_apellidos[2])"
      ],
      "metadata": {
        "colab": {
          "base_uri": "https://localhost:8080/"
        },
        "id": "DacXZ9PiqBWN",
        "outputId": "193d7c9f-bdfe-40db-8741-f896c5275054"
      },
      "execution_count": 12,
      "outputs": [
        {
          "output_type": "stream",
          "name": "stdout",
          "text": [
            "El 1er apellido de la lista tiene indice 0 y es: perez\n",
            "El 3er apellido de la lista tiene indice 2 y es: muñoz\n"
          ]
        }
      ]
    },
    {
      "cell_type": "markdown",
      "source": [
        "### Acciones con listas\n",
        "\n",
        "Con las listas podemos utilizar las siguientes acciones\n",
        "\n",
        "- Append: Agrega un elemento al final de la lista, append()\n",
        "- Extend: Añade una lista a una lista preexistente, extend()\n",
        "- Insert: Agrega un elemento en el índice determinado, insert()\n",
        "- Pop: Elimina un elemento al final de la lista o en un índice específico, pop()\n",
        "- Remove: Elimina un elemento si consigue el elemento específico, remove()\n",
        "- Sort: Ordena la lista de menor a mayor, sort()\n",
        "- Reverse: Invierte el orden de la lista, reverse()\n",
        "\n"
      ],
      "metadata": {
        "id": "H0CH6el_ijkM"
      }
    },
    {
      "cell_type": "markdown",
      "source": [
        "#### Ejercicio 2.2\n",
        "\n",
        "Creemos 3 listas:\n",
        "- Una con 5 valores numericos\n",
        "- Una con 3 frutas\n",
        "- Una con los datos personales nombre, edad, condicion_booleana_es_profesor, lenguaje_de_programacion\n",
        "\n",
        "Y utilicemos las siguientes acciones para listas con ejemplos:\n",
        "- append\n",
        "- extend\n",
        "- insert\n",
        "- pop\n",
        "- remove\n",
        "- sort\n",
        "- reverse"
      ],
      "metadata": {
        "id": "ULNYsd65g2am"
      }
    },
    {
      "cell_type": "code",
      "source": [
        "lista_valores_numericos = [5, 15, 62, -22, -77]\n",
        "lista_frutas = [\"banana\", \"pera\", \"mango\"]\n",
        "lista_datos_personales = [\"andres\", 25, True, \"python\"]"
      ],
      "metadata": {
        "id": "kv5iJBI-hfdA"
      },
      "execution_count": 13,
      "outputs": []
    },
    {
      "cell_type": "code",
      "source": [
        "type(lista_datos_personales)"
      ],
      "metadata": {
        "colab": {
          "base_uri": "https://localhost:8080/"
        },
        "id": "caoIQC48076j",
        "outputId": "6a87d2fb-6673-47e7-8e01-4ebb007c0e24"
      },
      "execution_count": 34,
      "outputs": [
        {
          "output_type": "execute_result",
          "data": {
            "text/plain": [
              "list"
            ]
          },
          "metadata": {},
          "execution_count": 34
        }
      ]
    },
    {
      "cell_type": "code",
      "source": [
        "# Agregar un valor al final de la lista utilizando append\n",
        "lista_valores_numericos.append(100)\n",
        "lista_valores_numericos"
      ],
      "metadata": {
        "colab": {
          "base_uri": "https://localhost:8080/"
        },
        "id": "Qs9YoZMhjQyR",
        "outputId": "1bc80826-9035-493a-dd2e-83f96a15970f"
      },
      "execution_count": 14,
      "outputs": [
        {
          "output_type": "execute_result",
          "data": {
            "text/plain": [
              "[5, 15, 62, -22, -77, 100]"
            ]
          },
          "metadata": {},
          "execution_count": 14
        }
      ]
    },
    {
      "cell_type": "code",
      "source": [
        "# Extender la lista de frutas con otra lista\n",
        "lista_frutas.extend([\"manzana\", \"uva\"])\n",
        "lista_frutas"
      ],
      "metadata": {
        "colab": {
          "base_uri": "https://localhost:8080/"
        },
        "id": "XkSL53fDjS2T",
        "outputId": "3eb7395d-ac0a-4e3f-801d-4c51252ac19b"
      },
      "execution_count": 15,
      "outputs": [
        {
          "output_type": "execute_result",
          "data": {
            "text/plain": [
              "['banana', 'pera', 'mango', 'manzana', 'uva']"
            ]
          },
          "metadata": {},
          "execution_count": 15
        }
      ]
    },
    {
      "cell_type": "code",
      "source": [
        "# Insertar un elemento en una posición específica\n",
        "lista_frutas.insert(2, \"kiwi\")\n",
        "lista_frutas"
      ],
      "metadata": {
        "colab": {
          "base_uri": "https://localhost:8080/"
        },
        "id": "NtquNP4mjUC9",
        "outputId": "8d7cfe78-586b-4130-cb05-7a1c156f98f6"
      },
      "execution_count": 16,
      "outputs": [
        {
          "output_type": "execute_result",
          "data": {
            "text/plain": [
              "['banana', 'pera', 'kiwi', 'mango', 'manzana', 'uva']"
            ]
          },
          "metadata": {},
          "execution_count": 16
        }
      ]
    },
    {
      "cell_type": "code",
      "source": [
        "# Eliminar y devolver el último elemento de la lista de datos personales\n",
        "ultimo_dato = lista_datos_personales.pop()\n",
        "print(\"El ultimo dato era: \", ultimo_dato)\n",
        "print(\"El la lista quedo: \",lista_datos_personales)"
      ],
      "metadata": {
        "colab": {
          "base_uri": "https://localhost:8080/"
        },
        "id": "RtKIbKT0jXDT",
        "outputId": "35b74236-ff00-4eef-8a38-679ec46a5ca1"
      },
      "execution_count": 17,
      "outputs": [
        {
          "output_type": "stream",
          "name": "stdout",
          "text": [
            "El ultimo dato era:  python\n",
            "El la lista quedo:  ['andres', 25, True]\n"
          ]
        }
      ]
    },
    {
      "cell_type": "code",
      "source": [
        "# Eliminar la primera ocurrencia de un elemento\n",
        "lista_frutas.remove(\"pera\")\n",
        "lista_frutas"
      ],
      "metadata": {
        "colab": {
          "base_uri": "https://localhost:8080/"
        },
        "id": "jMY3k5fkjbZ4",
        "outputId": "2e3a8df5-bf56-4f62-f33c-14460e8b1896"
      },
      "execution_count": 18,
      "outputs": [
        {
          "output_type": "execute_result",
          "data": {
            "text/plain": [
              "['banana', 'kiwi', 'mango', 'manzana', 'uva']"
            ]
          },
          "metadata": {},
          "execution_count": 18
        }
      ]
    },
    {
      "cell_type": "code",
      "source": [
        "# Ordenar la lista de valores numéricos de forma ascendente\n",
        "lista_valores_numericos.sort()\n",
        "lista_valores_numericos"
      ],
      "metadata": {
        "colab": {
          "base_uri": "https://localhost:8080/"
        },
        "id": "gfd021F7jceC",
        "outputId": "7f029f43-e233-41b5-99bb-930b07d8d094"
      },
      "execution_count": 19,
      "outputs": [
        {
          "output_type": "execute_result",
          "data": {
            "text/plain": [
              "[-77, -22, 5, 15, 62, 100]"
            ]
          },
          "metadata": {},
          "execution_count": 19
        }
      ]
    },
    {
      "cell_type": "code",
      "source": [
        "# Revertir el orden de la lista de frutas\n",
        "lista_frutas.reverse()\n",
        "lista_frutas"
      ],
      "metadata": {
        "colab": {
          "base_uri": "https://localhost:8080/"
        },
        "id": "hePVf-YQjdoK",
        "outputId": "882af168-1bfc-4115-8471-e607660ff2a0"
      },
      "execution_count": 20,
      "outputs": [
        {
          "output_type": "execute_result",
          "data": {
            "text/plain": [
              "['uva', 'manzana', 'mango', 'kiwi', 'banana']"
            ]
          },
          "metadata": {},
          "execution_count": 20
        }
      ]
    },
    {
      "cell_type": "markdown",
      "source": [
        "### len()\n",
        "\n",
        "Una función muy util y que debemos tener en cuenta es la función len la cual devuelve el tamaño o cantidad de valores en esta"
      ],
      "metadata": {
        "id": "lLfMRRxpo9ww"
      }
    },
    {
      "cell_type": "code",
      "source": [
        "lista_5_valores = [\"Primer Valor\", 2, True, \"4to Valor\", 5.0]\n",
        "\n",
        "len(lista_5_valores)"
      ],
      "metadata": {
        "colab": {
          "base_uri": "https://localhost:8080/"
        },
        "id": "6xgheT4zo6o5",
        "outputId": "b884eb9e-0460-4fd6-8089-8b9054af733b"
      },
      "execution_count": 21,
      "outputs": [
        {
          "output_type": "execute_result",
          "data": {
            "text/plain": [
              "5"
            ]
          },
          "metadata": {},
          "execution_count": 21
        }
      ]
    },
    {
      "cell_type": "markdown",
      "source": [
        "### tuple\n",
        "\n",
        "Las listas se definen con `()` y los valores se separan por `,`\n",
        "\n",
        "Las tuplas son muy parecidas a las listas, pero con una gran diferencia. **Son inmutables, es decir, no pueden ser alteradas despues de su creación.**\n",
        "\n",
        "Una caracteristica de las tuplas es que permiten valores duplicados\n",
        "\n"
      ],
      "metadata": {
        "id": "xOD5qC12opVz"
      }
    },
    {
      "cell_type": "markdown",
      "source": [
        "#### Ejercicio 2.3\n",
        "\n",
        "Veamos un ejemplo de tupla, donde vamos a poner 4 vehiculos. Y veremos que usando el indice podemos acceder a cada uno de los valores."
      ],
      "metadata": {
        "id": "7cMqXtOtpuI8"
      }
    },
    {
      "cell_type": "code",
      "source": [
        "tupla_vehiculos = (\"auto\", \"moto\", \"camion\", \"bicicleta\")\n",
        "\n",
        "print(\"El 1er vehiculo de la lista tiene indice 0 y es:\", tupla_vehiculos[0])\n",
        "print(\"El 4to vehiculo de la lista tiene indice 3 y es:\", tupla_vehiculos[3])"
      ],
      "metadata": {
        "colab": {
          "base_uri": "https://localhost:8080/"
        },
        "id": "vf-Hc3wfqwvf",
        "outputId": "13d8b9c4-5f81-4443-8920-7be1956c48ae"
      },
      "execution_count": 22,
      "outputs": [
        {
          "output_type": "stream",
          "name": "stdout",
          "text": [
            "El 1er vehiculo de la lista tiene indice 0 y es: auto\n",
            "El 4to vehiculo de la lista tiene indice 3 y es: bicicleta\n"
          ]
        }
      ]
    },
    {
      "cell_type": "code",
      "source": [
        "type(tupla_vehiculos)"
      ],
      "metadata": {
        "colab": {
          "base_uri": "https://localhost:8080/"
        },
        "id": "3FZQFM9v04B0",
        "outputId": "3b5a0f09-fec5-4217-9ab3-9fc2b00d0a14"
      },
      "execution_count": 33,
      "outputs": [
        {
          "output_type": "execute_result",
          "data": {
            "text/plain": [
              "tuple"
            ]
          },
          "metadata": {},
          "execution_count": 33
        }
      ]
    },
    {
      "cell_type": "markdown",
      "source": [
        "### Acciones con tuplas\n",
        "\n",
        "Con las tuplas podemos realizar las siguientes acciones:\n",
        "- Count: Identifica cuántas veces existe un elemento dentro de la tupla, count()\n",
        "- Index: Devuelve el índice del elemento determinado, index()\n"
      ],
      "metadata": {
        "id": "iKa-4tqUrlmw"
      }
    },
    {
      "cell_type": "markdown",
      "source": [
        "#### Ejercicio 2.4\n",
        "\n",
        "Creemos una tupla con verduras y veamos como usar count e index"
      ],
      "metadata": {
        "id": "Cch2Ipqiriso"
      }
    },
    {
      "cell_type": "code",
      "source": [
        "tupla_verduras = (\"acelga\", \"papa\",\"calabaza\", \"cebolla\", \"papa\")\n",
        "\n",
        "# Encontrar el índice de \"calabaza\" en la tupla\n",
        "indice_calabaza = tupla_verduras.index(\"calabaza\")\n",
        "print(\"El índice de 'calabaza' es:\", indice_calabaza)"
      ],
      "metadata": {
        "colab": {
          "base_uri": "https://localhost:8080/"
        },
        "id": "UcN5RQbvr1p3",
        "outputId": "3a01d4eb-66c7-4843-c654-3e958977a620"
      },
      "execution_count": 23,
      "outputs": [
        {
          "output_type": "stream",
          "name": "stdout",
          "text": [
            "El índice de 'calabaza' es: 2\n"
          ]
        }
      ]
    },
    {
      "cell_type": "code",
      "source": [
        "# Contar cuántas veces aparece \"papa\" en la tupla\n",
        "cantidad_papa = tupla_verduras.count(\"papa\")\n",
        "print(\"El número de veces que 'papa' aparece es:\", cantidad_papa)"
      ],
      "metadata": {
        "colab": {
          "base_uri": "https://localhost:8080/"
        },
        "id": "5RwUvUVAsRr2",
        "outputId": "4f067686-0cd0-4d01-8f6b-cbb75be4c144"
      },
      "execution_count": 24,
      "outputs": [
        {
          "output_type": "stream",
          "name": "stdout",
          "text": [
            "El número de veces que 'papa' aparece es: 2\n"
          ]
        }
      ]
    },
    {
      "cell_type": "markdown",
      "source": [
        "### set\n",
        "\n",
        "Los set de datos son similares a las tuplas ya que no permiten reordenar los valor.\n",
        "\n",
        "Pero su principal diferencia es que no puede haber duplicados, en cambio, si permiten quitar y poner elementos"
      ],
      "metadata": {
        "id": "nbAh_68CAVq6"
      }
    },
    {
      "cell_type": "markdown",
      "source": [
        "#### Ejercicio 2.5\n",
        "\n",
        "El principal uso que vamos a darle a set es cuando tengamos muchos valores repetidos en una lista, y queramos tener un conjunto de datos con los valores únicos sin repetirse con el orden de aparición.\n",
        "\n",
        "Creemos una lista con valores numéricos entre los cuales tengamos números repetidos, con set creemos un \"set\" de números únicos."
      ],
      "metadata": {
        "id": "kRy7Jjf5BKLo"
      }
    },
    {
      "cell_type": "code",
      "source": [
        "lista_valores_repetidos = (87,31,2,2,3,3,1,5,4,3,23,23,12,9,8,99,11,56,26,23,71,15,124,8,1,3,1,9,49,1,5,1)\n",
        "lista_valores_repetidos"
      ],
      "metadata": {
        "id": "ph4ZVeJKBJxv",
        "colab": {
          "base_uri": "https://localhost:8080/"
        },
        "outputId": "c97836c9-6d46-4335-9abe-b37dfb74b257"
      },
      "execution_count": 25,
      "outputs": [
        {
          "output_type": "execute_result",
          "data": {
            "text/plain": [
              "(87,\n",
              " 31,\n",
              " 2,\n",
              " 2,\n",
              " 3,\n",
              " 3,\n",
              " 1,\n",
              " 5,\n",
              " 4,\n",
              " 3,\n",
              " 23,\n",
              " 23,\n",
              " 12,\n",
              " 9,\n",
              " 8,\n",
              " 99,\n",
              " 11,\n",
              " 56,\n",
              " 26,\n",
              " 23,\n",
              " 71,\n",
              " 15,\n",
              " 124,\n",
              " 8,\n",
              " 1,\n",
              " 3,\n",
              " 1,\n",
              " 9,\n",
              " 49,\n",
              " 1,\n",
              " 5,\n",
              " 1)"
            ]
          },
          "metadata": {},
          "execution_count": 25
        }
      ]
    },
    {
      "cell_type": "code",
      "source": [
        "conjunto_unicos = set(lista_valores_repetidos) # Con set convierto a mi lista a valores sin repetetidos\n",
        "\n",
        "# Imprimir los elementos únicos\n",
        "print(\"Elementos únicos:\", conjunto_unicos)"
      ],
      "metadata": {
        "colab": {
          "base_uri": "https://localhost:8080/"
        },
        "id": "xAQtETlSwPF7",
        "outputId": "00b7be1b-50fa-4934-f28c-98d84beae3cb"
      },
      "execution_count": 27,
      "outputs": [
        {
          "output_type": "stream",
          "name": "stdout",
          "text": [
            "Elementos únicos: {1, 2, 3, 4, 5, 8, 9, 11, 12, 15, 23, 26, 31, 49, 56, 71, 87, 99, 124}\n"
          ]
        }
      ]
    },
    {
      "cell_type": "code",
      "source": [
        "type(conjunto_unicos)"
      ],
      "metadata": {
        "colab": {
          "base_uri": "https://localhost:8080/"
        },
        "id": "09flK7wRwZsG",
        "outputId": "331d4e60-34a9-47be-836b-58e6c1b7641e"
      },
      "execution_count": 28,
      "outputs": [
        {
          "output_type": "execute_result",
          "data": {
            "text/plain": [
              "set"
            ]
          },
          "metadata": {},
          "execution_count": 28
        }
      ]
    },
    {
      "cell_type": "markdown",
      "source": [
        "### dict()\n",
        "\n",
        "Los diccionarios se definen con `{}` y los elementos se separan por `,` pero para separa la clave del valor usamos `:`\n",
        "\n",
        "Los diccionarios tienen la caracteristica de guardar valores con un sistema de clave valor, es decir, voy a almacenar información pero esta va a tener un clave (como un nombre interno)\n",
        "\n"
      ],
      "metadata": {
        "id": "DKNdq4d1wg8w"
      }
    },
    {
      "cell_type": "markdown",
      "source": [
        "#### Ejercicio 2.6\n",
        "\n",
        "Creemos un diccionario con informacion personal y veamos como acceder a un valor"
      ],
      "metadata": {
        "id": "98IydBhNxIQu"
      }
    },
    {
      "cell_type": "code",
      "source": [
        "informacion_andres = {\n",
        "    \"nombre\": \"Andrés\",\n",
        "    \"apellido\": \"Muñoz\",\n",
        "    \"edad\": 25,\n",
        "    \"es_profesor\" : True,\n",
        "    \"es_alumno\" : False\n",
        "}"
      ],
      "metadata": {
        "id": "r2BB6oh8xOXp"
      },
      "execution_count": 42,
      "outputs": []
    },
    {
      "cell_type": "code",
      "source": [
        "informacion_andres"
      ],
      "metadata": {
        "colab": {
          "base_uri": "https://localhost:8080/"
        },
        "id": "ZU0Qzdd-xo4M",
        "outputId": "af06857e-4f81-41db-be83-024f8c5e40b7"
      },
      "execution_count": 31,
      "outputs": [
        {
          "output_type": "execute_result",
          "data": {
            "text/plain": [
              "{'nombre': 'Andrés',\n",
              " 'apellido': 'Muñoz',\n",
              " 'edad': 25,\n",
              " 'es_profesor': True,\n",
              " 'es_alumno': False}"
            ]
          },
          "metadata": {},
          "execution_count": 31
        }
      ]
    },
    {
      "cell_type": "code",
      "source": [
        "type(informacion_andres)"
      ],
      "metadata": {
        "colab": {
          "base_uri": "https://localhost:8080/"
        },
        "id": "kj3hiXm_0zTC",
        "outputId": "7ffeef0c-1e3c-489a-82e0-2f8244f40404"
      },
      "execution_count": 32,
      "outputs": [
        {
          "output_type": "execute_result",
          "data": {
            "text/plain": [
              "dict"
            ]
          },
          "metadata": {},
          "execution_count": 32
        }
      ]
    },
    {
      "cell_type": "markdown",
      "source": [
        "### Acciones con diccionarios\n",
        "\n",
        "- Get: Devuelve un elemento a través\n",
        "de su key, sino lo encuentra se le\n",
        "pueda dar un valor por default, get()\n",
        "- Keys: Devuelve todas las keys de un diccionario, keys()\n",
        "- Values: Devuelve todos los values de un diccionario, values()\n",
        "- Items: Devuelve todos los pares de key/values de un diccionario, items()\n",
        "- Pop: Elimina un elemento del diccionario a partir de su key, pop()\n",
        "- Clear: Elimina todos los elementos del diccionario, clear()\n",
        "\n"
      ],
      "metadata": {
        "id": "Fgl-ipjJx7Y0"
      }
    },
    {
      "cell_type": "markdown",
      "source": [
        "#### Ejercicio 2.7\n",
        "\n",
        "Con la lista creada anteriores probemos a usar las diferentes acciones disponibles"
      ],
      "metadata": {
        "id": "g4VHGw4jx4JO"
      }
    },
    {
      "cell_type": "code",
      "source": [
        "# Ejemplo de uso de get()\n",
        "apellido_persona = informacion_andres.get(\"apellido\")\n",
        "print(\"Apellido:\", apellido_persona)"
      ],
      "metadata": {
        "colab": {
          "base_uri": "https://localhost:8080/"
        },
        "id": "2Mc5NhHEy961",
        "outputId": "7b02f7c0-6bf2-47a5-a60f-bdb05b19f421"
      },
      "execution_count": 35,
      "outputs": [
        {
          "output_type": "stream",
          "name": "stdout",
          "text": [
            "Apellido: Muñoz\n"
          ]
        }
      ]
    },
    {
      "cell_type": "code",
      "source": [
        "# Ejemplo de uso de get() con valor por default\n",
        "telefono_persona = informacion_andres.get(\"telefono\", \"No disponible\")\n",
        "print(\"Teléfono:\", telefono_persona)"
      ],
      "metadata": {
        "colab": {
          "base_uri": "https://localhost:8080/"
        },
        "id": "OyeS0ZYfy_Fr",
        "outputId": "1716bb94-9d02-47e1-c59a-63cafcfcae37"
      },
      "execution_count": 36,
      "outputs": [
        {
          "output_type": "stream",
          "name": "stdout",
          "text": [
            "Teléfono: No disponible\n"
          ]
        }
      ]
    },
    {
      "cell_type": "code",
      "source": [
        "# Ejemplo de uso de keys()\n",
        "keys_diccionario = informacion_andres.keys()\n",
        "print(\"Keys:\", keys_diccionario)"
      ],
      "metadata": {
        "colab": {
          "base_uri": "https://localhost:8080/"
        },
        "id": "CsoCen-UzDif",
        "outputId": "4a54f519-3ac3-4df8-a718-c6156602a730"
      },
      "execution_count": 37,
      "outputs": [
        {
          "output_type": "stream",
          "name": "stdout",
          "text": [
            "Keys: dict_keys(['nombre', 'apellido', 'edad', 'es_profesor', 'es_alumno'])\n"
          ]
        }
      ]
    },
    {
      "cell_type": "code",
      "source": [
        "# Ejemplo de uso de values()\n",
        "values_diccionario = informacion_andres.values()\n",
        "print(\"Values:\", values_diccionario)"
      ],
      "metadata": {
        "colab": {
          "base_uri": "https://localhost:8080/"
        },
        "id": "Co407yHOzFyg",
        "outputId": "caef3935-35c2-4545-9e78-af3cf1fd9100"
      },
      "execution_count": 38,
      "outputs": [
        {
          "output_type": "stream",
          "name": "stdout",
          "text": [
            "Values: dict_values(['Andrés', 'Muñoz', 25, True, False])\n"
          ]
        }
      ]
    },
    {
      "cell_type": "code",
      "source": [
        " # Ejemplo de uso de items()\n",
        "items_diccionario = informacion_andres.items()\n",
        "print(\"Items:\", items_diccionario)"
      ],
      "metadata": {
        "colab": {
          "base_uri": "https://localhost:8080/"
        },
        "id": "FIJRTwZVzH5v",
        "outputId": "18de35ce-e29a-4706-adf6-57f8a141bc97"
      },
      "execution_count": 39,
      "outputs": [
        {
          "output_type": "stream",
          "name": "stdout",
          "text": [
            "Items: dict_items([('nombre', 'Andrés'), ('apellido', 'Muñoz'), ('edad', 25), ('es_profesor', True), ('es_alumno', False)])\n"
          ]
        }
      ]
    },
    {
      "cell_type": "code",
      "source": [
        "# Atención por elimina el valor relacionado con la key \"edad\"\n",
        "edad_persona = informacion_andres.pop(\"edad\")\n",
        "print(\"Edad:\", edad_persona)\n",
        "print(\"Diccionario después de pop:\", informacion_andres)"
      ],
      "metadata": {
        "colab": {
          "base_uri": "https://localhost:8080/"
        },
        "id": "zbT1PM9VzKdE",
        "outputId": "868f2865-6c2d-4b88-a26a-8c1e9bff00a0"
      },
      "execution_count": 43,
      "outputs": [
        {
          "output_type": "stream",
          "name": "stdout",
          "text": [
            "Edad: 25\n",
            "Diccionario después de pop: {'nombre': 'Andrés', 'apellido': 'Muñoz', 'es_profesor': True, 'es_alumno': False}\n"
          ]
        }
      ]
    },
    {
      "cell_type": "code",
      "source": [
        "# Ejemplo de uso de clear()\n",
        "informacion_andres.clear()\n",
        "print(\"Diccionario después de clear:\", informacion_andres)"
      ],
      "metadata": {
        "colab": {
          "base_uri": "https://localhost:8080/"
        },
        "id": "TLBOL7iCzsJJ",
        "outputId": "f6e44083-337a-4073-881b-0e4ed8f9f57c"
      },
      "execution_count": 41,
      "outputs": [
        {
          "output_type": "stream",
          "name": "stdout",
          "text": [
            "Diccionario después de clear: {}\n"
          ]
        }
      ]
    }
  ]
}
