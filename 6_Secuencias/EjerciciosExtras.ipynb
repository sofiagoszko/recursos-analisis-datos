{
  "nbformat": 4,
  "nbformat_minor": 0,
  "metadata": {
    "colab": {
      "provenance": [],
      "toc_visible": true
    },
    "kernelspec": {
      "name": "python3",
      "display_name": "Python 3"
    },
    "language_info": {
      "name": "python"
    }
  },
  "cells": [
    {
      "cell_type": "markdown",
      "source": [
        "# Ejercicios extras\n",
        "\n"
      ],
      "metadata": {
        "id": "fwTLHgJDSWQD"
      }
    },
    {
      "cell_type": "markdown",
      "source": [
        "## Ejercicio 1\n",
        "\n",
        "Crear un algoritmo para calcular la sumatoria de los primeros cien números (del 01 al 100) con un ciclo while."
      ],
      "metadata": {
        "id": "K2vYkHhhSabU"
      }
    },
    {
      "cell_type": "code",
      "execution_count": 3,
      "metadata": {
        "colab": {
          "base_uri": "https://localhost:8080/"
        },
        "id": "2b_Q9zR8Ve0Y",
        "outputId": "5f349a35-d5db-44cd-c0f1-7ed966f341d6"
      },
      "outputs": [
        {
          "output_type": "stream",
          "name": "stdout",
          "text": [
            "Valor inicial:0\n",
            "Valor inicial:5050\n"
          ]
        }
      ],
      "source": [
        "sumatoria = 0 #variable que contendrá la sumatoria total\n",
        "inicio = 1 #variable que indica el inicio del bucle\n",
        "fin = 100 #variable que indica el fin del bucle\n",
        "\n",
        "print(f\"Valor inicial:{sumatoria}\")\n",
        "while inicio <= fin:\n",
        "  sumatoria += inicio\n",
        "  inicio += 1\n",
        "else:\n",
        "  print(f\"Valor inicial:{sumatoria}\")\n"
      ]
    },
    {
      "cell_type": "markdown",
      "source": [
        "## Ejercicio 2\n",
        "\n",
        "Crear una lista con 5 elementos y luego aplica los siguientes accionables:\n",
        "\n",
        "- Imprimir el último elemento\n",
        "- Modificar el valor del tercer elemento\n",
        "- Agregar dos elementos\n",
        "- Eliminar algún elemento\n"
      ],
      "metadata": {
        "id": "baxf2XlZTyTQ"
      }
    },
    {
      "cell_type": "code",
      "source": [
        "lista = [1, 4, \"hola\", True, 3.14] #creo una lista con 5 elementos"
      ],
      "metadata": {
        "id": "kq_-_ZsuUElN"
      },
      "execution_count": 5,
      "outputs": []
    },
    {
      "cell_type": "code",
      "source": [
        "type(lista) #compruebo que sea una lista"
      ],
      "metadata": {
        "colab": {
          "base_uri": "https://localhost:8080/"
        },
        "id": "TG10GdCNUOVq",
        "outputId": "4b04fa4a-4cb5-4c85-c945-26ad2629b174"
      },
      "execution_count": 6,
      "outputs": [
        {
          "output_type": "execute_result",
          "data": {
            "text/plain": [
              "list"
            ]
          },
          "metadata": {},
          "execution_count": 6
        }
      ]
    },
    {
      "cell_type": "code",
      "source": [
        "lista #imprimo la lista"
      ],
      "metadata": {
        "colab": {
          "base_uri": "https://localhost:8080/"
        },
        "id": "iMZbV3aAUYE2",
        "outputId": "d2df13eb-114c-4e89-e75f-a8a45d86b586"
      },
      "execution_count": 7,
      "outputs": [
        {
          "output_type": "execute_result",
          "data": {
            "text/plain": [
              "[1, 4, 'hola', True, 3.14]"
            ]
          },
          "metadata": {},
          "execution_count": 7
        }
      ]
    },
    {
      "cell_type": "code",
      "source": [
        "lista[len(lista)-1] #imprimo el ultimo elemento de la lista [las listas empiezan desde la posición 0 por eso al largo se le resta 1]"
      ],
      "metadata": {
        "colab": {
          "base_uri": "https://localhost:8080/"
        },
        "id": "Z7Ff3s9jUouI",
        "outputId": "adee4ef4-69c3-45b4-eb82-7a250ffb4023"
      },
      "execution_count": 9,
      "outputs": [
        {
          "output_type": "execute_result",
          "data": {
            "text/plain": [
              "3.14"
            ]
          },
          "metadata": {},
          "execution_count": 9
        }
      ]
    },
    {
      "cell_type": "code",
      "source": [
        "lista[2] = \"adios\" #modifico el valor del tercer elemento\n",
        "lista"
      ],
      "metadata": {
        "colab": {
          "base_uri": "https://localhost:8080/"
        },
        "id": "2z_dwXpMU8be",
        "outputId": "3f59ddeb-7956-4dec-ff26-3f25bfaf3793"
      },
      "execution_count": 10,
      "outputs": [
        {
          "output_type": "execute_result",
          "data": {
            "text/plain": [
              "[1, 4, 'adios', True, 3.14]"
            ]
          },
          "metadata": {},
          "execution_count": 10
        }
      ]
    },
    {
      "cell_type": "code",
      "source": [
        "lista.insert(0, False) #inserto un elemento en la primer posición\n",
        "lista.append(30) #inserto un elemento al final\n",
        "\n",
        "lista"
      ],
      "metadata": {
        "colab": {
          "base_uri": "https://localhost:8080/"
        },
        "id": "oLYP4XgpVIDQ",
        "outputId": "345ddbeb-9de2-465b-f1cb-b653ef5741f5"
      },
      "execution_count": 11,
      "outputs": [
        {
          "output_type": "execute_result",
          "data": {
            "text/plain": [
              "[False, 1, 4, 'adios', True, 3.14, 30]"
            ]
          },
          "metadata": {},
          "execution_count": 11
        }
      ]
    },
    {
      "cell_type": "code",
      "source": [
        "lista.remove(4) #elimino el valor 4 de la lista\n",
        "lista"
      ],
      "metadata": {
        "colab": {
          "base_uri": "https://localhost:8080/"
        },
        "id": "Q_wsZy0DVZYD",
        "outputId": "76bf754a-4a47-4015-c9f8-4eddb4c88c64"
      },
      "execution_count": 12,
      "outputs": [
        {
          "output_type": "execute_result",
          "data": {
            "text/plain": [
              "[False, 1, 'adios', True, 3.14, 30]"
            ]
          },
          "metadata": {},
          "execution_count": 12
        }
      ]
    },
    {
      "cell_type": "markdown",
      "source": [
        "##Ejercicio 3\n",
        "\n",
        "Crea una función llamada verificar_calificacion que reciba tres parámetros: nota1, nota2 y nota3\n",
        "\n",
        "- Dentro de la función calcular el promedio de notas\n",
        "- Si el promedio es mayor o igual a 6, entonces la función debe retornar un mensaje “Aprobado”, en caso contrario “Reprobado”"
      ],
      "metadata": {
        "id": "O0NhyQHNViGm"
      }
    },
    {
      "cell_type": "code",
      "source": [
        "def verificar_calificacion(nota1, nota2, nota3):\n",
        "  promedio = (nota1 + nota2 + nota3)/3\n",
        "  mensaje = \"\"\n",
        "  if promedio >= 6:\n",
        "    mensaje = \"Aprobado\"\n",
        "  else:\n",
        "    mensaje = \"Reprobado\"\n",
        "  return mensaje\n"
      ],
      "metadata": {
        "id": "6avPG7G2VwG6"
      },
      "execution_count": 17,
      "outputs": []
    },
    {
      "cell_type": "code",
      "source": [
        "alumno = \"Sofia Goszko\"\n",
        "nota1, nota2, nota3 = 10, 7, 8\n",
        "print(f\"El alumno {alumno} está {verificar_calificacion(nota1, nota2, nota3)}\")"
      ],
      "metadata": {
        "colab": {
          "base_uri": "https://localhost:8080/"
        },
        "id": "HPP173jZWSdh",
        "outputId": "60edd4d2-8df0-4de3-a745-c2e43ab70543"
      },
      "execution_count": 18,
      "outputs": [
        {
          "output_type": "stream",
          "name": "stdout",
          "text": [
            "El alumno Sofia Goszko está Aprobado\n"
          ]
        }
      ]
    }
  ]
}