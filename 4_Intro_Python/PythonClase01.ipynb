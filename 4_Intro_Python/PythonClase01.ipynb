{
  "nbformat": 4,
  "nbformat_minor": 0,
  "metadata": {
    "colab": {
      "provenance": [],
      "collapsed_sections": [
        "hIY5Ga99XvMu"
      ],
      "toc_visible": true
    },
    "kernelspec": {
      "name": "python3",
      "display_name": "Python 3"
    },
    "language_info": {
      "name": "python"
    }
  },
  "cells": [
    {
      "cell_type": "markdown",
      "source": [
        "# Clase 1 Python\n",
        "Veamos las bases de Python\n",
        "\n",
        "\n",
        "\n",
        "\n",
        "\n",
        "\n",
        "\n"
      ],
      "metadata": {
        "id": "hU3_3pchZzTp"
      }
    },
    {
      "cell_type": "markdown",
      "source": [
        "## Cómo nombrar las variables\n",
        "\n",
        "Existen tres formar de nombrar variables en Python:\n",
        "\n",
        "\n",
        "*   snake_case\n",
        "*   camelCase\n",
        "*   PascalCase"
      ],
      "metadata": {
        "id": "YgnaDjc5z9WK"
      }
    },
    {
      "cell_type": "code",
      "source": [
        "mi_variable = 3\n",
        "miVariable2 = \"hola!\"\n",
        "MiVariable3 = True\n",
        "\n",
        "mi_variable, miVariable2, MiVariable3"
      ],
      "metadata": {
        "colab": {
          "base_uri": "https://localhost:8080/"
        },
        "id": "u4oCWO810ISd",
        "outputId": "51f7b776-da3d-4403-d5c7-9a332c99de41"
      },
      "execution_count": 1,
      "outputs": [
        {
          "output_type": "execute_result",
          "data": {
            "text/plain": [
              "(3, 'hola!', True)"
            ]
          },
          "metadata": {},
          "execution_count": 1
        }
      ]
    },
    {
      "cell_type": "markdown",
      "source": [
        "## Tipos de datos\n",
        "\n",
        "Ahora veamos los tipos de datos"
      ],
      "metadata": {
        "id": "jsKTvAx11vJZ"
      }
    },
    {
      "cell_type": "markdown",
      "source": [
        "### String"
      ],
      "metadata": {
        "id": "toQSBr773K5I"
      }
    },
    {
      "cell_type": "code",
      "source": [
        "variable_string = \"Hola soy una variable\" #creo una variable de tipo texto\n",
        "variable_string"
      ],
      "metadata": {
        "id": "RjwjI8zEZ95-",
        "colab": {
          "base_uri": "https://localhost:8080/",
          "height": 35
        },
        "outputId": "9a063659-0fdf-4559-f79c-39f558a520f5"
      },
      "execution_count": 23,
      "outputs": [
        {
          "output_type": "execute_result",
          "data": {
            "text/plain": [
              "'Hola soy una variable'"
            ],
            "application/vnd.google.colaboratory.intrinsic+json": {
              "type": "string"
            }
          },
          "metadata": {},
          "execution_count": 23
        }
      ]
    },
    {
      "cell_type": "markdown",
      "source": [
        "### Integer"
      ],
      "metadata": {
        "id": "AxUvh9Xk5lyG"
      }
    },
    {
      "cell_type": "code",
      "source": [
        "variable_integer = 10 # esto es un entero"
      ],
      "metadata": {
        "id": "h9DXLkkCatQ7"
      },
      "execution_count": 14,
      "outputs": []
    },
    {
      "cell_type": "code",
      "source": [
        "variable_integer"
      ],
      "metadata": {
        "colab": {
          "base_uri": "https://localhost:8080/"
        },
        "id": "xwXTA9Eia0GM",
        "outputId": "0bc78418-5688-4db1-dcf4-5c22fde16251"
      },
      "execution_count": 15,
      "outputs": [
        {
          "output_type": "execute_result",
          "data": {
            "text/plain": [
              "10"
            ]
          },
          "metadata": {},
          "execution_count": 15
        }
      ]
    },
    {
      "cell_type": "markdown",
      "source": [
        "### Float"
      ],
      "metadata": {
        "id": "Sa4Hn09k5xQK"
      }
    },
    {
      "cell_type": "code",
      "source": [
        "variable_decimal = 10.345 #esta es una variable decimal"
      ],
      "metadata": {
        "id": "3AjO2rgEbCKM"
      },
      "execution_count": 6,
      "outputs": []
    },
    {
      "cell_type": "code",
      "source": [
        "variable_decimal"
      ],
      "metadata": {
        "colab": {
          "base_uri": "https://localhost:8080/"
        },
        "id": "sUGv0sJBbImc",
        "outputId": "8e347aae-ac61-454b-ef02-d83d8aaa5eb7"
      },
      "execution_count": 10,
      "outputs": [
        {
          "output_type": "execute_result",
          "data": {
            "text/plain": [
              "2024.0"
            ]
          },
          "metadata": {},
          "execution_count": 10
        }
      ]
    },
    {
      "cell_type": "markdown",
      "source": [
        "### Boolean\n",
        "\n",
        "Pueden tener dos valores\n",
        "- True\n",
        "- False"
      ],
      "metadata": {
        "id": "anYL7U_x6l-d"
      }
    },
    {
      "cell_type": "code",
      "source": [
        "miVariableBooleana = True #creo una variable booleana\n",
        "miVariableBooleana"
      ],
      "metadata": {
        "colab": {
          "base_uri": "https://localhost:8080/"
        },
        "id": "r3IWG_lR6zVC",
        "outputId": "67e12e69-22cf-4b40-84e8-824e95e03d71"
      },
      "execution_count": 26,
      "outputs": [
        {
          "output_type": "execute_result",
          "data": {
            "text/plain": [
              "True"
            ]
          },
          "metadata": {},
          "execution_count": 26
        }
      ]
    },
    {
      "cell_type": "code",
      "source": [
        "miVariableBooleana = False #creo una variable booleana\n",
        "miVariableBooleana"
      ],
      "metadata": {
        "colab": {
          "base_uri": "https://localhost:8080/"
        },
        "id": "PFDPU43p69n0",
        "outputId": "d730a2ea-25f0-4ba7-9243-32babc91c69e"
      },
      "execution_count": 27,
      "outputs": [
        {
          "output_type": "execute_result",
          "data": {
            "text/plain": [
              "False"
            ]
          },
          "metadata": {},
          "execution_count": 27
        }
      ]
    },
    {
      "cell_type": "markdown",
      "source": [
        "## Operaciones"
      ],
      "metadata": {
        "id": "YcMiVuMSi4Rw"
      }
    },
    {
      "cell_type": "markdown",
      "source": [
        "### type()\n",
        "\n",
        "Permite saber de qué tipo de dato es la variable con la que estamos trabajando"
      ],
      "metadata": {
        "id": "aBJ-5HM27rW5"
      }
    },
    {
      "cell_type": "code",
      "source": [
        "type(variable_string) #muestra el tipo de dato de la variable 'variable_string'"
      ],
      "metadata": {
        "colab": {
          "base_uri": "https://localhost:8080/"
        },
        "id": "NmKd2qTm7ziR",
        "outputId": "abd2cfdb-6206-4b4c-c0e6-1c2d5d2d4325"
      },
      "execution_count": 24,
      "outputs": [
        {
          "output_type": "execute_result",
          "data": {
            "text/plain": [
              "str"
            ]
          },
          "metadata": {},
          "execution_count": 24
        }
      ]
    },
    {
      "cell_type": "code",
      "source": [
        "type(variable_integer) #muestra el tipo de dato de la variable 'variable_integer'"
      ],
      "metadata": {
        "colab": {
          "base_uri": "https://localhost:8080/"
        },
        "id": "ezmgTW0S76uY",
        "outputId": "6482129f-5714-49d0-9afd-b8eed464f3db"
      },
      "execution_count": 25,
      "outputs": [
        {
          "output_type": "execute_result",
          "data": {
            "text/plain": [
              "int"
            ]
          },
          "metadata": {},
          "execution_count": 25
        }
      ]
    },
    {
      "cell_type": "code",
      "source": [
        "type(variable_decimal) #muestra el tipo de dato de la variable 'variable_decimal'"
      ],
      "metadata": {
        "colab": {
          "base_uri": "https://localhost:8080/"
        },
        "id": "Y1wxzAN68Gkw",
        "outputId": "89881a3f-d0ea-419e-b217-82654162e3a5"
      },
      "execution_count": 28,
      "outputs": [
        {
          "output_type": "execute_result",
          "data": {
            "text/plain": [
              "float"
            ]
          },
          "metadata": {},
          "execution_count": 28
        }
      ]
    },
    {
      "cell_type": "code",
      "source": [
        "type(miVariableBooleana) ##muestra el tipo de dato de la variable 'miVariableBooleana'"
      ],
      "metadata": {
        "colab": {
          "base_uri": "https://localhost:8080/"
        },
        "id": "vKVphphF8M1R",
        "outputId": "9432ccd3-7844-4b45-c2ff-78f2627e3d93"
      },
      "execution_count": 29,
      "outputs": [
        {
          "output_type": "execute_result",
          "data": {
            "text/plain": [
              "bool"
            ]
          },
          "metadata": {},
          "execution_count": 29
        }
      ]
    },
    {
      "cell_type": "markdown",
      "source": [
        "### Cast\n",
        "\n",
        "Sirve para definir de manera estricta el tipo o para transformar (siempre que sea posible)"
      ],
      "metadata": {
        "id": "L6C7OIH48Ji-"
      }
    },
    {
      "cell_type": "code",
      "source": [
        "variable_anio_entero = 2024 #declaro una variable de tipo integer\n",
        "\n",
        "variable_string = str(variable_anio_entero) #la convierto a una de tipo string\n",
        "variable_decimal = float(variable_string) #convierto la variable de tipo string a una de tipo float\n",
        "variable_anio_entero, type(variable_anio_entero), variable_string, type(variable_string), variable_decimal, type(variable_decimal)"
      ],
      "metadata": {
        "colab": {
          "base_uri": "https://localhost:8080/"
        },
        "id": "m_xRRQY-8a5g",
        "outputId": "dce2661d-c5d3-43d9-c583-96c859ae7227"
      },
      "execution_count": 30,
      "outputs": [
        {
          "output_type": "execute_result",
          "data": {
            "text/plain": [
              "(2024, int, '2024', str, 2024.0, float)"
            ]
          },
          "metadata": {},
          "execution_count": 30
        }
      ]
    },
    {
      "cell_type": "code",
      "source": [
        "variable_decimal = 3.14 #declaro una variable de tipo float\n",
        "variable_entera = int(variable_decimal) #la convierto a una de tipo integer [trunca, no redondea]\n",
        "variable_decimal, type(variable_decimal), variable_entera, type(variable_entera)"
      ],
      "metadata": {
        "colab": {
          "base_uri": "https://localhost:8080/"
        },
        "id": "Vb4sTPUF8gEz",
        "outputId": "e55dc199-fd7f-4579-d9ae-824113d1cb58"
      },
      "execution_count": 31,
      "outputs": [
        {
          "output_type": "execute_result",
          "data": {
            "text/plain": [
              "(3.14, float, 3, int)"
            ]
          },
          "metadata": {},
          "execution_count": 31
        }
      ]
    },
    {
      "cell_type": "markdown",
      "source": [
        "### print()\n",
        "\n",
        "Permite imprimir valores"
      ],
      "metadata": {
        "id": "NcqazIBU8joR"
      }
    },
    {
      "cell_type": "code",
      "source": [
        "# Mis datos personales\n",
        "mi_nombre = \"Sofia\"\n",
        "mi_apellido = \"Goszko\"\n",
        "edad = 30\n",
        "numero_decimal_favorito = 33.33\n",
        "fumador = False\n",
        "alumno = True\n",
        "\n",
        "print(\"Nombre:\", mi_nombre)\n",
        "print(\"Apellido:\", mi_apellido)\n",
        "print(\"Edad:\", edad)\n",
        "print(\"Numero decimal:\", numero_decimal_favorito)\n",
        "print(\"Fumador:\", fumador)\n",
        "print(\"Alumno:\", alumno)"
      ],
      "metadata": {
        "colab": {
          "base_uri": "https://localhost:8080/"
        },
        "id": "YYXXgfl68wKH",
        "outputId": "a2bd8fea-4e97-4124-c109-bb84e787aba4"
      },
      "execution_count": 21,
      "outputs": [
        {
          "output_type": "stream",
          "name": "stdout",
          "text": [
            "Nombre: Sofia\n",
            "Apellido: Goszko\n",
            "Edad: 30\n",
            "Numero decimal: 33.33\n",
            "Fumador: False\n",
            "Alumno: True\n"
          ]
        }
      ]
    },
    {
      "cell_type": "code",
      "source": [
        "print(f'Mi nombre: {mi_nombre}. Apellido: {mi_apellido}. Edad: {edad}')"
      ],
      "metadata": {
        "colab": {
          "base_uri": "https://localhost:8080/"
        },
        "id": "YXXbWO_V82Yu",
        "outputId": "b48e3fa2-abe2-4f77-b797-04b4a71c828e"
      },
      "execution_count": 22,
      "outputs": [
        {
          "output_type": "stream",
          "name": "stdout",
          "text": [
            "Mi nombre: Sofia. Apellido: Goszko. Edad: 30\n"
          ]
        }
      ]
    },
    {
      "cell_type": "markdown",
      "source": [
        "## Operadores\n",
        "\n",
        "Dentro de Python tenemos distintos operadores\n",
        "\n",
        "- Aritméticos: suma `+`, resta `-`, multiplicacion `*`, división `/`, módulo `%`, división entera `//` y exponete `**`\n",
        "- Comparación: igual que `==`, diferente que `!=`, mayor que `>`, mayor o igual que `>=`, menor que `<`, menor o igual que `<=`\n",
        "- Lógicos: AND `&`, OR `|`, NOT `not`\n",
        "- Asignación: igual `=`, incremento `+=`, decremento `-=`"
      ],
      "metadata": {
        "id": "m1bDJw5N-Rvx"
      }
    },
    {
      "cell_type": "markdown",
      "source": [
        "### Aritméticos"
      ],
      "metadata": {
        "id": "Pe1FJx5x_bDm"
      }
    },
    {
      "cell_type": "code",
      "source": [
        "num1= 10 #declaro una variable de tipo integer\n",
        "num2= 33 #declaro otra variable de tipo integer\n",
        "\n",
        "\n",
        "num1 * num2, num1 + num2, num1 / num2, num1 // num2, num1 % num2 #multiplicación, suma, división, división entera, módulo\n"
      ],
      "metadata": {
        "colab": {
          "base_uri": "https://localhost:8080/"
        },
        "id": "sw4NhO-Ei6DN",
        "outputId": "d4bc1ab2-44bf-41da-ff82-38a420516df6"
      },
      "execution_count": 32,
      "outputs": [
        {
          "output_type": "execute_result",
          "data": {
            "text/plain": [
              "(330, 43, 0.30303030303030304, 0, 10)"
            ]
          },
          "metadata": {},
          "execution_count": 32
        }
      ]
    },
    {
      "cell_type": "code",
      "source": [
        "num1 = 3 #declaro una variable de tipo entera\n",
        "cuadrado = 3**2 #obtengo su cuadrado\n",
        "cubo = 3**3 #obtengo su cubo\n",
        "raiz = cuadrado**(1/2) #obtengo la raiz cuadrada de su cuadrado\n",
        "\n",
        "num1, cuadrado, cubo, raiz"
      ],
      "metadata": {
        "colab": {
          "base_uri": "https://localhost:8080/"
        },
        "id": "f0tNQknVkDqM",
        "outputId": "26c73e52-864e-4084-b61d-b47cd78de3e3"
      },
      "execution_count": 33,
      "outputs": [
        {
          "output_type": "execute_result",
          "data": {
            "text/plain": [
              "(3, 9, 27, 3.0)"
            ]
          },
          "metadata": {},
          "execution_count": 33
        }
      ]
    },
    {
      "cell_type": "code",
      "source": [
        "diametro = 20 #declaro el diámetro\n",
        "radio = diametro/2 #calculo el radio\n",
        "radio"
      ],
      "metadata": {
        "colab": {
          "base_uri": "https://localhost:8080/"
        },
        "id": "0QkciZ7iAx9A",
        "outputId": "7595516a-9539-4737-88ae-e99d47ef4b5a"
      },
      "execution_count": 34,
      "outputs": [
        {
          "output_type": "execute_result",
          "data": {
            "text/plain": [
              "10.0"
            ]
          },
          "metadata": {},
          "execution_count": 34
        }
      ]
    },
    {
      "cell_type": "code",
      "source": [
        "numero_pi = 3.14 #declaro una variable con el número pi\n",
        "\n",
        "area_circulo = numero_pi * (radio**2)\n",
        "area_circulo"
      ],
      "metadata": {
        "colab": {
          "base_uri": "https://localhost:8080/"
        },
        "id": "RyXv15_9BA1F",
        "outputId": "fae717dc-0fac-4d98-c32f-c51d8fcf31e3"
      },
      "execution_count": 35,
      "outputs": [
        {
          "output_type": "execute_result",
          "data": {
            "text/plain": [
              "314.0"
            ]
          },
          "metadata": {},
          "execution_count": 35
        }
      ]
    },
    {
      "cell_type": "markdown",
      "source": [
        "### Comparación"
      ],
      "metadata": {
        "id": "F-dkxFMeBbxw"
      }
    },
    {
      "cell_type": "code",
      "source": [
        "variable_min = \"argentina\"\n",
        "variable_mayusc= \"ARGENTINA\"\n",
        "\n",
        "variable_min == variable_mayusc #compara si son iguales"
      ],
      "metadata": {
        "colab": {
          "base_uri": "https://localhost:8080/"
        },
        "id": "oOFS2j1YBd5B",
        "outputId": "be574e66-5380-420d-8b52-0d1f61bcc372"
      },
      "execution_count": 38,
      "outputs": [
        {
          "output_type": "execute_result",
          "data": {
            "text/plain": [
              "False"
            ]
          },
          "metadata": {},
          "execution_count": 38
        }
      ]
    },
    {
      "cell_type": "code",
      "source": [
        "variable_min != variable_mayusc #compara si son distintas"
      ],
      "metadata": {
        "colab": {
          "base_uri": "https://localhost:8080/"
        },
        "id": "Kvy_rVOnBqVg",
        "outputId": "91ea7213-31d7-4fa5-e32e-5914703082cf"
      },
      "execution_count": 39,
      "outputs": [
        {
          "output_type": "execute_result",
          "data": {
            "text/plain": [
              "True"
            ]
          },
          "metadata": {},
          "execution_count": 39
        }
      ]
    },
    {
      "cell_type": "code",
      "source": [
        "numero1 = 10\n",
        "numero2 = 5.93\n",
        "\n",
        "numero1 > numero2 #compara si numero1 es mayor que numero2"
      ],
      "metadata": {
        "colab": {
          "base_uri": "https://localhost:8080/"
        },
        "id": "ThCjU_mYB5l3",
        "outputId": "623274f2-908e-402a-ab17-ed28193bf761"
      },
      "execution_count": 41,
      "outputs": [
        {
          "output_type": "execute_result",
          "data": {
            "text/plain": [
              "True"
            ]
          },
          "metadata": {},
          "execution_count": 41
        }
      ]
    },
    {
      "cell_type": "code",
      "source": [
        "numero1 < numero2 #compara si numero1 es menor que numero2"
      ],
      "metadata": {
        "colab": {
          "base_uri": "https://localhost:8080/"
        },
        "id": "25bUH3dkCOIM",
        "outputId": "dce43904-343d-4368-fd03-810fb7f563ff"
      },
      "execution_count": 42,
      "outputs": [
        {
          "output_type": "execute_result",
          "data": {
            "text/plain": [
              "False"
            ]
          },
          "metadata": {},
          "execution_count": 42
        }
      ]
    },
    {
      "cell_type": "markdown",
      "source": [
        "### Lógicos\n",
        "\n",
        "- AND `&`: devulve verdadero si **todas** las condiciones son verdaderas\n",
        "- OR `|`: devuelve verdadero si **al menos** una condición es verdadera\n",
        "- NOT `not`: niega la condición"
      ],
      "metadata": {
        "id": "eZOKCdHSCfz6"
      }
    },
    {
      "cell_type": "code",
      "source": [
        "condicion1 = True\n",
        "condicion2= False\n",
        "\n",
        "condicion1 & condicion2\n"
      ],
      "metadata": {
        "colab": {
          "base_uri": "https://localhost:8080/"
        },
        "id": "yi3Lemn2CSJX",
        "outputId": "7d366752-61b4-4ebb-8b66-00722aeb7881"
      },
      "execution_count": 43,
      "outputs": [
        {
          "output_type": "execute_result",
          "data": {
            "text/plain": [
              "False"
            ]
          },
          "metadata": {},
          "execution_count": 43
        }
      ]
    },
    {
      "cell_type": "code",
      "source": [
        "condicion1 | condicion2"
      ],
      "metadata": {
        "colab": {
          "base_uri": "https://localhost:8080/"
        },
        "id": "orJXrkOsDKbO",
        "outputId": "955cbaf8-9c46-4924-85f2-8c137d341aea"
      },
      "execution_count": 44,
      "outputs": [
        {
          "output_type": "execute_result",
          "data": {
            "text/plain": [
              "True"
            ]
          },
          "metadata": {},
          "execution_count": 44
        }
      ]
    },
    {
      "cell_type": "code",
      "source": [
        "not(condicion2)"
      ],
      "metadata": {
        "colab": {
          "base_uri": "https://localhost:8080/"
        },
        "id": "Bl4s6LnQDPM7",
        "outputId": "149573ac-6f69-4134-d292-53cb5a9a9309"
      },
      "execution_count": 46,
      "outputs": [
        {
          "output_type": "execute_result",
          "data": {
            "text/plain": [
              "True"
            ]
          },
          "metadata": {},
          "execution_count": 46
        }
      ]
    },
    {
      "cell_type": "code",
      "source": [
        "condicion1 & (not(condicion2))"
      ],
      "metadata": {
        "colab": {
          "base_uri": "https://localhost:8080/"
        },
        "id": "evNjHNDIDnGm",
        "outputId": "3273f222-3fa7-4a09-9fae-27eee991691f"
      },
      "execution_count": 48,
      "outputs": [
        {
          "output_type": "execute_result",
          "data": {
            "text/plain": [
              "True"
            ]
          },
          "metadata": {},
          "execution_count": 48
        }
      ]
    },
    {
      "cell_type": "code",
      "source": [
        "(not(condicion1)) | condicion2"
      ],
      "metadata": {
        "colab": {
          "base_uri": "https://localhost:8080/"
        },
        "id": "7QBGxfRzDyUN",
        "outputId": "218d28ad-d286-4dc5-89c2-705ef005c512"
      },
      "execution_count": 49,
      "outputs": [
        {
          "output_type": "execute_result",
          "data": {
            "text/plain": [
              "False"
            ]
          },
          "metadata": {},
          "execution_count": 49
        }
      ]
    },
    {
      "cell_type": "markdown",
      "source": [
        "### Asignación\n",
        "\n",
        "Ya vimos varios ejemplos de asignación, ahora veremos incrementos y decrementos"
      ],
      "metadata": {
        "id": "rhqE27VdkpqG"
      }
    },
    {
      "cell_type": "code",
      "source": [
        "valor_creciente, valor_decreciente = 0, 0 #declaro dos variables con el mismo valor inicial\n",
        "\n",
        "valor_creciente +=1 #incremento la primera en 1 unidad\n",
        "valor_decreciente -= 1 #decremento la segunda en 1 unidad\n",
        "\n",
        "valor_creciente, valor_decreciente"
      ],
      "metadata": {
        "colab": {
          "base_uri": "https://localhost:8080/"
        },
        "id": "yH4SD8jEEEUu",
        "outputId": "eda4a519-cdf9-4e3d-8f10-802286ab273a"
      },
      "execution_count": 51,
      "outputs": [
        {
          "output_type": "execute_result",
          "data": {
            "text/plain": [
              "(1, -1)"
            ]
          },
          "metadata": {},
          "execution_count": 51
        }
      ]
    },
    {
      "cell_type": "code",
      "source": [
        "valor_creciente, valor_decreciente = 0, 0 #declaro dos variables con el mismo valor inicial\n",
        "\n",
        "valor_creciente +=33 #incremento la primera en 33 unidades\n",
        "valor_decreciente -=4 #decremiento la segunda en 4 unidades\n",
        "\n",
        "valor_creciente, valor_decreciente"
      ],
      "metadata": {
        "colab": {
          "base_uri": "https://localhost:8080/"
        },
        "id": "_oSxGQLuFBpq",
        "outputId": "1d72ecf6-9683-49ec-d348-ed5cf1a67801"
      },
      "execution_count": 52,
      "outputs": [
        {
          "output_type": "execute_result",
          "data": {
            "text/plain": [
              "(33, -4)"
            ]
          },
          "metadata": {},
          "execution_count": 52
        }
      ]
    }
  ]
}