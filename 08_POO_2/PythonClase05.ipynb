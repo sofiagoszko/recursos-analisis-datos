{
  "nbformat": 4,
  "nbformat_minor": 0,
  "metadata": {
    "colab": {
      "provenance": []
    },
    "kernelspec": {
      "name": "python3",
      "display_name": "Python 3"
    },
    "language_info": {
      "name": "python"
    }
  },
  "cells": [
    {
      "cell_type": "markdown",
      "source": [
        "# Clase 5 Python - POO 2\n",
        "\n",
        "\n"
      ],
      "metadata": {
        "id": "xHTRiK-nBRxp"
      }
    },
    {
      "cell_type": "markdown",
      "source": [
        "## PROGRAMACIÓN ORIENTADA A OBJETOS 2"
      ],
      "metadata": {
        "id": "4ZCcopfFK5Od"
      }
    },
    {
      "cell_type": "markdown",
      "source": [
        "### Ejercicio 1.0\n",
        "\n",
        "Repasemos lo que vimos la clase pasada.\n",
        "\n",
        "Crearemos una clase ClienteBanco la cual tendra un nombre (priv), numero_cuenta(priv), saldo(priv), tiene_tarjeta(priv) default False.\n"
      ],
      "metadata": {
        "id": "BtNG8_BwSiVM"
      }
    },
    {
      "cell_type": "code",
      "source": [
        "class ClienteBanco:\n",
        "  def __init__(self, nombre, numero_cuenta, saldo, flag_tarjeta_credito = False): #inicializamos los atributos\n",
        "    self.__nombre = nombre #privado\n",
        "    self.__numero_cuenta = numero_cuenta #privado\n",
        "    self.__saldo = saldo #privado\n",
        "    self.flag_tarjeta_credito = flag_tarjeta_credito #publico\n",
        "\n",
        "  def __str__(self):\n",
        "    return f\"Información bancaria: \\nNumero de cuenta: {self.__numero_cuenta} \\nTitular: {self.__nombre}\"\n"
      ],
      "metadata": {
        "id": "MgQvQF-5Sa7m"
      },
      "execution_count": null,
      "outputs": []
    },
    {
      "cell_type": "code",
      "execution_count": null,
      "metadata": {
        "colab": {
          "base_uri": "https://localhost:8080/"
        },
        "id": "-N3yV5VfBP-j",
        "outputId": "4023669d-5d72-4308-c793-6e4153c119f1"
      },
      "outputs": [
        {
          "output_type": "stream",
          "name": "stdout",
          "text": [
            "Información bancaria: \n",
            "Numero de cuenta: 1111 \n",
            "Titular: Sofia\n"
          ]
        }
      ],
      "source": [
        "cliente1 = ClienteBanco(\"Sofia\", 1111, 10000)\n",
        "print(cliente1)"
      ]
    },
    {
      "cell_type": "code",
      "source": [
        "cliente1.flag_tarjeta_credito"
      ],
      "metadata": {
        "colab": {
          "base_uri": "https://localhost:8080/"
        },
        "id": "jwDAKG8fVocS",
        "outputId": "fb29085b-60cb-490a-9ea1-4b3f2dd57381"
      },
      "execution_count": null,
      "outputs": [
        {
          "output_type": "execute_result",
          "data": {
            "text/plain": [
              "False"
            ]
          },
          "metadata": {},
          "execution_count": 7
        }
      ]
    },
    {
      "cell_type": "code",
      "source": [
        "cliente2 = ClienteBanco(\"Nadia\", 2222, 40000)\n",
        "print(cliente2)"
      ],
      "metadata": {
        "colab": {
          "base_uri": "https://localhost:8080/"
        },
        "id": "w-Mg43CgWF6T",
        "outputId": "8c7131de-f908-4eac-e50e-c062d1316cab"
      },
      "execution_count": null,
      "outputs": [
        {
          "output_type": "stream",
          "name": "stdout",
          "text": [
            "Información bancaria: \n",
            "Numero de cuenta: 2222 \n",
            "Titular: Nadia\n"
          ]
        }
      ]
    },
    {
      "cell_type": "code",
      "source": [
        "cliente2.__nombre = \"Nikol\"\n",
        "print(cliente2) #no tiene efecto porque es un atributo privado"
      ],
      "metadata": {
        "colab": {
          "base_uri": "https://localhost:8080/"
        },
        "id": "IVRKwm8FWOAu",
        "outputId": "c7708981-1a01-4284-ba9b-f7e91050ecf6"
      },
      "execution_count": null,
      "outputs": [
        {
          "output_type": "stream",
          "name": "stdout",
          "text": [
            "Información bancaria: \n",
            "Numero de cuenta: 2222 \n",
            "Titular: Nadia\n"
          ]
        }
      ]
    },
    {
      "cell_type": "markdown",
      "source": [
        "### Ejercicio 1.1\n",
        "\n",
        "Para utilizar atributos privados en clases podemos crear ciertas \"políticas\" más o menos permisivas utilizando métodos.\n",
        "\n",
        "¿Qué métodos podemos utilizar?\n",
        "- getter: métodos que permiten leer atributos privados\n",
        "- setter: métodos que permiten modificar atributos privados\n",
        "\n",
        "Las palabras getter y setter **NO** son palabras reservadas, se utilizan por convención.\n"
      ],
      "metadata": {
        "id": "_HG1uSpGV4A2"
      }
    },
    {
      "cell_type": "code",
      "source": [
        "class ClienteBanco:\n",
        "  def __init__(self, nombre, numero_cuenta, saldo, flag_tarjeta_credito = False): #inicializamos los atributos\n",
        "    self.__nombre = nombre #privado\n",
        "    self.__numero_cuenta = numero_cuenta #privado\n",
        "    self.__saldo = saldo #privado\n",
        "    self.__flag_tarjeta_credito = flag_tarjeta_credito #privado\n",
        "\n",
        "  def __str__(self):\n",
        "    return f\"Información bancaria: \\nNumero de cuenta: {self.__numero_cuenta} \\nTitular: {self.__nombre}\"\n",
        "\n",
        "  def getNombre(self):\n",
        "    return self.__nombre\n",
        "\n",
        "  def getSaldo(self):\n",
        "    return self.__saldo\n",
        "\n",
        "  def getFlagTarjetaCredito(self):\n",
        "    return self.__flag_tarjeta_credito\n",
        "\n",
        "  def getNumeroCuenta(self):\n",
        "    return self.__numero_cuenta\n",
        "\n",
        "  def setSaldo(self, nuevo_saldo):\n",
        "    self.__saldo = nuevo_saldo\n",
        "\n",
        "  def setFlagTarjetaCredito(self, nuevo_estado_tarjeta_credito):\n",
        "    self.__flag_tarjeta_credito = nuevo_estado_tarjeta_credito\n",
        "\n",
        "  def extraerDinero(self, dinero_extraer):\n",
        "    if self.__saldo >= dinero_extraer:\n",
        "      self.__saldo -= dinero_extraer\n",
        "      return f\"Usted extrajo {dinero_extraer} de su cuenta {self.__numero_cuenta} \\nFondos restantes: {self.__saldo}\"\n",
        "    else:\n",
        "      return f\"Fondos insuficientes\"\n"
      ],
      "metadata": {
        "id": "zkLUvrCyV8Oi"
      },
      "execution_count": null,
      "outputs": []
    },
    {
      "cell_type": "code",
      "source": [
        "cliente3 = ClienteBanco(\"Javier\", 5555, 20000)\n"
      ],
      "metadata": {
        "id": "yre4yclWYJOe"
      },
      "execution_count": null,
      "outputs": []
    },
    {
      "cell_type": "code",
      "source": [
        "print(cliente3)\n"
      ],
      "metadata": {
        "colab": {
          "base_uri": "https://localhost:8080/"
        },
        "id": "5ZyXcvaKYX1o",
        "outputId": "6c64eb25-5b95-450a-9e40-bba1c37e0de9"
      },
      "execution_count": null,
      "outputs": [
        {
          "output_type": "stream",
          "name": "stdout",
          "text": [
            "Información bancaria: \n",
            "Numero de cuenta: 5555 \n",
            "Titular: Javier\n"
          ]
        }
      ]
    },
    {
      "cell_type": "code",
      "source": [
        "cliente3.getSaldo()\n"
      ],
      "metadata": {
        "colab": {
          "base_uri": "https://localhost:8080/"
        },
        "id": "nhClmL3yYnY0",
        "outputId": "288ad954-61d9-410c-a9f1-c249bc2a1741"
      },
      "execution_count": null,
      "outputs": [
        {
          "output_type": "execute_result",
          "data": {
            "text/plain": [
              "20000"
            ]
          },
          "metadata": {},
          "execution_count": 12
        }
      ]
    },
    {
      "cell_type": "code",
      "source": [
        "cliente3.getFlagTarjetaCredito()"
      ],
      "metadata": {
        "colab": {
          "base_uri": "https://localhost:8080/"
        },
        "id": "oeoB8WN3Ypma",
        "outputId": "f883de71-3bba-4883-f4bd-48d57b35bf7b"
      },
      "execution_count": null,
      "outputs": [
        {
          "output_type": "execute_result",
          "data": {
            "text/plain": [
              "False"
            ]
          },
          "metadata": {},
          "execution_count": 13
        }
      ]
    },
    {
      "cell_type": "code",
      "source": [
        "print(cliente3.__nombre)"
      ],
      "metadata": {
        "colab": {
          "base_uri": "https://localhost:8080/",
          "height": 141
        },
        "id": "YPOA9kSBZMaM",
        "outputId": "9b8d0b1a-fc24-4d98-e168-9ba39965461c"
      },
      "execution_count": null,
      "outputs": [
        {
          "output_type": "error",
          "ename": "AttributeError",
          "evalue": "'ClienteBanco' object has no attribute '__nombre'",
          "traceback": [
            "\u001b[0;31m---------------------------------------------------------------------------\u001b[0m",
            "\u001b[0;31mAttributeError\u001b[0m                            Traceback (most recent call last)",
            "\u001b[0;32m<ipython-input-7-673f29d43a55>\u001b[0m in \u001b[0;36m<cell line: 1>\u001b[0;34m()\u001b[0m\n\u001b[0;32m----> 1\u001b[0;31m \u001b[0mprint\u001b[0m\u001b[0;34m(\u001b[0m\u001b[0mcliente3\u001b[0m\u001b[0;34m.\u001b[0m\u001b[0m__nombre\u001b[0m\u001b[0;34m)\u001b[0m\u001b[0;34m\u001b[0m\u001b[0;34m\u001b[0m\u001b[0m\n\u001b[0m",
            "\u001b[0;31mAttributeError\u001b[0m: 'ClienteBanco' object has no attribute '__nombre'"
          ]
        }
      ]
    },
    {
      "cell_type": "code",
      "source": [
        "cliente3.getNombre()"
      ],
      "metadata": {
        "colab": {
          "base_uri": "https://localhost:8080/",
          "height": 35
        },
        "id": "axPeTvuWZxMM",
        "outputId": "98265fb5-bf9f-4ae1-b725-cd6581d7a75e"
      },
      "execution_count": null,
      "outputs": [
        {
          "output_type": "execute_result",
          "data": {
            "text/plain": [
              "'Javier'"
            ],
            "application/vnd.google.colaboratory.intrinsic+json": {
              "type": "string"
            }
          },
          "metadata": {},
          "execution_count": 14
        }
      ]
    },
    {
      "cell_type": "code",
      "source": [
        "cliente3.setSaldo(40000)"
      ],
      "metadata": {
        "id": "M6a6W2brZ0K_"
      },
      "execution_count": null,
      "outputs": []
    },
    {
      "cell_type": "code",
      "source": [
        "cliente3.getSaldo()"
      ],
      "metadata": {
        "colab": {
          "base_uri": "https://localhost:8080/"
        },
        "id": "1PdUlyofa9-L",
        "outputId": "b941e3df-9499-4751-84b5-f59410ef0530"
      },
      "execution_count": null,
      "outputs": [
        {
          "output_type": "execute_result",
          "data": {
            "text/plain": [
              "40000"
            ]
          },
          "metadata": {},
          "execution_count": 16
        }
      ]
    },
    {
      "cell_type": "code",
      "source": [
        "cliente3.extraerDinero(10000)"
      ],
      "metadata": {
        "colab": {
          "base_uri": "https://localhost:8080/",
          "height": 35
        },
        "id": "gLGqNAPQbGF6",
        "outputId": "135dd647-33ba-45e3-a814-cd38517e820f"
      },
      "execution_count": null,
      "outputs": [
        {
          "output_type": "execute_result",
          "data": {
            "text/plain": [
              "'Usted extrajo 10000 de su cuenta 5555 \\nFondos restantes: 30000'"
            ],
            "application/vnd.google.colaboratory.intrinsic+json": {
              "type": "string"
            }
          },
          "metadata": {},
          "execution_count": 17
        }
      ]
    },
    {
      "cell_type": "code",
      "source": [
        "cliente3.extraerDinero(40000)"
      ],
      "metadata": {
        "colab": {
          "base_uri": "https://localhost:8080/",
          "height": 35
        },
        "id": "j2Zvj2_1bjYI",
        "outputId": "5fcdadbe-e65c-4add-bcfc-bc7b454c71e1"
      },
      "execution_count": null,
      "outputs": [
        {
          "output_type": "execute_result",
          "data": {
            "text/plain": [
              "'Fondos insuficientes'"
            ],
            "application/vnd.google.colaboratory.intrinsic+json": {
              "type": "string"
            }
          },
          "metadata": {},
          "execution_count": 18
        }
      ]
    },
    {
      "cell_type": "markdown",
      "source": [
        "## PRIVACIDAD DE ATRIBUTOS"
      ],
      "metadata": {
        "id": "JTwA7tS_IG40"
      }
    },
    {
      "cell_type": "markdown",
      "source": [
        "### Ejercicio 1.2\n",
        "\n",
        "Se crea una contraseña para garantizar la privacidad de los atributos"
      ],
      "metadata": {
        "id": "y1sdIQnMc6Qc"
      }
    },
    {
      "cell_type": "code",
      "source": [
        "class ClienteBanco:\n",
        "  def __init__(self, nombre, password, numero_cuenta, saldo, flag_tarjeta_credito = False): #inicializamos los atributos\n",
        "    self.__nombre = nombre #privado\n",
        "    self.__password = password\n",
        "    self.__numero_cuenta = numero_cuenta #privado\n",
        "    self.__saldo = saldo #privado\n",
        "    self.__flag_tarjeta_credito = flag_tarjeta_credito #privado\n",
        "\n",
        "  def __str__(self):\n",
        "    return f\"Información bancaria: \\nNumero de cuenta: {self.__numero_cuenta} \\nTitular: {self.__nombre}\"\n",
        "\n",
        "  def getSaldo(self):\n",
        "    return self.__saldo\n",
        "\n",
        "  def getFlagTarjetaCredito(self):\n",
        "    return self.__flag_tarjeta_credito\n",
        "\n",
        "  def getNumeroCuenta(self):\n",
        "    return self.__numero_cuenta\n",
        "\n",
        "  def setSaldo(self, nuevo_saldo, password):\n",
        "    if self.__password == password:\n",
        "      self.__saldo = nuevo_saldo\n",
        "    else:\n",
        "      return f\"Password incorrecto\"\n",
        "\n",
        "  def setFlagTarjetaCredito(self, nuevo_estado_tarjeta_credito, password):\n",
        "    if self.__password == password:\n",
        "     self.__flag_tarjeta_credito = nuevo_estado_tarjeta_credito\n",
        "    else:\n",
        "      return f\"Password incorrecto\"\n",
        "\n",
        "  def extraerDinero(self, dinero_extraer, password):\n",
        "    if self.__password == password:\n",
        "      if self.__saldo >= dinero_extraer:\n",
        "        self.__saldo = self.__saldo - dinero_extraer\n",
        "        return f\"Usted extrajo {dinero_extraer} de su cuenta {self.__numero_cuenta} \\nFondos restantes: {self.__saldo}\"\n",
        "      else:\n",
        "        return f\"Fondos insuficientes\"\n",
        "    else:\n",
        "      return f\"Password incorrecto\"\n"
      ],
      "metadata": {
        "id": "T4yz9p31c8H1"
      },
      "execution_count": null,
      "outputs": []
    },
    {
      "cell_type": "code",
      "source": [
        "cliente = ClienteBanco(\"Constanza\", \"123TTT\", 9999, 200000)"
      ],
      "metadata": {
        "id": "xEmUAbbsdCXi"
      },
      "execution_count": null,
      "outputs": []
    },
    {
      "cell_type": "code",
      "source": [
        "print(cliente)"
      ],
      "metadata": {
        "colab": {
          "base_uri": "https://localhost:8080/"
        },
        "id": "duSXVf4ydyRI",
        "outputId": "d17c92bb-e1da-4b47-fecb-c6e150dea946"
      },
      "execution_count": null,
      "outputs": [
        {
          "output_type": "stream",
          "name": "stdout",
          "text": [
            "Información bancaria: \n",
            "Numero de cuenta: 9999 \n",
            "Titular: Constanza\n"
          ]
        }
      ]
    },
    {
      "cell_type": "code",
      "source": [
        "cliente.setSaldo(90000, \"8493894\")"
      ],
      "metadata": {
        "colab": {
          "base_uri": "https://localhost:8080/",
          "height": 35
        },
        "id": "PMPq1wtqd11W",
        "outputId": "8479fa51-bc8a-475a-bbaf-e6aeca1d21e5"
      },
      "execution_count": null,
      "outputs": [
        {
          "output_type": "execute_result",
          "data": {
            "text/plain": [
              "'Password incorrecto'"
            ],
            "application/vnd.google.colaboratory.intrinsic+json": {
              "type": "string"
            }
          },
          "metadata": {},
          "execution_count": 56
        }
      ]
    },
    {
      "cell_type": "code",
      "source": [
        "cliente.setSaldo(900000, \"123TTT\")"
      ],
      "metadata": {
        "id": "eIHqmchdeAf2"
      },
      "execution_count": null,
      "outputs": []
    },
    {
      "cell_type": "code",
      "source": [
        "cliente.getSaldo()"
      ],
      "metadata": {
        "colab": {
          "base_uri": "https://localhost:8080/"
        },
        "id": "LpdqvP3_eGoZ",
        "outputId": "677aeb00-f9fe-475f-edc2-811fe9d9f864"
      },
      "execution_count": null,
      "outputs": [
        {
          "output_type": "execute_result",
          "data": {
            "text/plain": [
              "900000"
            ]
          },
          "metadata": {},
          "execution_count": 58
        }
      ]
    },
    {
      "cell_type": "markdown",
      "source": [
        "### Ejercicio 1.3\n",
        "\n",
        "Creamos una clase Persona que va a tener los atributos privados (nombre, apellido, dni, nacionalidad, domicilio)\n",
        "\n",
        "Vamos a tener getters para todos pero solamente un setDomicilio"
      ],
      "metadata": {
        "id": "fNqQ0GAVed2N"
      }
    },
    {
      "cell_type": "code",
      "source": [
        "class Persona:\n",
        "  def __init__(self, nombre, apellido, dni, nacionalidad, domicilio):\n",
        "    #self.__token = token\n",
        "    self.__nombre = nombre\n",
        "    self.__apellido = apellido\n",
        "    self.__dni = dni\n",
        "    self.__nacionalidad = nacionalidad\n",
        "    self.__domicilio = domicilio\n",
        "\n",
        "  def __str__(self):\n",
        "    return f\"{self.__nombre} {self.__apellido} tiene el dni N° {self.__dni}\"\n",
        "\n",
        "  def getNombre(self):\n",
        "    return self.__nombre\n",
        "\n",
        "  def getApellido(self):\n",
        "    return self.__apellido\n",
        "\n",
        "  def getDni(self):\n",
        "    return self.__dni\n",
        "\n",
        "  def getNacionalidad(self):\n",
        "    return self.__nacionalidad\n",
        "\n",
        "  def getDomicilio(self):\n",
        "    return self.__domicilio\n",
        "\n",
        "  def setDomicilio(self, nuevo_domicilio):\n",
        "    self.__domicilio = nuevo_domicilio"
      ],
      "metadata": {
        "id": "Kmn59u2besEI"
      },
      "execution_count": null,
      "outputs": []
    },
    {
      "cell_type": "code",
      "source": [
        "persona1 = Persona(\"Sofia\", \"Goszko\", 37803102, \"Arg\", \"BsAs\")"
      ],
      "metadata": {
        "id": "BRlm2EzFf_N4"
      },
      "execution_count": null,
      "outputs": []
    },
    {
      "cell_type": "code",
      "source": [
        "print(persona1)"
      ],
      "metadata": {
        "colab": {
          "base_uri": "https://localhost:8080/"
        },
        "id": "jo3qVQjUgJtC",
        "outputId": "ac1b2e27-4c45-4d20-8899-ffca7f826651"
      },
      "execution_count": null,
      "outputs": [
        {
          "output_type": "stream",
          "name": "stdout",
          "text": [
            "Sofia Goszko tiene el dni N° 37803102\n"
          ]
        }
      ]
    },
    {
      "cell_type": "code",
      "source": [
        "persona1.getDomicilio()"
      ],
      "metadata": {
        "colab": {
          "base_uri": "https://localhost:8080/",
          "height": 35
        },
        "id": "PGW5nCXYgNxF",
        "outputId": "a3368504-4ffa-4328-cdb7-bb3730fe8993"
      },
      "execution_count": null,
      "outputs": [
        {
          "output_type": "execute_result",
          "data": {
            "text/plain": [
              "'BsAs'"
            ],
            "application/vnd.google.colaboratory.intrinsic+json": {
              "type": "string"
            }
          },
          "metadata": {},
          "execution_count": 62
        }
      ]
    },
    {
      "cell_type": "code",
      "source": [
        "persona1.setDomicilio(\"Rosario\")\n",
        "persona1.getDomicilio()"
      ],
      "metadata": {
        "colab": {
          "base_uri": "https://localhost:8080/",
          "height": 35
        },
        "id": "0PVX6H8PgRmL",
        "outputId": "b0e3de6c-4ca7-444c-ef94-f3b5fd2d3e86"
      },
      "execution_count": null,
      "outputs": [
        {
          "output_type": "execute_result",
          "data": {
            "text/plain": [
              "'Rosario'"
            ],
            "application/vnd.google.colaboratory.intrinsic+json": {
              "type": "string"
            }
          },
          "metadata": {},
          "execution_count": 63
        }
      ]
    },
    {
      "cell_type": "markdown",
      "source": [
        "## HERENCIA"
      ],
      "metadata": {
        "id": "rK62Y63GIQIj"
      }
    },
    {
      "cell_type": "markdown",
      "source": [
        "### Ejercicio 1.4\n",
        "\n",
        "Nos han pedido crear una clase llamada EmpleadoAlkemy, que va a tener atributos privados.\n",
        "Los empleados de alkemy tienen los siguientes atributos: nombre, apellido, dni, nacionalidad, domicilio, cargo, cvu_asociado, flag_facturacion.\n",
        "\n",
        "La **herencia** entre clases nos permite definit una clase **Padre** y una clase **hija** que heredará los atributos y métodos de la clase padre. Permite reutilizar códido.\n",
        "\n",
        "Las clases hijas pueden, a su vez, sobreecribir los métodos hereados."
      ],
      "metadata": {
        "id": "Y1GdAf1wgZDQ"
      }
    },
    {
      "cell_type": "code",
      "source": [
        "class EmpleadoAlkemy(Persona): #EmpleadoAlkemy va a ser una clase hija de Persona\n",
        "  def __init__(self, nombre, apellido, dni, nacionalidad, domicilio, cargo, cvu_asociado, flag_facturacion = False):\n",
        "    super().__init__(nombre, apellido, dni, nacionalidad, domicilio) #llamo al __init__ del padre\n",
        "    self.__cargo = cargo\n",
        "    self.__cvu_asociado = cvu_asociado\n",
        "    self.__flag_facturacion = flag_facturacion\n",
        "\n",
        "  def __str__(self):\n",
        "    return f\"{super().__str__()}\\nCargo: {self.__cargo} \\nCVU: {self.__cvu_asociado} \\n¿Facturó el último mes? {self.__flag_facturacion}\"\n",
        "\n",
        "  def getCargo(self):\n",
        "    return self.__cargo\n",
        "\n",
        "  def getCvuAsociado(self):\n",
        "    return self.__cvu_asociado\n",
        "\n",
        "  def getFlagFacturacion(self):\n",
        "    return self.__flag_facturacion\n",
        "\n",
        "  def setFlagFacturacion(self, nuevo_flag_facturacion):\n",
        "    self.__flag_facturacion = nuevo_flag_facturacion\n",
        "\n"
      ],
      "metadata": {
        "id": "PXt4vU6jgtvC"
      },
      "execution_count": null,
      "outputs": []
    },
    {
      "cell_type": "code",
      "source": [
        "empleado2 = EmpleadoAlkemy(\"Javier\", \"MGGP\", 12346453, \"Arg\", \"La Plata\", \"Administrativo\", 123456789, True)"
      ],
      "metadata": {
        "id": "VLbN8Xkhj1xG"
      },
      "execution_count": null,
      "outputs": []
    },
    {
      "cell_type": "code",
      "source": [
        "print(empleado2)"
      ],
      "metadata": {
        "colab": {
          "base_uri": "https://localhost:8080/"
        },
        "id": "XUB1v97FkRPp",
        "outputId": "541f9f03-8f5c-49b0-857d-84d5485327c7"
      },
      "execution_count": null,
      "outputs": [
        {
          "output_type": "stream",
          "name": "stdout",
          "text": [
            "Javier MGGP tiene el dni N° 12346453\n",
            "Cargo: Administrativo \n",
            "CVU: 123456789 \n",
            "¿Facturó el último mes? True\n"
          ]
        }
      ]
    },
    {
      "cell_type": "code",
      "source": [
        "empleado2.getDomicilio()"
      ],
      "metadata": {
        "colab": {
          "base_uri": "https://localhost:8080/",
          "height": 35
        },
        "id": "pU2Jl9gpmkm6",
        "outputId": "8d1266d9-d276-4f3e-e7dd-990b9be14dcc"
      },
      "execution_count": null,
      "outputs": [
        {
          "output_type": "execute_result",
          "data": {
            "text/plain": [
              "'La Plata'"
            ],
            "application/vnd.google.colaboratory.intrinsic+json": {
              "type": "string"
            }
          },
          "metadata": {},
          "execution_count": 69
        }
      ]
    },
    {
      "cell_type": "code",
      "source": [
        "empleado2.getCargo()"
      ],
      "metadata": {
        "colab": {
          "base_uri": "https://localhost:8080/",
          "height": 35
        },
        "id": "d31QEcPtmndV",
        "outputId": "6fa37066-8f6d-45c2-81f4-6752aa2c5df1"
      },
      "execution_count": null,
      "outputs": [
        {
          "output_type": "execute_result",
          "data": {
            "text/plain": [
              "'Administrativo'"
            ],
            "application/vnd.google.colaboratory.intrinsic+json": {
              "type": "string"
            }
          },
          "metadata": {},
          "execution_count": 70
        }
      ]
    },
    {
      "cell_type": "markdown",
      "source": [
        "## POLIMORFISMO"
      ],
      "metadata": {
        "id": "3cbh7XaVIT49"
      }
    },
    {
      "cell_type": "markdown",
      "source": [
        "### Ejercicio 1.5\n",
        "\n",
        "Vamos a crear una clase padre llamada Animal con los atributos especie y tipo y un método para ver el sonido que hace. Además, se crearán cinco clases hijas de diferentes tipos de animales.\n",
        "\n",
        "El **poliformismo** es muy util cuando tenemos varias clases con métodos iguales y tenemos que ejecutarlos.\n"
      ],
      "metadata": {
        "id": "3veUMA-Bpx0P"
      }
    },
    {
      "cell_type": "code",
      "source": [
        "class Animal:\n",
        "  def __init__(self, especie, tipo):\n",
        "    self.__especie = especie\n",
        "    self.__tipo = tipo\n",
        "\n",
        "  def __str__(self):\n",
        "    return f\"{self.__especie} -> {self.__tipo}\"\n",
        "\n",
        "  def hacerSonido(self):\n",
        "    pass\n"
      ],
      "metadata": {
        "id": "Gztx9yrIpvM5"
      },
      "execution_count": null,
      "outputs": []
    },
    {
      "cell_type": "code",
      "source": [
        "raton = Animal(\"Roedor\", \"Ciudad\")\n",
        "print(raton)"
      ],
      "metadata": {
        "colab": {
          "base_uri": "https://localhost:8080/"
        },
        "id": "2_ekD-CIqimK",
        "outputId": "46fe3fa6-9f00-4625-dcda-dca2e2b1a016"
      },
      "execution_count": null,
      "outputs": [
        {
          "output_type": "stream",
          "name": "stdout",
          "text": [
            "Roedor -> Ciudad\n"
          ]
        }
      ]
    },
    {
      "cell_type": "code",
      "source": [
        "raton.hacerSonido()"
      ],
      "metadata": {
        "id": "lL6mt-ccqpen"
      },
      "execution_count": null,
      "outputs": []
    },
    {
      "cell_type": "code",
      "source": [
        "class Vaca(Animal):\n",
        "  def hacerSonido(self): #sobreecribo el método hacerSonido\n",
        "    return f\"Muuuu\""
      ],
      "metadata": {
        "id": "m1z6RDUbqsB2"
      },
      "execution_count": null,
      "outputs": []
    },
    {
      "cell_type": "code",
      "source": [
        "class Oveja(Animal):\n",
        "  def hacerSonido(self): #sobreecribo el método hacerSonido\n",
        "    return f\"Meeeee\""
      ],
      "metadata": {
        "id": "M7iU23sgq8Ez"
      },
      "execution_count": null,
      "outputs": []
    },
    {
      "cell_type": "code",
      "source": [
        "class Gato(Animal):\n",
        "  def hacerSonido(self): #sobreecribo el método hacerSonido\n",
        "    return f\"Miau\""
      ],
      "metadata": {
        "id": "ukoDXplfq_Mb"
      },
      "execution_count": null,
      "outputs": []
    },
    {
      "cell_type": "code",
      "source": [
        "class Gallo(Animal):\n",
        "  def hacerSonido(self): #sobreecribo el método hacerSonido\n",
        "    return f\"Kikiriki\""
      ],
      "metadata": {
        "id": "_AxCQfQLrB-e"
      },
      "execution_count": null,
      "outputs": []
    },
    {
      "cell_type": "code",
      "source": [
        "class Perro(Animal):\n",
        "  def hacerSonido(self): #sobreecribo el método hacerSonido\n",
        "    return f\"Guau\""
      ],
      "metadata": {
        "id": "lQ2OONQSrG_g"
      },
      "execution_count": null,
      "outputs": []
    },
    {
      "cell_type": "code",
      "source": [
        "vaca = Vaca(\"Bobino\", \"Granja\")\n",
        "oveja = Oveja(\"Obino\", \"Campo\")\n",
        "gato = Gato(\"Mamifero\", \"Felino\")\n",
        "perro = Perro(\"Mamifero\", \"Canino\")\n",
        "gallo = Gallo(\"Oviparo\", \"Aviar\")"
      ],
      "metadata": {
        "id": "epxUCIvKrM0Y"
      },
      "execution_count": null,
      "outputs": []
    },
    {
      "cell_type": "code",
      "source": [
        "vaca.hacerSonido()"
      ],
      "metadata": {
        "colab": {
          "base_uri": "https://localhost:8080/",
          "height": 35
        },
        "id": "7LqZyT_ur1ks",
        "outputId": "52c67a78-9a97-4f14-eb74-afbc547982fe"
      },
      "execution_count": null,
      "outputs": [
        {
          "output_type": "execute_result",
          "data": {
            "text/plain": [
              "'Muuuu'"
            ],
            "application/vnd.google.colaboratory.intrinsic+json": {
              "type": "string"
            }
          },
          "metadata": {},
          "execution_count": 108
        }
      ]
    },
    {
      "cell_type": "code",
      "source": [
        "oveja.hacerSonido()"
      ],
      "metadata": {
        "colab": {
          "base_uri": "https://localhost:8080/",
          "height": 35
        },
        "id": "gWVuFERhr3qN",
        "outputId": "f85c4d03-7530-49c1-c3ae-fb3ab25236bd"
      },
      "execution_count": null,
      "outputs": [
        {
          "output_type": "execute_result",
          "data": {
            "text/plain": [
              "'Meeeee'"
            ],
            "application/vnd.google.colaboratory.intrinsic+json": {
              "type": "string"
            }
          },
          "metadata": {},
          "execution_count": 109
        }
      ]
    },
    {
      "cell_type": "code",
      "source": [
        "gato.hacerSonido()"
      ],
      "metadata": {
        "colab": {
          "base_uri": "https://localhost:8080/",
          "height": 35
        },
        "id": "clIPNIFJr741",
        "outputId": "8247af62-07a3-4f04-c9ce-71bbf54bade7"
      },
      "execution_count": null,
      "outputs": [
        {
          "output_type": "execute_result",
          "data": {
            "text/plain": [
              "'Miau'"
            ],
            "application/vnd.google.colaboratory.intrinsic+json": {
              "type": "string"
            }
          },
          "metadata": {},
          "execution_count": 110
        }
      ]
    },
    {
      "cell_type": "code",
      "source": [
        "perro.hacerSonido()"
      ],
      "metadata": {
        "colab": {
          "base_uri": "https://localhost:8080/",
          "height": 35
        },
        "id": "SIWwyX5-r7Ww",
        "outputId": "ad5818d0-0608-4e53-f38d-efe3321092de"
      },
      "execution_count": null,
      "outputs": [
        {
          "output_type": "execute_result",
          "data": {
            "text/plain": [
              "'Guau'"
            ],
            "application/vnd.google.colaboratory.intrinsic+json": {
              "type": "string"
            }
          },
          "metadata": {},
          "execution_count": 111
        }
      ]
    },
    {
      "cell_type": "code",
      "source": [
        "gallo.hacerSonido()"
      ],
      "metadata": {
        "colab": {
          "base_uri": "https://localhost:8080/",
          "height": 35
        },
        "id": "tu0UbCvwr6P1",
        "outputId": "a5980133-2da3-4ebc-8838-25b67e6bdadf"
      },
      "execution_count": null,
      "outputs": [
        {
          "output_type": "execute_result",
          "data": {
            "text/plain": [
              "'Kikiriki'"
            ],
            "application/vnd.google.colaboratory.intrinsic+json": {
              "type": "string"
            }
          },
          "metadata": {},
          "execution_count": 112
        }
      ]
    },
    {
      "cell_type": "markdown",
      "source": [
        "### Ejercicio 1.6\n",
        "\n",
        "Para no andar y copiando el mismo código muchas veces, vamos a crear una función que ejecute el método `hacerSonido()` para el objeto que se pase como parámetro.\n",
        "\n",
        "Además vamos a agrupar los objetos en una lista para poder iterarlos.\n"
      ],
      "metadata": {
        "id": "aQm4Qek5IyXD"
      }
    },
    {
      "cell_type": "code",
      "source": [
        "def ejercutarMetodoHacerSonido(animal):\n",
        "  print(animal)\n",
        "  print(animal.hacerSonido())\n",
        "\n"
      ],
      "metadata": {
        "id": "QG6bsFeysKXS"
      },
      "execution_count": 1,
      "outputs": []
    },
    {
      "cell_type": "code",
      "source": [
        "lista_animales = [vaca, oveja, gato, gallo, perro]\n",
        "\n",
        "for animal in lista_animales:\n",
        "  ejercutarMetodoHacerSonido(animal)"
      ],
      "metadata": {
        "colab": {
          "base_uri": "https://localhost:8080/"
        },
        "id": "FT7aBFNVsvre",
        "outputId": "acaf72a6-b80c-4798-894f-77271c3bc718"
      },
      "execution_count": null,
      "outputs": [
        {
          "output_type": "stream",
          "name": "stdout",
          "text": [
            "Bobino -> Granja\n",
            "Muuuu\n",
            "Obino -> Campo\n",
            "Meeeee\n",
            "Mamifero -> Felino\n",
            "Miau\n",
            "Oviparo -> Aviar\n",
            "Kikiriki\n",
            "Mamifero -> Canino\n",
            "Guau\n"
          ]
        }
      ]
    }
  ]
}